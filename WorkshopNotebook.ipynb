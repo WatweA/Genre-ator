{
 "cells": [
  {
   "cell_type": "code",
   "execution_count": 5,
   "metadata": {},
   "outputs": [
    {
     "name": "stdout",
     "output_type": "stream",
     "text": "Searching for songs by Andy Shauf...\n\nSong 1: \"Alexander All Alone\"\nSong 2: \"All the Same\"\nSong 3: \"Angela\"\n\nReached user-specified song limit (3).\nDone. Found 3 songs.\n[('Alexander All Alone', 'Andy Shauf'), ('All the Same', 'Andy Shauf'), ('Angela', 'Andy Shauf')]\n[Verse 1: Andy Shauf]\nAlexander all alone\nSmoking a cigarette\nThe last pack he’d ever buy\nAt least that’s what he said\nHe stood up to stretch his back\nAnd fell down to the ground\n\n[Verse 2: Andy Shauf]\nAlexander all alone\n'Till the neighbour caught a glimpse\nCried out for his wife\nTo call the ambulance\nAlexander all alone\nFelt them check his pulse\nHe heard them pronounce him dead\n\n[Chorus]\nHell is found inside of me\nAnd nothing else will set me free\nIf hell is found inside of me\nThen open me up and spill me out\n\n[Verse 3: Andy Shauf]\nAlexander wondered why\nNo life flashed before his eyes\nWhy his soul did not depart\nWhy he found no peace of mind\nWould it take a little while?\nWas it the same for everyone?\nAlexander realized\n\n[Chorus 2]\nThat hell is found inside of me\nAnd nothing else will set me free\nIf hell is found inside of me\nThen open me up and spill me out\nThe greenest grass you'll ever see\nLies silent on the earth\nWhere I could never be\nAnd the brightest sun that's ever shined\nAs you walk away\nIt dances there behind, or so I find\nBut it's all the same anyway\n\nI'll hold you in the setting sun\nWould that be boring\nWould it be any fun for you\nMaybe I could fix your pain\nBut what is life if it's always sunny\nIf there's never any rain\nIf it's all the same anyway, then it's all the same anyway\n\nYou are the mittens to my coldest hands\nThe purest rain to the driest lands\nA brand new friend on a lonely day\nMost beautiful girl I'd have to say\nPlease be mine on this very night\nHands are shaking, knees not quite\nIt's all the same anyway, well maybe it was but not today\n\nStay with me this little while because all I know is you make me smile\n[Verse 1]\nAngela, you need to write home\nSend your mother a letter\nTell her that you're okay\n'Cos i don't need the company\nShe's calling me like every single day\n\n[Verse 2]\nAngela, when you come home\nCould you bring me back a carton of cigarettes?\nWhen are you back anyway?\nEveryone misses seeing your face\n\n[Verse 3]\nAngela, thanks for the postcard\nSounds like France is everything you dreamed\nI know that we're not serious\nBut i wish that it could be the two of us\n\n[Verse 4]\nAngela, Jen let it out\nThat you had met some guy in Paris\nWell let me know, 'cos that's okay\nReally you don;t need to say a thing\n\n[Outro]\nAngela, please come home\nAnd tell us all your stories from far away\nAngela, please come home\nAnd tell us all your stories from far away\nI bet that you would love to know\nEverything that's happened here\n"
    }
   ],
   "source": [
    "import lyricsgenius\n",
    "genius = lyricsgenius.Genius(\"1nVXMraHD3ieBaMJteYrKT4eqenseJ0WP78V85wRZ3sa1W9FSVUL-9Fg6WlpVon-\")\n",
    "artist = genius.search_artist(\"Andy Shauf\", max_songs=3, sort=\"title\")\n",
    "print(artist.songs)\n",
    "\n",
    "for song in artist.songs:\n",
    "    print(song.lyrics)\n"
   ]
  },
  {
   "cell_type": "code",
   "execution_count": 6,
   "metadata": {},
   "outputs": [
    {
     "name": "stdout",
     "output_type": "stream",
     "text": "Searching for songs by amine...\n\nChanging artist name to 'Aminé'\nSong 1: \"Caroline\"\nSong 2: \"Spice Girl\"\nSong 3: \"REEL IT IN\"\nSong 4: \"Heebiejeebies\"\nSong 5: \"REDMERCEDES\"\n\nReached user-specified song limit (5).\nDone. Found 5 songs.\n"
    }
   ],
   "source": [
    "amine = genius.search_artist(\"amine\", max_songs=5)\n"
   ]
  },
  {
   "cell_type": "code",
   "execution_count": null,
   "metadata": {},
   "outputs": [],
   "source": []
  }
 ],
 "metadata": {
  "kernelspec": {
   "display_name": "Python 3",
   "language": "python",
   "name": "python3"
  },
  "language_info": {
   "codemirror_mode": {
    "name": "ipython",
    "version": 3
   },
   "file_extension": ".py",
   "mimetype": "text/x-python",
   "name": "python",
   "nbconvert_exporter": "python",
   "pygments_lexer": "ipython3",
   "version": "3.7.4-final"
  }
 },
 "nbformat": 4,
 "nbformat_minor": 2
}