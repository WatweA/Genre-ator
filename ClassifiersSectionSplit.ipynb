{
 "cells": [
  {
   "cell_type": "code",
   "execution_count": 43,
   "metadata": {},
   "outputs": [],
   "source": [
    "import pandas as pd\n",
    "import numpy as np\n",
    "from sklearn.utils import shuffle\n",
    "from sklearn.metrics import classification_report, confusion_matrix, accuracy_score\n",
    "\n",
    "from sklearn.model_selection import train_test_split, GridSearchCV, KFold, cross_val_score\n",
    "from sklearn.tree import DecisionTreeClassifier\n",
    "from sklearn.ensemble import ExtraTreesClassifier, RandomForestClassifier\n",
    "from sklearn.svm import SVC\n",
    "from sklearn.neural_network import MLPClassifier\n",
    "from sklearn.neighbors import KNeighborsClassifier\n",
    "from sklearn.preprocessing import LabelEncoder\n",
    "from keras import Sequential\n",
    "from keras.layers import Dense\n",
    "from keras.wrappers.scikit_learn import KerasClassifier\n",
    "from keras.utils import np_utils"
   ]
  },
  {
   "cell_type": "code",
   "execution_count": 44,
   "metadata": {},
   "outputs": [],
   "source": [
    "from datetime import datetime\n",
    "\n",
    "def log(message):\n",
    "    print(datetime.now().strftime(\"%H:%M:%S -\"), message)\n",
    "    \n",
    "def printnow():\n",
    "    now = datetime.now()\n",
    "    current_time = now.strftime(\"%H:%M:%S\")\n",
    "    print(\"Current Time =\", current_time)"
   ]
  },
  {
   "cell_type": "code",
   "execution_count": 45,
   "metadata": {},
   "outputs": [],
   "source": [
    "class SectionSplitClassifier:\n",
    "    def __init__(self, section_classifiers, weights):\n",
    "        if section_classifiers:\n",
    "            try: self.section_classifiers = {key:value for key,value in section_classifiers.items()}\n",
    "            except AttributeError: raise ValueError('section_classifiers was not a dictionary')\n",
    "        else: raise ValueError('section_classifiers was None')\n",
    "        if weights:\n",
    "            if np.sum([weight for weight in weights]) == 1:\n",
    "                try: self.weights = {key:value for key,value in weights.items()}\n",
    "                except AttributeError: raise ValueError('weights was not a dictionary')\n",
    "            else: raise ValueError('weights did not sum to 1')\n",
    "        else: raise ValueError('weights was None')\n",
    "\n",
    "\n",
    "    def set_section_classifiers(self, section_classifiers):\n",
    "        if section_classifiers:\n",
    "            try: self.section_classifiers = {key:value for key,value in section_classifiers.items()}\n",
    "            except AttributeError: raise ValueError('section_classifiers was not a dictionary')\n",
    "        else: raise ValueError('section_classifiers was None')\n",
    "\n",
    "\n",
    "    def set_weights(self, weights):\n",
    "        if weights:\n",
    "            if np.sum([weight for weight in weights]) == 1:\n",
    "                try: self.weights = {key:value for key,value in weights.items()}\n",
    "                except AttributeError: raise ValueError('weights was not a dictionary')\n",
    "            else: raise ValueError('weights did not sum to 1')\n",
    "        else: raise ValueError('weights was None')\n",
    "\n",
    "\n",
    "    def fit(self, X, y, section, verbose=0):\n",
    "        if verbose: print(f'Training {section}...')\n",
    "        self.section_classifiers[section] = section_classifiers[section].fit(X,y)\n",
    "        if verbose: print(f'Done training {section}')\n",
    "\n",
    "\n",
    "    def predict(self, X, verbose=1):\n",
    "        def str_to_array(string, weight):\n",
    "            return np.array([\n",
    "                int(string == 'country'),\n",
    "                int(string == 'hiphop'),\n",
    "                int(string == 'pop'),\n",
    "                int(string == 'rock')]) * weight\n",
    "\n",
    "        def array_to_str(array):\n",
    "            i = array.index(max(array))\n",
    "            return ['country','hiphop','pop','rock'][i]\n",
    "\n",
    "        def predict_section(self, X, section):\n",
    "            return [str_to_array(pred, self.weights[section]) for pred in self.section_classifiers[section].predict(X)]\n",
    "\n",
    "        weighted_preds = [predict_section(self, X, section) for section in section_classifiers.keys()]\n",
    "        summed_preds = np.sum(weighted_preds, axis=0)\n",
    "        assert len(weighted_preds) == len(section_classifiers)\n",
    "        assert len(weighted_preds[0]) == len(summed_preds)\n",
    "        assert len(weighted_preds[0][0]) == len(summed_preds[0])\n",
    "        return summed_preds\n",
    "\n",
    ""
   ]
  },
  {
   "cell_type": "code",
   "execution_count": 42,
   "metadata": {},
   "outputs": [
    {
     "output_type": "stream",
     "name": "stdout",
     "text": "len(arr) = 3\nlen(arr)[0] = 2\nlen(arr)[0][0] = 4\nlen(summed) = 2\nlen(summed[0] = 4\n"
    }
   ],
   "source": [
    "arr = [[[0, 1, 2, 3], [4, 5, 6, 7]],\n",
    "       [[8, 9, 10, 11], [12, 13, 14, 15]],\n",
    "       [[16, 17, 18, 19], [20, 21, 22, 23]]]\n",
    "\n",
    "summed = np.sum(arr, axis=0)\n",
    "\n",
    "print(f'len(arr) = {len(arr)}')\n",
    "print(f'len(arr)[0] = {len(arr[0])}')\n",
    "print(f'len(arr)[0][0] = {len(arr[0][0])}')\n",
    "print(f'len(summed) = {len(summed)}')\n",
    "print(f'len(summed[0] = {len(summed[0])}')\n",
    ""
   ]
  },
  {
   "cell_type": "code",
   "execution_count": 16,
   "metadata": {},
   "outputs": [
    {
     "output_type": "stream",
     "name": "stdout",
     "text": "[('country', 'pop', 'pop'), ('rock', 'country', 'country'), ('hiphop', 'hiphop', 'hiphop')]\n"
    },
    {
     "output_type": "error",
     "ename": "TypeError",
     "evalue": "'builtin_function_or_method' object is not iterable",
     "traceback": [
      "\u001b[1;31m---------------------------------------------------------------------------\u001b[0m",
      "\u001b[1;31mTypeError\u001b[0m                                 Traceback (most recent call last)",
      "\u001b[1;32m<ipython-input-16-46ccd372f966>\u001b[0m in \u001b[0;36m<module>\u001b[1;34m\u001b[0m\n\u001b[0;32m      1\u001b[0m \u001b[0mtuples\u001b[0m \u001b[1;33m=\u001b[0m \u001b[1;33m[\u001b[0m\u001b[0mx\u001b[0m \u001b[1;32mfor\u001b[0m \u001b[0mx\u001b[0m \u001b[1;32min\u001b[0m \u001b[0mzip\u001b[0m\u001b[1;33m(\u001b[0m\u001b[1;33m[\u001b[0m\u001b[1;34m'country'\u001b[0m\u001b[1;33m,\u001b[0m \u001b[1;34m'rock'\u001b[0m\u001b[1;33m,\u001b[0m \u001b[1;34m'hiphop'\u001b[0m\u001b[1;33m]\u001b[0m\u001b[1;33m,\u001b[0m \u001b[1;33m[\u001b[0m\u001b[1;34m'pop'\u001b[0m\u001b[1;33m,\u001b[0m \u001b[1;34m'country'\u001b[0m\u001b[1;33m,\u001b[0m \u001b[1;34m'hiphop'\u001b[0m\u001b[1;33m]\u001b[0m\u001b[1;33m,\u001b[0m \u001b[1;33m[\u001b[0m\u001b[1;34m'pop'\u001b[0m\u001b[1;33m,\u001b[0m \u001b[1;34m'country'\u001b[0m\u001b[1;33m,\u001b[0m \u001b[1;34m'hiphop'\u001b[0m\u001b[1;33m]\u001b[0m\u001b[1;33m)\u001b[0m\u001b[1;33m]\u001b[0m\u001b[1;33m\u001b[0m\u001b[1;33m\u001b[0m\u001b[0m\n\u001b[0;32m      2\u001b[0m \u001b[0mprint\u001b[0m\u001b[1;33m(\u001b[0m\u001b[0mtuples\u001b[0m\u001b[1;33m)\u001b[0m\u001b[1;33m\u001b[0m\u001b[1;33m\u001b[0m\u001b[0m\n\u001b[1;32m----> 3\u001b[1;33m \u001b[0mprint\u001b[0m\u001b[1;33m(\u001b[0m\u001b[1;33m[\u001b[0m\u001b[0mx\u001b[0m \u001b[1;32mfor\u001b[0m \u001b[0mx\u001b[0m \u001b[1;32min\u001b[0m \u001b[0mlist\u001b[0m\u001b[1;33m(\u001b[0m\u001b[1;33m[\u001b[0m\u001b[1;36m1\u001b[0m\u001b[1;33m,\u001b[0m\u001b[1;36m2\u001b[0m\u001b[1;33m,\u001b[0m\u001b[1;36m1\u001b[0m\u001b[1;33m,\u001b[0m\u001b[1;36m3\u001b[0m\u001b[1;33m,\u001b[0m\u001b[1;36m4\u001b[0m\u001b[1;33m,\u001b[0m\u001b[1;36m5\u001b[0m\u001b[1;33m]\u001b[0m\u001b[1;33m)\u001b[0m\u001b[1;33m.\u001b[0m\u001b[0mcount\u001b[0m\u001b[1;33m]\u001b[0m\u001b[1;33m)\u001b[0m\u001b[1;33m\u001b[0m\u001b[1;33m\u001b[0m\u001b[0m\n\u001b[0m",
      "\u001b[1;31mTypeError\u001b[0m: 'builtin_function_or_method' object is not iterable"
     ]
    }
   ],
   "source": [
    "tuples = [x for x in zip(['country', 'rock', 'hiphop'], ['pop', 'country', 'hiphop'], ['pop', 'country', 'hiphop'])]\n",
    "print(tuples)\n",
    "print([x for x in list([1,2,1,3,4,5]).count])"
   ]
  },
  {
   "cell_type": "code",
   "execution_count": 20,
   "metadata": {},
   "outputs": [
    {
     "output_type": "stream",
     "name": "stdout",
     "text": "Current Time = 16:30:11\nCurrent Time = 16:31:52\nBest parameters: {'ccp_alpha': 0.005}\nTraining set score: 0.5645325203252033\nTest set score: 0.4558375634517767\n              precision    recall  f1-score   support\n\n     country       0.64      0.67      0.66       199\n      hiphop       0.37      0.64      0.47       255\n         pop       0.53      0.51      0.52       239\n        rock       0.28      0.10      0.15       292\n\n    accuracy                           0.46       985\n   macro avg       0.46      0.48      0.45       985\nweighted avg       0.44      0.46      0.43       985\n\n--------------------\n[[134  23  38   4]\n [  7 163  29  56]\n [ 64  36 122  17]\n [  3 217  42  30]]\n"
    }
   ],
   "source": [
    "param_grid = {\n",
    "    'ccp_alpha':[0.0045, 0.005, 0.0055]\n",
    "}\n",
    "classifier = GridSearchCV(DecisionTreeClassifier(criterion='entropy'), param_grid, cv=5)\n",
    "printnow()\n",
    "classifier.fit(tfidf_ngram_train.drop(columns=[\"y\"]), tfidf_ngram_train[\"y\"])\n",
    "printnow()\n",
    "\n",
    "print(f'Best parameters: {classifier.best_params_}')\n",
    "print(f'Training set score: {classifier.score(tfidf_ngram_train.drop(columns=[\"y\"]), tfidf_ngram_train[\"y\"])}')\n",
    "print(f'Test set score: {classifier.score(tfidf_ngram_test.drop(columns=[\"y\"]), tfidf_ngram_test[\"y\"])}')\n",
    "print(classification_report(tfidf_ngram_test[\"y\"], classifier.predict(tfidf_ngram_test.drop(columns=[\"y\"]))))\n",
    "print('-' * 20)\n",
    "print(confusion_matrix(tfidf_ngram_test[\"y\"], classifier.predict(tfidf_ngram_test.drop(columns=[\"y\"]))))"
   ]
  },
  {
   "cell_type": "code",
   "execution_count": 21,
   "metadata": {},
   "outputs": [
    {
     "output_type": "stream",
     "name": "stdout",
     "text": "Current Time = 16:31:52\nCurrent Time = 16:33:39\nBest parameters: {'ccp_alpha': 0.00475}\nTraining set score: 0.5965447154471545\nTest set score: 0.49746192893401014\n              precision    recall  f1-score   support\n\n     country       0.70      0.76      0.73       199\n      hiphop       0.38      0.75      0.50       255\n         pop       0.67      0.62      0.64       239\n        rock       0.00      0.00      0.00       292\n\n    accuracy                           0.50       985\n   macro avg       0.44      0.53      0.47       985\nweighted avg       0.40      0.50      0.43       985\n\n--------------------\n[[152  10  37   0]\n [  5 190  18  42]\n [ 55  36 148   0]\n [  4 269  19   0]]\n"
    }
   ],
   "source": [
    "param_grid = {\n",
    "    'ccp_alpha':[0.0046, 0.00475, 0.0049]\n",
    "}\n",
    "classifier = GridSearchCV(ExtraTreesClassifier(criterion='entropy'), param_grid, cv=5)\n",
    "printnow()\n",
    "classifier.fit(tfidf_ngram_train.drop(columns=[\"y\"]), tfidf_ngram_train[\"y\"])\n",
    "printnow()\n",
    "\n",
    "print(f'Best parameters: {classifier.best_params_}')\n",
    "print(f'Training set score: {classifier.score(tfidf_ngram_train.drop(columns=[\"y\"]), tfidf_ngram_train[\"y\"])}')\n",
    "print(f'Test set score: {classifier.score(tfidf_ngram_test.drop(columns=[\"y\"]), tfidf_ngram_test[\"y\"])}')\n",
    "print(classification_report(tfidf_ngram_test[\"y\"], classifier.predict(tfidf_ngram_test.drop(columns=[\"y\"]))))\n",
    "print('-' * 20)\n",
    "print(confusion_matrix(tfidf_ngram_test[\"y\"], classifier.predict(tfidf_ngram_test.drop(columns=[\"y\"]))))"
   ]
  },
  {
   "cell_type": "code",
   "execution_count": null,
   "metadata": {},
   "outputs": [],
   "source": []
  }
 ],
 "metadata": {
  "kernelspec": {
   "display_name": "Python 3",
   "language": "python",
   "name": "python3"
  },
  "language_info": {
   "codemirror_mode": {
    "name": "ipython",
    "version": 3
   },
   "file_extension": ".py",
   "mimetype": "text/x-python",
   "name": "python",
   "nbconvert_exporter": "python",
   "pygments_lexer": "ipython3",
   "version": "3.7.4-final"
  }
 },
 "nbformat": 4,
 "nbformat_minor": 4
}