{
 "cells": [
  {
   "cell_type": "code",
   "execution_count": 1,
   "metadata": {},
   "outputs": [],
   "source": [
    "import pandas as pd\n",
    "import numpy as np\n",
    "import re\n",
    "from sklearn.utils import shuffle\n",
    "from sklearn.metrics import classification_report, confusion_matrix, accuracy_score\n",
    "\n",
    "from sklearn.model_selection import train_test_split, GridSearchCV, KFold, cross_val_score\n",
    "from sklearn.tree import DecisionTreeClassifier\n",
    "from sklearn.ensemble import ExtraTreesClassifier, RandomForestClassifier\n",
    "from sklearn.svm import SVC\n",
    "from sklearn.neural_network import MLPClassifier\n",
    "from sklearn.neighbors import KNeighborsClassifier\n",
    "from sklearn.preprocessing import LabelEncoder\n",
    "from sklearn.feature_extraction.text import TfidfVectorizer\n",
    "from sklearn.decomposition import TruncatedSVD"
   ]
  },
  {
   "cell_type": "code",
   "execution_count": 2,
   "metadata": {},
   "outputs": [],
   "source": [
    "from datetime import datetime\n",
    "\n",
    "def log(message):\n",
    "    print(datetime.now().strftime(\"%H:%M:%S -\"), message)\n",
    "    \n",
    "def printnow():\n",
    "    now = datetime.now()\n",
    "    current_time = now.strftime(\"%H:%M:%S\")\n",
    "    print(\"Current Time =\", current_time)"
   ]
  },
  {
   "cell_type": "code",
   "execution_count": 3,
   "metadata": {},
   "outputs": [
    {
     "output_type": "stream",
     "name": "stdout",
     "text": "15:20:32 - Reading data from files\n15:20:32 - Done\n\n"
    }
   ],
   "source": [
    "# Create the dictionary of dataframes for training and testing\n",
    "section_headers = ['Intro','Verse','Refrain','Pre-Chorus','Chorus','Post-Chorus','Hooks','Riffs/Basslines','Scratches','Sampling','Bridge','Interlude','Skit','Collision','Instrumental','Solo','Ad-lib','Segue','Outro']\n",
    "header_strip_list = '|'.join(['\\[' + header + '\\]' for header in section_headers])\n",
    "\n",
    "def header_to_filename(train, header):\n",
    "    if train: return 'section_train_test/train_' + header.replace('/', '_').lower() + '.zip'\n",
    "    else: return 'section_train_test/test_' + header.replace('/', '_').lower() + '.zip'\n",
    "\n",
    "log('Reading data from files')\n",
    "train_dfs = {header:pd.read_pickle(header_to_filename(1, header)) for header in section_headers}\n",
    "test_dfs = {header:pd.read_pickle(header_to_filename(0, header)) for header in section_headers}\n",
    "log('Done\\n')\n",
    "\n",
    "# For dataframes without samples of each genre, add the empty string as lyrics for all genres\n",
    "dummy_df = pd.DataFrame(data={'lyrics' : 16*[''], 'genre' : 4*['country', 'hiphop', 'pop', 'rock']})\n",
    "for header in section_headers:\n",
    "    if len(train_dfs[header]) < 5: train_dfs[header] = pd.concat([train_dfs[header], dummy_df])\n",
    "    if len(test_dfs[header]) < 5: test_dfs[header] = pd.concat([test_dfs[header], dummy_df])\n",
    "    train_dfs[header] = train_dfs[header].reset_index(drop=True)\n",
    "    test_dfs[header] = test_dfs[header].reset_index(drop=True)\n",
    ""
   ]
  },
  {
   "cell_type": "code",
   "execution_count": 4,
   "metadata": {},
   "outputs": [
    {
     "output_type": "stream",
     "name": "stdout",
     "text": "15:20:32 - Finding the counts of each section type in the corpus\n1 Intro: 1056\n2 Verse: 11248\n3 Refrain: 438\n4 Pre-Chorus: 4128\n5 Chorus: 13602\n6 Post-Chorus: 1029\n7 Hooks: 32\n8 Riffs/Basslines: 32\n9 Scratches: 32\n10 Sampling: 32\n11 Bridge: 3417\n12 Interlude: 259\n13 Skit: 33\n14 Collision: 34\n15 Instrumental: 190\n16 Solo: 177\n17 Ad-lib: 35\n18 Segue: 32\n19 Outro: 2332\n15:20:32 - Done: total length is 38138\n\n15:20:32 - Finding the percent frequencies of each section type in the corpus\n1 Intro: 0.027688919188211234\n2 Verse: 0.29492894226231053\n3 Refrain: 0.011484608526928522\n4 Pre-Chorus: 0.10823850228118936\n5 Chorus: 0.3566521579526981\n6 Post-Chorus: 0.026980963868058105\n7 Hooks: 0.0008390581572185222\n8 Riffs/Basslines: 0.0008390581572185222\n9 Scratches: 0.0008390581572185222\n10 Sampling: 0.0008390581572185222\n11 Bridge: 0.08959567885049033\n12 Interlude: 0.006791126959987414\n13 Skit: 0.0008652787246316011\n14 Collision: 0.0008914992920446798\n15 Instrumental: 0.004981907808484976\n16 Solo: 0.004641040432114951\n17 Ad-lib: 0.0009177198594577587\n18 Segue: 0.0008390581572185222\n19 Outro: 0.061146363207299805\n15:20:32 - Done\n\n"
    }
   ],
   "source": [
    "log('Finding the counts of each section type in the corpus')\n",
    "total_length = 0\n",
    "for i,header in enumerate(section_headers):\n",
    "    length = len(train_dfs[header]) + len(test_dfs[header])\n",
    "    print(i + 1, header + ':', length)\n",
    "    total_length += len(train_dfs[header]) + len(test_dfs[header])\n",
    "log(f'Done: total length is {total_length}\\n')\n",
    "\n",
    "log('Finding the percent frequencies of each section type in the corpus')\n",
    "corpus_weights = {}\n",
    "for i,header in enumerate(section_headers):\n",
    "    frequency = (len(train_dfs[header]) + len(test_dfs[header])) / total_length\n",
    "    print(i + 1, header + ':', frequency)\n",
    "    corpus_weights[header] = frequency\n",
    "log('Done\\n')\n",
    ""
   ]
  },
  {
   "cell_type": "code",
   "execution_count": 5,
   "metadata": {},
   "outputs": [
    {
     "output_type": "stream",
     "name": "stdout",
     "text": "15:20:33 - Training TF-IDF Vectorizer on all 4921 lyrics\n15:20:47 - Fitting SVD on all lyrics\n15:22:41 - Done\n\n"
    }
   ],
   "source": [
    "# Load nonredundant data\n",
    "country_df = pd.read_pickle(r'train_test_data/country_data.zip')\n",
    "country_df['genre'] = 'country'\n",
    "hiphop_df = pd.read_pickle(r'train_test_data/hiphop_data.zip')\n",
    "hiphop_df['genre'] = 'hiphop'\n",
    "pop_df = pd.read_pickle(r'train_test_data/pop_data.zip')\n",
    "pop_df['genre'] = 'pop'\n",
    "rock_df = pd.read_pickle(r'train_test_data/rock_data.zip')\n",
    "rock_df['genre'] = 'rock'\n",
    "full_df = pd.concat([country_df,hiphop_df, pop_df,rock_df])\n",
    "full_df.reset_index(inplace=True, drop=True)\n",
    "full_df\n",
    "\n",
    "# Combine lyrics into one list to be input for tf-idf vectorizer WITH UNIGRAMS UP TO TRIGRAMS\n",
    "full_lyrics = [lyrics.lower() for lyrics in full_df['lyrics']]\n",
    "log(f'Training TF-IDF Vectorizer on all {len(full_lyrics)} lyrics')\n",
    "tfidf_ngram_vectorizer = TfidfVectorizer(min_df=2, ngram_range=(1,3)).fit(full_lyrics)\n",
    "tfidf_ngram_features = tfidf_ngram_vectorizer.get_feature_names()\n",
    "tfidf_ngram_data = tfidf_ngram_vectorizer.transform(full_lyrics)\n",
    "log('Fitting SVD on all lyrics')\n",
    "svd_ngram = TruncatedSVD(n_components=500).fit(tfidf_ngram_data)\n",
    "log('Done\\n')\n",
    ""
   ]
  },
  {
   "cell_type": "code",
   "execution_count": 6,
   "metadata": {},
   "outputs": [
    {
     "output_type": "stream",
     "name": "stdout",
     "text": "15:22:41 - Encoding the training data\n15:23:07 - Done\n\n15:23:07 - Encoding the testing data\n15:23:29 - Done\n\n"
    }
   ],
   "source": [
    "# Create TFIDF up to trigram encoding for nonredundant data\n",
    "def encode_tfidf_ngram_svd(df): \n",
    "    tfidf_ngram_vec = tfidf_ngram_vectorizer.transform(df['lyrics'].values)\n",
    "    svd_ngram_vec = svd_ngram.transform(tfidf_ngram_vec)\n",
    "    tfidf_ngram_df = pd.DataFrame(svd_ngram_vec)\n",
    "    tfidf_ngram_df['y'] = df['genre']\n",
    "    return tfidf_ngram_df\n",
    "\n",
    "# Create the training and testing encoded dataframes\n",
    "log('Encoding the training data')\n",
    "tfidf_train = {header:encode_tfidf_ngram_svd(train_dfs[header]) for header in section_headers}\n",
    "log('Done\\n')\n",
    "\n",
    "log('Encoding the testing data')\n",
    "tfidf_test = {header:encode_tfidf_ngram_svd(test_dfs[header]) for header in section_headers}\n",
    "log('Done\\n')\n",
    ""
   ]
  },
  {
   "cell_type": "code",
   "execution_count": 7,
   "metadata": {
    "tags": [
     "outputPrepend",
     "outputPrepend",
     "outputPrepend",
     "outputPrepend",
     "outputPrepend",
     "outputPrepend"
    ]
   },
   "outputs": [
    {
     "output_type": "stream",
     "name": "stdout",
     "text": "15:23:29 - Loading the raw string data\n15:23:29 - Done\n\n15:23:29 - Splitting the raw string data\n15:23:30 - Done\n\n"
    }
   ],
   "source": [
    "# Load the string lyrics data to make predictions\n",
    "log('Loading the raw string data')\n",
    "string_train = pd.read_pickle(r'train_test_data/train.zip')\n",
    "string_test = pd.read_pickle(r'train_test_data/test.zip')\n",
    "log('Done\\n')\n",
    "\n",
    "# splits the given lyrics by section \n",
    "def split_by_section(lyrics):\n",
    "    headers = [word[1:-1] for word in lyrics.split() if word[0] == '[' and word[-1] == ']' and word[1:-1] in section_headers]\n",
    "    split_sections = re.split(header_strip_list, lyrics)\n",
    "    ret_sections = []\n",
    "    for section in split_sections:\n",
    "        mod_section = section.replace('[END]','').replace('[START]','').strip()\n",
    "        if not(mod_section in ['', ' ','\\n']): ret_sections.append(mod_section)\n",
    "    return list(zip(headers, ret_sections))\n",
    "\n",
    "# Turn the raw string data into tuples of section strings and the lyrics of that section\n",
    "log('Splitting the raw string data')\n",
    "split_string_train = string_train\n",
    "split_string_train['lyrics'] = string_train['lyrics'].map(split_by_section)\n",
    "split_string_test = string_test\n",
    "split_string_test['lyrics'] = string_test['lyrics'].map(split_by_section)\n",
    "log('Done\\n')\n",
    ""
   ]
  },
  {
   "cell_type": "code",
   "execution_count": 15,
   "metadata": {},
   "outputs": [
    {
     "output_type": "stream",
     "name": "stdout",
     "text": "15:30:46 - Splitting the encoding string lyrics of each section\n15:30:46 - \tTraining set\n15:38:29 - ValueError0\t[]\n15:49:33 - ValueError0\t[]\n"
    },
    {
     "output_type": "error",
     "ename": "KeyboardInterrupt",
     "evalue": "",
     "traceback": [
      "\u001b[1;31m---------------------------------------------------------------------------\u001b[0m",
      "\u001b[1;31mKeyboardInterrupt\u001b[0m                         Traceback (most recent call last)",
      "\u001b[1;32m<ipython-input-15-6a4503fd89be>\u001b[0m in \u001b[0;36m<module>\u001b[1;34m\u001b[0m\n\u001b[0;32m     17\u001b[0m \u001b[0mlog\u001b[0m\u001b[1;33m(\u001b[0m\u001b[1;34m'\\tTraining set'\u001b[0m\u001b[1;33m)\u001b[0m\u001b[1;33m\u001b[0m\u001b[1;33m\u001b[0m\u001b[0m\n\u001b[0;32m     18\u001b[0m \u001b[0msplit_encoded_train\u001b[0m \u001b[1;33m=\u001b[0m \u001b[0msplit_string_train\u001b[0m\u001b[1;33m\u001b[0m\u001b[1;33m\u001b[0m\u001b[0m\n\u001b[1;32m---> 19\u001b[1;33m \u001b[0msplit_encoded_train\u001b[0m\u001b[1;33m[\u001b[0m\u001b[1;34m'lyrics'\u001b[0m\u001b[1;33m]\u001b[0m \u001b[1;33m=\u001b[0m \u001b[0msplit_string_train\u001b[0m\u001b[1;33m[\u001b[0m\u001b[1;34m'lyrics'\u001b[0m\u001b[1;33m]\u001b[0m\u001b[1;33m.\u001b[0m\u001b[0mmap\u001b[0m\u001b[1;33m(\u001b[0m\u001b[0msplit_lyrics_encode\u001b[0m\u001b[1;33m)\u001b[0m\u001b[1;33m\u001b[0m\u001b[1;33m\u001b[0m\u001b[0m\n\u001b[0m\u001b[0;32m     20\u001b[0m \u001b[0mlog\u001b[0m\u001b[1;33m(\u001b[0m\u001b[1;34m'\\tTesting set'\u001b[0m\u001b[1;33m)\u001b[0m\u001b[1;33m\u001b[0m\u001b[1;33m\u001b[0m\u001b[0m\n\u001b[0;32m     21\u001b[0m \u001b[0msplit_encoded_test\u001b[0m \u001b[1;33m=\u001b[0m \u001b[0msplit_string_test\u001b[0m\u001b[1;33m\u001b[0m\u001b[1;33m\u001b[0m\u001b[0m\n",
      "\u001b[1;32mC:\\ProgramData\\Anaconda3\\lib\\site-packages\\pandas\\core\\series.py\u001b[0m in \u001b[0;36mmap\u001b[1;34m(self, arg, na_action)\u001b[0m\n\u001b[0;32m   3628\u001b[0m         \u001b[0mdtype\u001b[0m\u001b[1;33m:\u001b[0m \u001b[0mobject\u001b[0m\u001b[1;33m\u001b[0m\u001b[1;33m\u001b[0m\u001b[0m\n\u001b[0;32m   3629\u001b[0m         \"\"\"\n\u001b[1;32m-> 3630\u001b[1;33m         \u001b[0mnew_values\u001b[0m \u001b[1;33m=\u001b[0m \u001b[0msuper\u001b[0m\u001b[1;33m(\u001b[0m\u001b[1;33m)\u001b[0m\u001b[1;33m.\u001b[0m\u001b[0m_map_values\u001b[0m\u001b[1;33m(\u001b[0m\u001b[0marg\u001b[0m\u001b[1;33m,\u001b[0m \u001b[0mna_action\u001b[0m\u001b[1;33m=\u001b[0m\u001b[0mna_action\u001b[0m\u001b[1;33m)\u001b[0m\u001b[1;33m\u001b[0m\u001b[1;33m\u001b[0m\u001b[0m\n\u001b[0m\u001b[0;32m   3631\u001b[0m         \u001b[1;32mreturn\u001b[0m \u001b[0mself\u001b[0m\u001b[1;33m.\u001b[0m\u001b[0m_constructor\u001b[0m\u001b[1;33m(\u001b[0m\u001b[0mnew_values\u001b[0m\u001b[1;33m,\u001b[0m \u001b[0mindex\u001b[0m\u001b[1;33m=\u001b[0m\u001b[0mself\u001b[0m\u001b[1;33m.\u001b[0m\u001b[0mindex\u001b[0m\u001b[1;33m)\u001b[0m\u001b[1;33m.\u001b[0m\u001b[0m__finalize__\u001b[0m\u001b[1;33m(\u001b[0m\u001b[0mself\u001b[0m\u001b[1;33m)\u001b[0m\u001b[1;33m\u001b[0m\u001b[1;33m\u001b[0m\u001b[0m\n\u001b[0;32m   3632\u001b[0m \u001b[1;33m\u001b[0m\u001b[0m\n",
      "\u001b[1;32mC:\\ProgramData\\Anaconda3\\lib\\site-packages\\pandas\\core\\base.py\u001b[0m in \u001b[0;36m_map_values\u001b[1;34m(self, mapper, na_action)\u001b[0m\n\u001b[0;32m   1143\u001b[0m \u001b[1;33m\u001b[0m\u001b[0m\n\u001b[0;32m   1144\u001b[0m         \u001b[1;31m# mapper is a function\u001b[0m\u001b[1;33m\u001b[0m\u001b[1;33m\u001b[0m\u001b[1;33m\u001b[0m\u001b[0m\n\u001b[1;32m-> 1145\u001b[1;33m         \u001b[0mnew_values\u001b[0m \u001b[1;33m=\u001b[0m \u001b[0mmap_f\u001b[0m\u001b[1;33m(\u001b[0m\u001b[0mvalues\u001b[0m\u001b[1;33m,\u001b[0m \u001b[0mmapper\u001b[0m\u001b[1;33m)\u001b[0m\u001b[1;33m\u001b[0m\u001b[1;33m\u001b[0m\u001b[0m\n\u001b[0m\u001b[0;32m   1146\u001b[0m \u001b[1;33m\u001b[0m\u001b[0m\n\u001b[0;32m   1147\u001b[0m         \u001b[1;32mreturn\u001b[0m \u001b[0mnew_values\u001b[0m\u001b[1;33m\u001b[0m\u001b[1;33m\u001b[0m\u001b[0m\n",
      "\u001b[1;32mpandas\\_libs\\lib.pyx\u001b[0m in \u001b[0;36mpandas._libs.lib.map_infer\u001b[1;34m()\u001b[0m\n",
      "\u001b[1;32m<ipython-input-15-6a4503fd89be>\u001b[0m in \u001b[0;36msplit_lyrics_encode\u001b[1;34m(split_lyrics)\u001b[0m\n\u001b[0;32m      5\u001b[0m     \u001b[1;32mtry\u001b[0m\u001b[1;33m:\u001b[0m\u001b[1;33m\u001b[0m\u001b[1;33m\u001b[0m\u001b[0m\n\u001b[0;32m      6\u001b[0m         \u001b[0mtfidf_ngram_vec\u001b[0m \u001b[1;33m=\u001b[0m \u001b[0mtfidf_ngram_vectorizer\u001b[0m\u001b[1;33m.\u001b[0m\u001b[0mtransform\u001b[0m\u001b[1;33m(\u001b[0m\u001b[0mlyrics_array\u001b[0m\u001b[1;33m)\u001b[0m\u001b[1;33m\u001b[0m\u001b[1;33m\u001b[0m\u001b[0m\n\u001b[1;32m----> 7\u001b[1;33m         \u001b[0msvd_ngram_vec\u001b[0m \u001b[1;33m=\u001b[0m \u001b[0msvd_ngram\u001b[0m\u001b[1;33m.\u001b[0m\u001b[0mtransform\u001b[0m\u001b[1;33m(\u001b[0m\u001b[0mtfidf_ngram_vec\u001b[0m\u001b[1;33m)\u001b[0m\u001b[1;33m\u001b[0m\u001b[1;33m\u001b[0m\u001b[0m\n\u001b[0m\u001b[0;32m      8\u001b[0m         \u001b[1;32massert\u001b[0m \u001b[0mlen\u001b[0m\u001b[1;33m(\u001b[0m\u001b[0msvd_ngram_vec\u001b[0m\u001b[1;33m)\u001b[0m \u001b[1;33m==\u001b[0m \u001b[0mlen\u001b[0m\u001b[1;33m(\u001b[0m\u001b[0msections_array\u001b[0m\u001b[1;33m)\u001b[0m\u001b[1;33m\u001b[0m\u001b[1;33m\u001b[0m\u001b[0m\n\u001b[0;32m      9\u001b[0m         \u001b[1;32massert\u001b[0m \u001b[0mlen\u001b[0m\u001b[1;33m(\u001b[0m\u001b[0msvd_ngram_vec\u001b[0m\u001b[1;33m[\u001b[0m\u001b[1;36m0\u001b[0m\u001b[1;33m]\u001b[0m\u001b[1;33m)\u001b[0m \u001b[1;33m==\u001b[0m \u001b[1;36m500\u001b[0m\u001b[1;33m\u001b[0m\u001b[1;33m\u001b[0m\u001b[0m\n",
      "\u001b[1;32mC:\\ProgramData\\Anaconda3\\lib\\site-packages\\sklearn\\decomposition\\_truncated_svd.py\u001b[0m in \u001b[0;36mtransform\u001b[1;34m(self, X)\u001b[0m\n\u001b[0;32m    211\u001b[0m         \"\"\"\n\u001b[0;32m    212\u001b[0m         \u001b[0mX\u001b[0m \u001b[1;33m=\u001b[0m \u001b[0mcheck_array\u001b[0m\u001b[1;33m(\u001b[0m\u001b[0mX\u001b[0m\u001b[1;33m,\u001b[0m \u001b[0maccept_sparse\u001b[0m\u001b[1;33m=\u001b[0m\u001b[1;34m'csr'\u001b[0m\u001b[1;33m)\u001b[0m\u001b[1;33m\u001b[0m\u001b[1;33m\u001b[0m\u001b[0m\n\u001b[1;32m--> 213\u001b[1;33m         \u001b[1;32mreturn\u001b[0m \u001b[0msafe_sparse_dot\u001b[0m\u001b[1;33m(\u001b[0m\u001b[0mX\u001b[0m\u001b[1;33m,\u001b[0m \u001b[0mself\u001b[0m\u001b[1;33m.\u001b[0m\u001b[0mcomponents_\u001b[0m\u001b[1;33m.\u001b[0m\u001b[0mT\u001b[0m\u001b[1;33m)\u001b[0m\u001b[1;33m\u001b[0m\u001b[1;33m\u001b[0m\u001b[0m\n\u001b[0m\u001b[0;32m    214\u001b[0m \u001b[1;33m\u001b[0m\u001b[0m\n\u001b[0;32m    215\u001b[0m     \u001b[1;32mdef\u001b[0m \u001b[0minverse_transform\u001b[0m\u001b[1;33m(\u001b[0m\u001b[0mself\u001b[0m\u001b[1;33m,\u001b[0m \u001b[0mX\u001b[0m\u001b[1;33m)\u001b[0m\u001b[1;33m:\u001b[0m\u001b[1;33m\u001b[0m\u001b[1;33m\u001b[0m\u001b[0m\n",
      "\u001b[1;32mC:\\ProgramData\\Anaconda3\\lib\\site-packages\\sklearn\\utils\\extmath.py\u001b[0m in \u001b[0;36msafe_sparse_dot\u001b[1;34m(a, b, dense_output)\u001b[0m\n\u001b[0;32m    149\u001b[0m             \u001b[0mret\u001b[0m \u001b[1;33m=\u001b[0m \u001b[0mnp\u001b[0m\u001b[1;33m.\u001b[0m\u001b[0mdot\u001b[0m\u001b[1;33m(\u001b[0m\u001b[0ma\u001b[0m\u001b[1;33m,\u001b[0m \u001b[0mb\u001b[0m\u001b[1;33m)\u001b[0m\u001b[1;33m\u001b[0m\u001b[1;33m\u001b[0m\u001b[0m\n\u001b[0;32m    150\u001b[0m     \u001b[1;32melse\u001b[0m\u001b[1;33m:\u001b[0m\u001b[1;33m\u001b[0m\u001b[1;33m\u001b[0m\u001b[0m\n\u001b[1;32m--> 151\u001b[1;33m         \u001b[0mret\u001b[0m \u001b[1;33m=\u001b[0m \u001b[0ma\u001b[0m \u001b[1;33m@\u001b[0m \u001b[0mb\u001b[0m\u001b[1;33m\u001b[0m\u001b[1;33m\u001b[0m\u001b[0m\n\u001b[0m\u001b[0;32m    152\u001b[0m \u001b[1;33m\u001b[0m\u001b[0m\n\u001b[0;32m    153\u001b[0m     if (sparse.issparse(a) and sparse.issparse(b)\n",
      "\u001b[1;32mC:\\ProgramData\\Anaconda3\\lib\\site-packages\\scipy\\sparse\\base.py\u001b[0m in \u001b[0;36m__matmul__\u001b[1;34m(self, other)\u001b[0m\n\u001b[0;32m    559\u001b[0m             raise ValueError(\"Scalar operands are not allowed, \"\n\u001b[0;32m    560\u001b[0m                              \"use '*' instead\")\n\u001b[1;32m--> 561\u001b[1;33m         \u001b[1;32mreturn\u001b[0m \u001b[0mself\u001b[0m\u001b[1;33m.\u001b[0m\u001b[0m__mul__\u001b[0m\u001b[1;33m(\u001b[0m\u001b[0mother\u001b[0m\u001b[1;33m)\u001b[0m\u001b[1;33m\u001b[0m\u001b[1;33m\u001b[0m\u001b[0m\n\u001b[0m\u001b[0;32m    562\u001b[0m \u001b[1;33m\u001b[0m\u001b[0m\n\u001b[0;32m    563\u001b[0m     \u001b[1;32mdef\u001b[0m \u001b[0m__rmatmul__\u001b[0m\u001b[1;33m(\u001b[0m\u001b[0mself\u001b[0m\u001b[1;33m,\u001b[0m \u001b[0mother\u001b[0m\u001b[1;33m)\u001b[0m\u001b[1;33m:\u001b[0m\u001b[1;33m\u001b[0m\u001b[1;33m\u001b[0m\u001b[0m\n",
      "\u001b[1;32mC:\\ProgramData\\Anaconda3\\lib\\site-packages\\scipy\\sparse\\base.py\u001b[0m in \u001b[0;36m__mul__\u001b[1;34m(self, other)\u001b[0m\n\u001b[0;32m    470\u001b[0m                 \u001b[1;32mreturn\u001b[0m \u001b[0mself\u001b[0m\u001b[1;33m.\u001b[0m\u001b[0m_mul_vector\u001b[0m\u001b[1;33m(\u001b[0m\u001b[0mother\u001b[0m\u001b[1;33m.\u001b[0m\u001b[0mravel\u001b[0m\u001b[1;33m(\u001b[0m\u001b[1;33m)\u001b[0m\u001b[1;33m)\u001b[0m\u001b[1;33m.\u001b[0m\u001b[0mreshape\u001b[0m\u001b[1;33m(\u001b[0m\u001b[0mM\u001b[0m\u001b[1;33m,\u001b[0m \u001b[1;36m1\u001b[0m\u001b[1;33m)\u001b[0m\u001b[1;33m\u001b[0m\u001b[1;33m\u001b[0m\u001b[0m\n\u001b[0;32m    471\u001b[0m             \u001b[1;32melif\u001b[0m \u001b[0mother\u001b[0m\u001b[1;33m.\u001b[0m\u001b[0mndim\u001b[0m \u001b[1;33m==\u001b[0m \u001b[1;36m2\u001b[0m \u001b[1;32mand\u001b[0m \u001b[0mother\u001b[0m\u001b[1;33m.\u001b[0m\u001b[0mshape\u001b[0m\u001b[1;33m[\u001b[0m\u001b[1;36m0\u001b[0m\u001b[1;33m]\u001b[0m \u001b[1;33m==\u001b[0m \u001b[0mN\u001b[0m\u001b[1;33m:\u001b[0m\u001b[1;33m\u001b[0m\u001b[1;33m\u001b[0m\u001b[0m\n\u001b[1;32m--> 472\u001b[1;33m                 \u001b[1;32mreturn\u001b[0m \u001b[0mself\u001b[0m\u001b[1;33m.\u001b[0m\u001b[0m_mul_multivector\u001b[0m\u001b[1;33m(\u001b[0m\u001b[0mother\u001b[0m\u001b[1;33m)\u001b[0m\u001b[1;33m\u001b[0m\u001b[1;33m\u001b[0m\u001b[0m\n\u001b[0m\u001b[0;32m    473\u001b[0m \u001b[1;33m\u001b[0m\u001b[0m\n\u001b[0;32m    474\u001b[0m         \u001b[1;32mif\u001b[0m \u001b[0misscalarlike\u001b[0m\u001b[1;33m(\u001b[0m\u001b[0mother\u001b[0m\u001b[1;33m)\u001b[0m\u001b[1;33m:\u001b[0m\u001b[1;33m\u001b[0m\u001b[1;33m\u001b[0m\u001b[0m\n",
      "\u001b[1;32mC:\\ProgramData\\Anaconda3\\lib\\site-packages\\scipy\\sparse\\compressed.py\u001b[0m in \u001b[0;36m_mul_multivector\u001b[1;34m(self, other)\u001b[0m\n\u001b[0;32m    485\u001b[0m         \u001b[0mfn\u001b[0m \u001b[1;33m=\u001b[0m \u001b[0mgetattr\u001b[0m\u001b[1;33m(\u001b[0m\u001b[0m_sparsetools\u001b[0m\u001b[1;33m,\u001b[0m \u001b[0mself\u001b[0m\u001b[1;33m.\u001b[0m\u001b[0mformat\u001b[0m \u001b[1;33m+\u001b[0m \u001b[1;34m'_matvecs'\u001b[0m\u001b[1;33m)\u001b[0m\u001b[1;33m\u001b[0m\u001b[1;33m\u001b[0m\u001b[0m\n\u001b[0;32m    486\u001b[0m         fn(M, N, n_vecs, self.indptr, self.indices, self.data,\n\u001b[1;32m--> 487\u001b[1;33m            other.ravel(), result.ravel())\n\u001b[0m\u001b[0;32m    488\u001b[0m \u001b[1;33m\u001b[0m\u001b[0m\n\u001b[0;32m    489\u001b[0m         \u001b[1;32mreturn\u001b[0m \u001b[0mresult\u001b[0m\u001b[1;33m\u001b[0m\u001b[1;33m\u001b[0m\u001b[0m\n",
      "\u001b[1;31mKeyboardInterrupt\u001b[0m: "
     ]
    }
   ],
   "source": [
    "# Encode the split string data with TFIDF (up to trigrams) and SVD \n",
    "def split_lyrics_encode(split_lyrics):\n",
    "    sections_array = [section for section,lyrics in split_lyrics]\n",
    "    lyrics_array = [lyrics + ' ' for section,lyrics in split_lyrics]\n",
    "    try:\n",
    "        tfidf_ngram_vec = tfidf_ngram_vectorizer.transform(lyrics_array)\n",
    "        svd_ngram_vec = svd_ngram.transform(tfidf_ngram_vec)\n",
    "        assert len(svd_ngram_vec) == len(sections_array)\n",
    "        assert len(svd_ngram_vec[0]) == 500\n",
    "        return list(zip(sections_array, svd_ngram_vec))\n",
    "    except ValueError:\n",
    "        log('ValueError' + str(len(sections_array)) + '\\t' + str([len(lyrics) for lyrics in lyrics_array]))\n",
    "        return list(zip(sections_array, np.array([[0]*500]*len(split_lyrics))))\n",
    "\n",
    "# Turn the split string data into tuples of section strings and TFIDF encoded lyrics of that section\n",
    "log('Splitting the encoding string lyrics of each section')\n",
    "log('\\tTesting set')\n",
    "split_encoded_test = split_string_test\n",
    "split_encoded_test['lyrics'] = split_string_test['lyrics'].map(split_lyrics_encode)\n",
    "log('\\tTraining set')\n",
    "split_encoded_train = split_string_train\n",
    "split_encoded_train['lyrics'] = split_string_train['lyrics'].map(split_lyrics_encode)\n",
    "log('Done\\n')\n"
   ]
  },
  {
   "cell_type": "code",
   "execution_count": null,
   "metadata": {},
   "outputs": [],
   "source": [
    "log('Saving split encoded lyrics as pickles')\n",
    "split_encoded_train.to_pickle('section_train_test/split_encoded_train.zip')\n",
    "split_encoded_test.to_pickle('section_train_test/split_encoded_test.zip')\n",
    "log('Done\\n')\n"
   ]
  },
  {
   "cell_type": "code",
   "execution_count": 133,
   "metadata": {},
   "outputs": [],
   "source": [
    "class SectionSplitClassifier:\n",
    "    def __init__(self, section_classifiers, weights):\n",
    "        if section_classifiers:\n",
    "            try: self.section_classifiers = {key:value for key,value in section_classifiers.items()}\n",
    "            except AttributeError: raise ValueError('section_classifiers was not a dictionary')\n",
    "        else: raise ValueError('section_classifiers was None')\n",
    "        if weights:\n",
    "            if np.round(np.sum([weight for weight in weights.values()])) == 1:\n",
    "                try: self.weights = {key:value for key,value in weights.items()}\n",
    "                except AttributeError: raise ValueError('weights was not a dictionary')\n",
    "            else: raise ValueError('weights did not sum to 1')\n",
    "        else: raise ValueError('weights was None')\n",
    "\n",
    "\n",
    "    def set_section_classifiers(self, section_classifiers):\n",
    "        if section_classifiers:\n",
    "            try: self.section_classifiers = {key:value for key,value in section_classifiers.items()}\n",
    "            except AttributeError: raise ValueError('section_classifiers was not a dictionary')\n",
    "        else: raise ValueError('section_classifiers was None')\n",
    "\n",
    "\n",
    "    def set_weights(self, weights):\n",
    "        if weights:\n",
    "            if np.round(np.sum([weight for weight in weights.values()])) == 1:\n",
    "                try: self.weights = {key:value for key,value in weights.items()}\n",
    "                except AttributeError: raise ValueError('weights was not a dictionary')\n",
    "            else: raise ValueError('weights did not sum to 1')\n",
    "        else: raise ValueError('weights was None')\n",
    "\n",
    "\n",
    "    def fit(self, X, y, section, verbose=0):\n",
    "        if verbose: print(f'Training {section}...')\n",
    "        self.section_classifiers[section] = self.section_classifiers[section].fit(X,y)\n",
    "        if verbose: print(f'Done training {section}')\n",
    "\n",
    "\n",
    "    # def predict(self, X_array, verbose=1):\n",
    "    def predict(self, X, verbose=1):\n",
    "        def predict_section(self, X_section, section):\n",
    "            def str_to_array(string, weight):\n",
    "                return float(weight) * np.array([\n",
    "                    int(string == 'country'), \n",
    "                    int(string == 'hiphop'),\n",
    "                    int(string == 'pop'), \n",
    "                    int(string == 'rock')])\n",
    "            return [str_to_array(pred, self.weights[section]) for pred in self.section_classifiers[section].predict([X_section])]\n",
    "\n",
    "        def predict_song(self, split_encoded):\n",
    "            def array_to_str(array):\n",
    "                return ['country','hiphop','pop','rock'][array.index(max(array))]\n",
    "            pred = np.array([0,0,0,0])\n",
    "            for section,encoding in split_encoded:\n",
    "                pred = np.sum([pred, predict_section(encoding, section)], axis=0)\n",
    "            return array_to_str(pred)\n",
    "\n",
    "        preds = [predict_song(self, lyrics) for lyrics in X]\n",
    "        assert len(preds) == len(X)\n",
    "        return(preds)\n",
    "\n",
    "        # weighted_preds = [predict_section(self, X, section) for X,section in zip(X_array,self.section_classifiers.keys())]\n",
    "        # print(len(weighted_preds), len(weighted_preds[0]), len(weighted_preds[0][0]))\n",
    "        # summed_preds = np.sum(weighted_preds, axis=0)\n",
    "        # print(len(self.section_classifiers), len(summed_preds), len(summed_preds[0]))\n",
    "        # # assert len(weighted_preds) == len(self.section_classifiers)\n",
    "        # # assert len(weighted_preds[0]) == len(summed_preds)\n",
    "        # # assert len(weighted_preds[0][0]) == len(summed_preds[0])\n",
    "        # return weighted_preds, summed_preds\n",
    "\n"
   ]
  },
  {
   "cell_type": "code",
   "execution_count": 96,
   "metadata": {
    "tags": [
     "outputPrepend"
    ]
   },
   "outputs": [
    {
     "output_type": "stream",
     "name": "stdout",
     "text": "Training Intro...\nDone training Intro\nTraining Verse...\nDone training Verse\nTraining Refrain...\nDone training Refrain\nTraining Pre-Chorus...\nDone training Pre-Chorus\nTraining Chorus...\nDone training Chorus\nTraining Post-Chorus...\nDone training Post-Chorus\nTraining Hooks...\nDone training Hooks\nTraining Riffs/Basslines...\nDone training Riffs/Basslines\nTraining Scratches...\nDone training Scratches\nTraining Sampling...\nDone training Sampling\nTraining Bridge...\nDone training Bridge\nTraining Interlude...\nDone training Interlude\nTraining Skit...\nDone training Skit\nTraining Collision...\nDone training Collision\nTraining Instrumental...\nDone training Instrumental\nTraining Solo...\nDone training Solo\nTraining Ad-lib...\nDone training Ad-lib\nTraining Segue...\nDone training Segue\nTraining Outro...\nDone training Outro\n"
    }
   ],
   "source": [
    "# Instantiate a SectionSplitClassifier and train it on all train_dfs\n",
    "# param_grid = {'ccp_alpha':[0.01725, 0.0175, 0.01775]}\n",
    "# section_rf_classifiers = {\n",
    "#     header:GridSearchCV(RandomForestClassifier(criterion='entropy'), param_grid, cv=5) for header in section_headers\n",
    "# }\n",
    "section_rf_classifiers = {\n",
    "    header:RandomForestClassifier(criterion='entropy', ccp_alpha=0.0175) for header in section_headers\n",
    "}\n",
    "\n",
    "section_split_classifier = SectionSplitClassifier(section_rf_classifiers, corpus_weights)\n",
    "\n",
    "# fit the sub-classifiers in the SectionSplitClassifier\n",
    "log('Training all section classifiers')\n",
    "for header in section_headers:\n",
    "    section_split_classifier.fit(tfidf_train[header].drop(columns=['y']), tfidf_train[header]['y'], header, verbose=1)\n",
    "log('Done\\n')\n"
   ]
  },
  {
   "cell_type": "code",
   "execution_count": 99,
   "metadata": {},
   "outputs": [],
   "source": [
    "trained_classifiers = section_split_classifier.section_classifiers"
   ]
  },
  {
   "cell_type": "code",
   "execution_count": 134,
   "metadata": {
    "tags": [
     "outputPrepend"
    ]
   },
   "outputs": [
    {
     "output_type": "error",
     "ename": "AttributeError",
     "evalue": "'DataFrame' object has no attribute 'split'",
     "traceback": [
      "\u001b[1;31m---------------------------------------------------------------------------\u001b[0m",
      "\u001b[1;31mAttributeError\u001b[0m                            Traceback (most recent call last)",
      "\u001b[1;32m<ipython-input-134-e82e336cbe4a>\u001b[0m in \u001b[0;36m<module>\u001b[1;34m\u001b[0m\n\u001b[0;32m      1\u001b[0m \u001b[0msection_split_classifier2\u001b[0m \u001b[1;33m=\u001b[0m \u001b[0mSectionSplitClassifier\u001b[0m\u001b[1;33m(\u001b[0m\u001b[0mtrained_classifiers\u001b[0m\u001b[1;33m,\u001b[0m \u001b[0mcorpus_weights\u001b[0m\u001b[1;33m)\u001b[0m\u001b[1;33m\u001b[0m\u001b[1;33m\u001b[0m\u001b[0m\n\u001b[0;32m      2\u001b[0m \u001b[0mX_train_array\u001b[0m \u001b[1;33m=\u001b[0m \u001b[1;33m[\u001b[0m\u001b[0mtfidf_test\u001b[0m\u001b[1;33m[\u001b[0m\u001b[0mheader\u001b[0m\u001b[1;33m]\u001b[0m\u001b[1;33m.\u001b[0m\u001b[0mdrop\u001b[0m\u001b[1;33m(\u001b[0m\u001b[0mcolumns\u001b[0m\u001b[1;33m=\u001b[0m\u001b[1;33m[\u001b[0m\u001b[1;34m'y'\u001b[0m\u001b[1;33m]\u001b[0m\u001b[1;33m)\u001b[0m \u001b[1;32mfor\u001b[0m \u001b[0mheader\u001b[0m \u001b[1;32min\u001b[0m \u001b[0msection_headers\u001b[0m\u001b[1;33m]\u001b[0m\u001b[1;33m\u001b[0m\u001b[1;33m\u001b[0m\u001b[0m\n\u001b[1;32m----> 3\u001b[1;33m \u001b[0mweighted_predictions\u001b[0m\u001b[1;33m,\u001b[0m \u001b[0msummed_predictions\u001b[0m \u001b[1;33m=\u001b[0m \u001b[0msection_split_classifier2\u001b[0m\u001b[1;33m.\u001b[0m\u001b[0mpredict\u001b[0m\u001b[1;33m(\u001b[0m\u001b[0mX_train_array\u001b[0m\u001b[1;33m,\u001b[0m \u001b[0mverbose\u001b[0m\u001b[1;33m=\u001b[0m\u001b[1;36m1\u001b[0m\u001b[1;33m)\u001b[0m\u001b[1;33m\u001b[0m\u001b[1;33m\u001b[0m\u001b[0m\n\u001b[0m",
      "\u001b[1;32m<ipython-input-133-bd66f0103ae3>\u001b[0m in \u001b[0;36mpredict\u001b[1;34m(self, X_strings, verbose)\u001b[0m\n\u001b[0;32m     71\u001b[0m                 \u001b[0mpred\u001b[0m \u001b[1;33m=\u001b[0m \u001b[0mnp\u001b[0m\u001b[1;33m.\u001b[0m\u001b[0msum\u001b[0m\u001b[1;33m(\u001b[0m\u001b[1;33m[\u001b[0m\u001b[0mpred\u001b[0m\u001b[1;33m,\u001b[0m \u001b[0mpredict_section\u001b[0m\u001b[1;33m(\u001b[0m\u001b[0mencoding\u001b[0m\u001b[1;33m,\u001b[0m \u001b[0msection\u001b[0m\u001b[1;33m)\u001b[0m\u001b[1;33m]\u001b[0m\u001b[1;33m,\u001b[0m \u001b[0maxis\u001b[0m\u001b[1;33m=\u001b[0m\u001b[1;36m0\u001b[0m\u001b[1;33m)\u001b[0m\u001b[1;33m\u001b[0m\u001b[1;33m\u001b[0m\u001b[0m\n\u001b[0;32m     72\u001b[0m \u001b[1;33m\u001b[0m\u001b[0m\n\u001b[1;32m---> 73\u001b[1;33m         \u001b[0monehot_preds\u001b[0m \u001b[1;33m=\u001b[0m \u001b[1;33m[\u001b[0m\u001b[0mpredict_song\u001b[0m\u001b[1;33m(\u001b[0m\u001b[0mself\u001b[0m\u001b[1;33m,\u001b[0m \u001b[0mlyrics\u001b[0m\u001b[1;33m)\u001b[0m \u001b[1;32mfor\u001b[0m \u001b[0mlyrics\u001b[0m \u001b[1;32min\u001b[0m \u001b[0mX_strings\u001b[0m\u001b[1;33m]\u001b[0m\u001b[1;33m\u001b[0m\u001b[1;33m\u001b[0m\u001b[0m\n\u001b[0m\u001b[0;32m     74\u001b[0m         \u001b[0mstring_preds\u001b[0m \u001b[1;33m=\u001b[0m \u001b[1;33m[\u001b[0m\u001b[0marray_to_str\u001b[0m\u001b[1;33m(\u001b[0m\u001b[0mpred\u001b[0m\u001b[1;33m)\u001b[0m \u001b[1;32mfor\u001b[0m \u001b[0mpred\u001b[0m \u001b[1;32min\u001b[0m \u001b[0mweighted_preds\u001b[0m\u001b[1;33m]\u001b[0m\u001b[1;33m\u001b[0m\u001b[1;33m\u001b[0m\u001b[0m\n\u001b[0;32m     75\u001b[0m         \u001b[1;32massert\u001b[0m \u001b[0mlen\u001b[0m\u001b[1;33m(\u001b[0m\u001b[0mstring_preds\u001b[0m\u001b[1;33m)\u001b[0m \u001b[1;33m==\u001b[0m \u001b[0mlen\u001b[0m\u001b[1;33m(\u001b[0m\u001b[0mX_strings\u001b[0m\u001b[1;33m)\u001b[0m\u001b[1;33m\u001b[0m\u001b[1;33m\u001b[0m\u001b[0m\n",
      "\u001b[1;32m<ipython-input-133-bd66f0103ae3>\u001b[0m in \u001b[0;36m<listcomp>\u001b[1;34m(.0)\u001b[0m\n\u001b[0;32m     71\u001b[0m                 \u001b[0mpred\u001b[0m \u001b[1;33m=\u001b[0m \u001b[0mnp\u001b[0m\u001b[1;33m.\u001b[0m\u001b[0msum\u001b[0m\u001b[1;33m(\u001b[0m\u001b[1;33m[\u001b[0m\u001b[0mpred\u001b[0m\u001b[1;33m,\u001b[0m \u001b[0mpredict_section\u001b[0m\u001b[1;33m(\u001b[0m\u001b[0mencoding\u001b[0m\u001b[1;33m,\u001b[0m \u001b[0msection\u001b[0m\u001b[1;33m)\u001b[0m\u001b[1;33m]\u001b[0m\u001b[1;33m,\u001b[0m \u001b[0maxis\u001b[0m\u001b[1;33m=\u001b[0m\u001b[1;36m0\u001b[0m\u001b[1;33m)\u001b[0m\u001b[1;33m\u001b[0m\u001b[1;33m\u001b[0m\u001b[0m\n\u001b[0;32m     72\u001b[0m \u001b[1;33m\u001b[0m\u001b[0m\n\u001b[1;32m---> 73\u001b[1;33m         \u001b[0monehot_preds\u001b[0m \u001b[1;33m=\u001b[0m \u001b[1;33m[\u001b[0m\u001b[0mpredict_song\u001b[0m\u001b[1;33m(\u001b[0m\u001b[0mself\u001b[0m\u001b[1;33m,\u001b[0m \u001b[0mlyrics\u001b[0m\u001b[1;33m)\u001b[0m \u001b[1;32mfor\u001b[0m \u001b[0mlyrics\u001b[0m \u001b[1;32min\u001b[0m \u001b[0mX_strings\u001b[0m\u001b[1;33m]\u001b[0m\u001b[1;33m\u001b[0m\u001b[1;33m\u001b[0m\u001b[0m\n\u001b[0m\u001b[0;32m     74\u001b[0m         \u001b[0mstring_preds\u001b[0m \u001b[1;33m=\u001b[0m \u001b[1;33m[\u001b[0m\u001b[0marray_to_str\u001b[0m\u001b[1;33m(\u001b[0m\u001b[0mpred\u001b[0m\u001b[1;33m)\u001b[0m \u001b[1;32mfor\u001b[0m \u001b[0mpred\u001b[0m \u001b[1;32min\u001b[0m \u001b[0mweighted_preds\u001b[0m\u001b[1;33m]\u001b[0m\u001b[1;33m\u001b[0m\u001b[1;33m\u001b[0m\u001b[0m\n\u001b[0;32m     75\u001b[0m         \u001b[1;32massert\u001b[0m \u001b[0mlen\u001b[0m\u001b[1;33m(\u001b[0m\u001b[0mstring_preds\u001b[0m\u001b[1;33m)\u001b[0m \u001b[1;33m==\u001b[0m \u001b[0mlen\u001b[0m\u001b[1;33m(\u001b[0m\u001b[0mX_strings\u001b[0m\u001b[1;33m)\u001b[0m\u001b[1;33m\u001b[0m\u001b[1;33m\u001b[0m\u001b[0m\n",
      "\u001b[1;32m<ipython-input-133-bd66f0103ae3>\u001b[0m in \u001b[0;36mpredict_song\u001b[1;34m(self, lyrics)\u001b[0m\n\u001b[0;32m     66\u001b[0m         \u001b[1;32mdef\u001b[0m \u001b[0mpredict_song\u001b[0m\u001b[1;33m(\u001b[0m\u001b[0mself\u001b[0m\u001b[1;33m,\u001b[0m \u001b[0mlyrics\u001b[0m\u001b[1;33m)\u001b[0m\u001b[1;33m:\u001b[0m\u001b[1;33m\u001b[0m\u001b[1;33m\u001b[0m\u001b[0m\n\u001b[0;32m     67\u001b[0m             \u001b[0mpred\u001b[0m \u001b[1;33m=\u001b[0m \u001b[1;33m[\u001b[0m\u001b[1;36m0\u001b[0m\u001b[1;33m,\u001b[0m\u001b[1;36m0\u001b[0m\u001b[1;33m,\u001b[0m\u001b[1;36m0\u001b[0m\u001b[1;33m,\u001b[0m\u001b[1;36m0\u001b[0m\u001b[1;33m]\u001b[0m\u001b[1;33m\u001b[0m\u001b[1;33m\u001b[0m\u001b[0m\n\u001b[1;32m---> 68\u001b[1;33m             \u001b[0msplit_lyrics\u001b[0m \u001b[1;33m=\u001b[0m \u001b[0msplit_by_section\u001b[0m\u001b[1;33m(\u001b[0m\u001b[0mlyrics\u001b[0m\u001b[1;33m)\u001b[0m\u001b[1;33m\u001b[0m\u001b[1;33m\u001b[0m\u001b[0m\n\u001b[0m\u001b[0;32m     69\u001b[0m             \u001b[0msplit_tfidf_lyrics\u001b[0m \u001b[1;33m=\u001b[0m \u001b[1;33m[\u001b[0m\u001b[1;33m(\u001b[0m\u001b[0msection\u001b[0m\u001b[1;33m,\u001b[0m\u001b[0mlyrics_encode\u001b[0m\u001b[1;33m(\u001b[0m\u001b[0mlyrics\u001b[0m\u001b[1;33m)\u001b[0m\u001b[1;33m)\u001b[0m \u001b[1;32mfor\u001b[0m \u001b[0msection\u001b[0m\u001b[1;33m,\u001b[0m\u001b[0mlyrics\u001b[0m \u001b[1;32min\u001b[0m \u001b[0msplit_lyrics\u001b[0m\u001b[1;33m]\u001b[0m\u001b[1;33m\u001b[0m\u001b[1;33m\u001b[0m\u001b[0m\n\u001b[0;32m     70\u001b[0m             \u001b[1;32mfor\u001b[0m \u001b[0msection\u001b[0m\u001b[1;33m,\u001b[0m\u001b[0mencoding\u001b[0m \u001b[1;32min\u001b[0m \u001b[0msplit_tfidf_lyrics\u001b[0m\u001b[1;33m:\u001b[0m\u001b[1;33m\u001b[0m\u001b[1;33m\u001b[0m\u001b[0m\n",
      "\u001b[1;32m<ipython-input-133-bd66f0103ae3>\u001b[0m in \u001b[0;36msplit_by_section\u001b[1;34m(lyrics)\u001b[0m\n\u001b[0;32m      1\u001b[0m \u001b[1;31m#splits the given lyrics by section\u001b[0m\u001b[1;33m\u001b[0m\u001b[1;33m\u001b[0m\u001b[1;33m\u001b[0m\u001b[0m\n\u001b[0;32m      2\u001b[0m \u001b[1;32mdef\u001b[0m \u001b[0msplit_by_section\u001b[0m\u001b[1;33m(\u001b[0m\u001b[0mlyrics\u001b[0m\u001b[1;33m)\u001b[0m\u001b[1;33m:\u001b[0m\u001b[1;33m\u001b[0m\u001b[1;33m\u001b[0m\u001b[0m\n\u001b[1;32m----> 3\u001b[1;33m     \u001b[0mheaders\u001b[0m \u001b[1;33m=\u001b[0m \u001b[1;33m[\u001b[0m\u001b[0mword\u001b[0m\u001b[1;33m[\u001b[0m\u001b[1;36m1\u001b[0m\u001b[1;33m:\u001b[0m\u001b[1;33m-\u001b[0m\u001b[1;36m1\u001b[0m\u001b[1;33m]\u001b[0m \u001b[1;32mfor\u001b[0m \u001b[0mword\u001b[0m \u001b[1;32min\u001b[0m \u001b[0mlyrics\u001b[0m\u001b[1;33m.\u001b[0m\u001b[0msplit\u001b[0m\u001b[1;33m(\u001b[0m\u001b[1;33m)\u001b[0m \u001b[1;32mif\u001b[0m \u001b[0mword\u001b[0m\u001b[1;33m[\u001b[0m\u001b[1;36m0\u001b[0m\u001b[1;33m]\u001b[0m \u001b[1;33m==\u001b[0m \u001b[1;34m'['\u001b[0m \u001b[1;32mand\u001b[0m \u001b[0mword\u001b[0m\u001b[1;33m[\u001b[0m\u001b[1;33m-\u001b[0m\u001b[1;36m1\u001b[0m\u001b[1;33m]\u001b[0m \u001b[1;33m==\u001b[0m \u001b[1;34m']'\u001b[0m \u001b[1;32mand\u001b[0m \u001b[0mword\u001b[0m\u001b[1;33m[\u001b[0m\u001b[1;36m1\u001b[0m\u001b[1;33m:\u001b[0m\u001b[1;33m-\u001b[0m\u001b[1;36m1\u001b[0m\u001b[1;33m]\u001b[0m \u001b[1;32min\u001b[0m \u001b[0msection_headers\u001b[0m\u001b[1;33m]\u001b[0m\u001b[1;33m\u001b[0m\u001b[1;33m\u001b[0m\u001b[0m\n\u001b[0m\u001b[0;32m      4\u001b[0m     \u001b[0msplit_sections\u001b[0m \u001b[1;33m=\u001b[0m \u001b[0mre\u001b[0m\u001b[1;33m.\u001b[0m\u001b[0msplit\u001b[0m\u001b[1;33m(\u001b[0m\u001b[0mheader_strip_list\u001b[0m\u001b[1;33m,\u001b[0m \u001b[0mlyrics\u001b[0m\u001b[1;33m)\u001b[0m\u001b[1;33m\u001b[0m\u001b[1;33m\u001b[0m\u001b[0m\n\u001b[0;32m      5\u001b[0m     \u001b[0mret_sections\u001b[0m \u001b[1;33m=\u001b[0m \u001b[1;33m[\u001b[0m\u001b[0msection\u001b[0m\u001b[1;33m.\u001b[0m\u001b[0mstrip\u001b[0m\u001b[1;33m(\u001b[0m\u001b[1;33m)\u001b[0m \u001b[1;32mfor\u001b[0m \u001b[0msection\u001b[0m \u001b[1;32min\u001b[0m \u001b[0msplit_sections\u001b[0m \u001b[1;32mif\u001b[0m \u001b[1;33m(\u001b[0m\u001b[0msection\u001b[0m \u001b[1;33m!=\u001b[0m \u001b[1;34m''\u001b[0m \u001b[1;32mor\u001b[0m \u001b[0msection\u001b[0m \u001b[1;33m!=\u001b[0m \u001b[1;34m'\\n'\u001b[0m\u001b[1;33m)\u001b[0m\u001b[1;33m]\u001b[0m\u001b[1;33m\u001b[0m\u001b[1;33m\u001b[0m\u001b[0m\n",
      "\u001b[1;32mC:\\ProgramData\\Anaconda3\\lib\\site-packages\\pandas\\core\\generic.py\u001b[0m in \u001b[0;36m__getattr__\u001b[1;34m(self, name)\u001b[0m\n\u001b[0;32m   5272\u001b[0m             \u001b[1;32mif\u001b[0m \u001b[0mself\u001b[0m\u001b[1;33m.\u001b[0m\u001b[0m_info_axis\u001b[0m\u001b[1;33m.\u001b[0m\u001b[0m_can_hold_identifiers_and_holds_name\u001b[0m\u001b[1;33m(\u001b[0m\u001b[0mname\u001b[0m\u001b[1;33m)\u001b[0m\u001b[1;33m:\u001b[0m\u001b[1;33m\u001b[0m\u001b[1;33m\u001b[0m\u001b[0m\n\u001b[0;32m   5273\u001b[0m                 \u001b[1;32mreturn\u001b[0m \u001b[0mself\u001b[0m\u001b[1;33m[\u001b[0m\u001b[0mname\u001b[0m\u001b[1;33m]\u001b[0m\u001b[1;33m\u001b[0m\u001b[1;33m\u001b[0m\u001b[0m\n\u001b[1;32m-> 5274\u001b[1;33m             \u001b[1;32mreturn\u001b[0m \u001b[0mobject\u001b[0m\u001b[1;33m.\u001b[0m\u001b[0m__getattribute__\u001b[0m\u001b[1;33m(\u001b[0m\u001b[0mself\u001b[0m\u001b[1;33m,\u001b[0m \u001b[0mname\u001b[0m\u001b[1;33m)\u001b[0m\u001b[1;33m\u001b[0m\u001b[1;33m\u001b[0m\u001b[0m\n\u001b[0m\u001b[0;32m   5275\u001b[0m \u001b[1;33m\u001b[0m\u001b[0m\n\u001b[0;32m   5276\u001b[0m     \u001b[1;32mdef\u001b[0m \u001b[0m__setattr__\u001b[0m\u001b[1;33m(\u001b[0m\u001b[0mself\u001b[0m\u001b[1;33m,\u001b[0m \u001b[0mname\u001b[0m\u001b[1;33m:\u001b[0m \u001b[0mstr\u001b[0m\u001b[1;33m,\u001b[0m \u001b[0mvalue\u001b[0m\u001b[1;33m)\u001b[0m \u001b[1;33m->\u001b[0m \u001b[1;32mNone\u001b[0m\u001b[1;33m:\u001b[0m\u001b[1;33m\u001b[0m\u001b[1;33m\u001b[0m\u001b[0m\n",
      "\u001b[1;31mAttributeError\u001b[0m: 'DataFrame' object has no attribute 'split'"
     ]
    }
   ],
   "source": [
    "section_split_classifier2 = SectionSplitClassifier(trained_classifiers, corpus_weights)\n",
    "X_train_array = [tfidf_test[header].drop(columns=['y']) for header in section_headers]\n",
    "string_predictions = section_split_classifier2.predict(X_train_array, verbose=1)"
   ]
  },
  {
   "cell_type": "code",
   "execution_count": 124,
   "metadata": {},
   "outputs": [
    {
     "output_type": "execute_result",
     "data": {
      "text/plain": "7661"
     },
     "metadata": {},
     "execution_count": 124
    }
   ],
   "source": [
    "np.sum([np.array(weighted_predictions[i]).shape[0] for i in range(len(weighted_predictions))])"
   ]
  },
  {
   "cell_type": "code",
   "execution_count": 125,
   "metadata": {},
   "outputs": [
    {
     "output_type": "execute_result",
     "data": {
      "text/plain": "   , 0.        , 0.29592213, 0.        ]),\n array([0.        , 0.29592213, 0.        , 0.        ]),\n array([0.        , 0.29592213, 0.        , 0.        ]),\n array([0.        , 0.29592213, 0.        , 0.        ]),\n array([0.        , 0.29592213, 0.        , 0.        ]),\n array([0.        , 0.29592213, 0.        , 0.        ]),\n array([0.        , 0.29592213, 0.        , 0.        ]),\n array([0.        , 0.29592213, 0.        , 0.        ]),\n array([0.        , 0.        , 0.29592213, 0.        ]),\n array([0.        , 0.        , 0.29592213, 0.        ]),\n array([0.        , 0.        , 0.29592213, 0.        ]),\n array([0.        , 0.        , 0.29592213, 0.        ]),\n array([0.        , 0.29592213, 0.        , 0.        ]),\n array([0.        , 0.29592213, 0.        , 0.        ]),\n array([0.        , 0.29592213, 0.        , 0.        ]),\n array([0.        , 0.29592213, 0.        , 0.        ]),\n array([0.        , 0.29592213, 0.        , 0.        ]),\n array([0.        , 0.29592213, 0.        , 0.        ]),\n array([0.        , 0.29592213, 0.        , 0.        ]),\n array([0.        , 0.29592213, 0.        , 0.        ]),\n array([0.        , 0.        , 0.29592213, 0.        ]),\n array([0.        , 0.        , 0.29592213, 0.        ]),\n array([0.        , 0.29592213, 0.        , 0.        ]),\n array([0.        , 0.        , 0.29592213, 0.        ]),\n array([0.        , 0.29592213, 0.        , 0.        ]),\n array([0.        , 0.        , 0.29592213, 0.        ]),\n array([0.        , 0.29592213, 0.        , 0.        ]),\n array([0.        , 0.29592213, 0.        , 0.        ]),\n array([0.        , 0.29592213, 0.        , 0.        ]),\n array([0.        , 0.29592213, 0.        , 0.        ]),\n array([0.        , 0.29592213, 0.        , 0.        ]),\n array([0.        , 0.29592213, 0.        , 0.        ]),\n array([0.        , 0.29592213, 0.        , 0.        ]),\n array([0.        , 0.29592213, 0.        , 0.        ]),\n array([0.        , 0.29592213, 0.        , 0.        ]),\n array([0.        , 0.29592213, 0.        , 0.        ]),\n array([0.        , 0.29592213, 0.        , 0.        ]),\n array([0.        , 0.29592213, 0.        , 0.        ]),\n array([0.        , 0.29592213, 0.        , 0.        ]),\n array([0.        , 0.        , 0.29592213, 0.        ]),\n array([0.        , 0.        , 0.29592213, 0.        ]),\n array([0.        , 0.        , 0.29592213, 0.        ]),\n array([0.        , 0.        , 0.29592213, 0.        ]),\n array([0.        , 0.29592213, 0.        , 0.        ]),\n array([0.        , 0.        , 0.29592213, 0.        ]),\n array([0.        , 0.        , 0.29592213, 0.        ]),\n array([0.        , 0.29592213, 0.        , 0.        ]),\n array([0.        , 0.        , 0.29592213, 0.        ]),\n array([0.        , 0.        , 0.29592213, 0.        ]),\n array([0.        , 0.        , 0.29592213, 0.        ]),\n array([0.        , 0.        , 0.29592213, 0.        ]),\n array([0.        , 0.29592213, 0.        , 0.        ]),\n array([0.        , 0.29592213, 0.        , 0.        ]),\n array([0.        , 0.29592213, 0.        , 0.        ]),\n array([0.        , 0.29592213, 0.        , 0.        ]),\n array([0.        , 0.29592213, 0.        , 0.        ]),\n array([0.        , 0.29592213, 0.        , 0.        ]),\n array([0.        , 0.29592213, 0.        , 0.        ]),\n array([0.        , 0.29592213, 0.        , 0.        ]),\n array([0.        , 0.29592213, 0.        , 0.        ]),\n array([0.        , 0.29592213, 0.        , 0.        ]),\n array([0.        , 0.29592213, 0.        , 0.        ]),\n array([0.        , 0.29592213, 0.        , 0.        ]),\n array([0.        , 0.29592213, 0.        , 0.        ]),\n array([0.        , 0.        , 0.29592213, 0.        ]),\n array([0.        , 0.        , 0.29592213, 0.        ]),\n array([0.        , 0.29592213, 0.        , 0.        ]),\n array([0.        , 0.        , 0.29592213, 0.        ]),\n array([0.        , 0.29592213, 0.        , 0.        ]),\n array([0.        , 0.29592213, 0.        , 0.        ]),\n array([0.        , 0.29592213, 0.        , 0.        ]),\n array([0.        , 0.29592213, 0.        , 0.        ]),\n array([0.        , 0.29592213, 0.        , 0.        ]),\n array([0.        , 0.29592213, 0.        , 0.        ]),\n array([0.        , 0.        , 0.29592213, 0.        ]),\n array([0.        , 0.        , 0.29592213, 0.        ]),\n array([0.        , 0.29592213, 0.        , 0.        ]),\n array([0.        , 0.29592213, 0.        , 0.        ]),\n array([0.        , 0.29592213, 0.        , 0.        ]),\n array([0.        , 0.29592213, 0.        , 0.        ]),\n array([0.        , 0.29592213, 0.        , 0.        ]),\n array([0.        , 0.29592213, 0.        , 0.        ]),\n array([0.        , 0.29592213, 0.        , 0.        ]),\n array([0.        , 0.29592213, 0.        , 0.        ]),\n array([0.        , 0.        , 0.29592213, 0.        ]),\n array([0.        , 0.        , 0.29592213, 0.        ]),\n array([0.        , 0.29592213, 0.        , 0.        ]),\n array([0.        , 0.        , 0.29592213, 0.        ]),\n array([0.        , 0.        , 0.29592213, 0.        ]),\n array([0.        , 0.        , 0.29592213, 0.        ]),\n array([0.        , 0.29592213, 0.        , 0.        ]),\n array([0.        , 0.        , 0.29592213, 0.        ]),\n array([0.        , 0.        , 0.29592213, 0.        ]),\n array([0.        , 0.        , 0.29592213, 0.        ]),\n array([0.        , 0.        , 0.29592213, 0.        ]),\n array([0.        , 0.        , 0.29592213, 0.        ]),\n array([0.        , 0.        , 0.29592213, 0.        ]),\n array([0.        , 0.        , 0.29592213, 0.        ]),\n array([0.        , 0.29592213, 0.        , 0.        ]),\n array([0.        , 0.29592213, 0.        , 0.        ]),\n array([0.        , 0.29592213, 0.        , 0.        ]),\n array([0.        , 0.29592213, 0.        , 0.        ]),\n array([0.        , 0.29592213, 0.        , 0.        ]),\n array([0.        , 0.29592213, 0.        , 0.        ]),\n array([0.        , 0.29592213, 0.        , 0.        ]),\n array([0.        , 0.29592213, 0.        , 0.        ]),\n array([0.        , 0.29592213, 0.        , 0.        ]),\n array([0.        , 0.        , 0.29592213, 0.        ]),\n array([0.        , 0.        , 0.29592213, 0.        ]),\n array([0.        , 0.        , 0.29592213, 0.        ]),\n array([0.        , 0.29592213, 0.        , 0.        ]),\n array([0.        , 0.        , 0.29592213, 0.        ]),\n array([0.        , 0.        , 0.29592213, 0.        ]),\n array([0.        , 0.29592213, 0.        , 0.        ]),\n array([0.        , 0.        , 0.29592213, 0.        ]),\n array([0.        , 0.29592213, 0.        , 0.        ]),\n array([0.        , 0.        , 0.29592213, 0.        ]),\n array([0.        , 0.        , 0.29592213, 0.        ]),\n array([0.        , 0.        , 0.29592213, 0.        ]),\n array([0.        , 0.29592213, 0.        , 0.        ]),\n array([0.        , 0.29592213, 0.        , 0.        ]),\n array([0.        , 0.29592213, 0.        , 0.        ]),\n array([0.        , 0.29592213, 0.        , 0.        ]),\n array([0.        , 0.        , 0.29592213, 0.        ]),\n array([0.        , 0.        , 0.29592213, 0.        ]),\n array([0.        , 0.29592213, 0.        , 0.        ]),\n array([0.        , 0.29592213, 0.        , 0.        ]),\n array([0.        , 0.29592213, 0.        , 0.        ]),\n array([0.        , 0.29592213, 0.        , 0.        ]),\n array([0.        , 0.29592213, 0.        , 0.        ]),\n array([0.        , 0.        , 0.29592213, 0.        ]),\n array([0.        , 0.29592213, 0.        , 0.        ]),\n array([0.        , 0.29592213, 0.        , 0.        ]),\n array([0.        , 0.        , 0.29592213, 0.        ]),\n array([0.        , 0.        , 0.29592213, 0.        ]),\n array([0.        , 0.29592213, 0.        , 0.        ]),\n array([0.        , 0.29592213, 0.        , 0.        ]),\n array([0.        , 0.29592213, 0.        , 0.        ]),\n array([0.        , 0.29592213, 0.        , 0.        ]),\n array([0.        , 0.29592213, 0.        , 0.        ]),\n array([0.        , 0.29592213, 0.        , 0.        ]),\n array([0.        , 0.29592213, 0.        , 0.        ]),\n array([0.        , 0.29592213, 0.        , 0.        ]),\n array([0.        , 0.29592213, 0.        , 0.        ]),\n array([0.        , 0.29592213, 0.        , 0.        ]),\n array([0.        , 0.        , 0.29592213, 0.        ]),\n array([0.        , 0.        , 0.29592213, 0.        ]),\n array([0.        , 0.29592213, 0.        , 0.        ]),\n array([0.        , 0.29592213, 0.        , 0.        ]),\n array([0.        , 0.29592213, 0.        , 0.        ]),\n array([0.        , 0.29592213, 0.        , 0.        ]),\n array([0.        , 0.29592213, 0.        , 0.        ]),\n array([0.        , 0.29592213, 0.        , 0.        ]),\n array([0.        , 0.29592213, 0.        , 0.        ]),\n array([0.        , 0.29592213, 0.        , 0.        ]),\n array([0.        , 0.29592213, 0.        , 0.        ]),\n array([0.        , 0.        , 0.29592213, 0.        ]),\n array([0.        , 0.        , 0.29592213, 0.        ]),\n array([0.        , 0.29592213, 0.        , 0.        ]),\n array([0.        , 0.        , 0.29592213, 0.        ]),\n array([0.        , 0.29592213, 0.        , 0.        ]),\n array([0.        , 0.29592213, 0.        , 0.        ]),\n array([0.        , 0.29592213, 0.        , 0.        ]),\n array([0.        , 0.29592213, 0.        , 0.        ]),\n array([0.        , 0.29592213, 0.        , 0.        ]),\n array([0.        , 0.29592213, 0.        , 0.        ]),\n array([0.        , 0.        , 0.29592213, 0.        ]),\n array([0.        , 0.29592213, 0.        , 0.        ]),\n array([0.        , 0.29592213, 0.        , 0.        ]),\n array([0.        , 0.        , 0.29592213, 0.        ]),\n array([0.        , 0.        , 0.29592213, 0.        ]),\n array([0.        , 0.        , 0.29592213, 0.        ]),\n array([0.        , 0.29592213, 0.        , 0.        ]),\n array([0.        , 0.29592213, 0.        , 0.        ]),\n array([0.        , 0.        , 0.29592213, 0.        ]),\n array([0.        , 0.29592213, 0.        , 0.        ]),\n array([0.        , 0.29592213, 0.        , 0.        ]),\n array([0.        , 0.29592213, 0.        , 0.        ]),\n array([0.        , 0.29592213, 0.        , 0.        ]),\n array([0.        , 0.29592213, 0.        , 0.        ]),\n array([0.        , 0.29592213, 0.        , 0.        ]),\n array([0.        , 0.29592213, 0.        , 0.        ]),\n array([0.        , 0.        , 0.29592213, 0.        ]),\n array([0.        , 0.        , 0.29592213, 0.        ]),\n array([0.        , 0.29592213, 0.        , 0.        ]),\n array([0.        , 0.29592213, 0.        , 0.        ]),\n array([0.        , 0.29592213, 0.        , 0.        ]),\n array([0.        , 0.29592213, 0.        , 0.        ]),\n array([0.        , 0.29592213, 0.        , 0.        ]),\n array([0.        , 0.29592213, 0.        , 0.        ]),\n array([0.        , 0.29592213, 0.        , 0.        ]),\n array([0.        , 0.29592213, 0.        , 0.        ]),\n array([0.        , 0.29592213, 0.        , 0.        ]),\n array([0.        , 0.29592213, 0.        , 0.        ]),\n array([0.        , 0.29592213, 0.        , 0.        ]),\n array([0.        , 0.        , 0.29592213, 0.        ]),\n array([0.        , 0.29592213, 0.        , 0.        ]),\n array([0.        , 0.29592213, 0.        , 0.        ]),\n array([0.        , 0.        , 0.29592213, 0.        ]),\n array([0.        , 0.        , 0.29592213, 0.        ]),\n array([0.        , 0.        , 0.29592213, 0.        ]),\n array([0.        , 0.        , 0.29592213, 0.        ]),\n array([0.        , 0.        , 0.29592213, 0.        ]),\n array([0.        , 0.        , 0.29592213, 0.        ]),\n array([0.        , 0.29592213, 0.        , 0.        ]),\n array([0.        , 0.29592213, 0.        , 0.        ]),\n array([0.        , 0.        , 0.29592213, 0.        ]),\n array([0.        , 0.29592213, 0.        , 0.        ]),\n array([0.        , 0.29592213, 0.        , 0.        ]),\n array([0.        , 0.        , 0.29592213, 0.        ]),\n array([0.        , 0.29592213, 0.        , 0.        ]),\n array([0.        , 0.        , 0.29592213, 0.        ]),\n array([0.        , 0.        , 0.29592213, 0.        ]),\n array([0.        , 0.29592213, 0.        , 0.        ]),\n array([0.        , 0.        , 0.29592213, 0.        ]),\n array([0.        , 0.29592213, 0.        , 0.        ]),\n array([0.        , 0.29592213, 0.        , 0.        ]),\n array([0.        , 0.        , 0.29592213, 0.        ]),\n array([0.        , 0.        , 0.29592213, 0.        ]),\n array([0.        , 0.29592213, 0.        , 0.        ]),\n array([0.        , 0.        , 0.29592213, 0.        ]),\n array([0.        , 0.        , 0.29592213, 0.        ]),\n array([0.        , 0.        , 0.29592213, 0.        ]),\n array([0.        , 0.29592213, 0.        , 0.        ]),\n array([0.        , 0.29592213, 0.        , 0.        ]),\n array([0.        , 0.29592213, 0.        , 0.        ]),\n array([0.        , 0.        , 0.29592213, 0.        ]),\n array([0.        , 0.29592213, 0.        , 0.        ]),\n array([0.        , 0.29592213, 0.        , 0.        ]),\n array([0.        , 0.29592213, 0.        , 0.        ]),\n array([0.        , 0.29592213, 0.        , 0.        ]),\n array([0.        , 0.29592213, 0.        , 0.        ]),\n array([0.        , 0.29592213, 0.        , 0.        ]),\n array([0.        , 0.29592213, 0.        , 0.        ]),\n array([0.        , 0.29592213, 0.        , 0.        ]),\n array([0.        , 0.        , 0.29592213, 0.        ]),\n array([0.        , 0.29592213, 0.        , 0.        ]),\n array([0.        , 0.29592213, 0.        , 0.        ]),\n array([0.        , 0.29592213, 0.        , 0.        ]),\n array([0.        , 0.29592213, 0.        , 0.        ]),\n array([0.        , 0.29592213, 0.        , 0.        ]),\n array([0.        , 0.29592213, 0.        , 0.        ]),\n array([0.        , 0.        , 0.29592213, 0.        ]),\n array([0.        , 0.29592213, 0.        , 0.        ]),\n array([0.        , 0.29592213, 0.        , 0.        ]),\n array([0.        , 0.        , 0.29592213, 0.        ]),\n array([0.        , 0.        , 0.29592213, 0.        ]),\n array([0.        , 0.        , 0.29592213, 0.        ]),\n array([0.        , 0.        , 0.29592213, 0.        ]),\n array([0.        , 0.29592213, 0.        , 0.        ]),\n array([0.        , 0.29592213, 0.        , 0.        ]),\n array([0.        , 0.        , 0.29592213, 0.        ]),\n array([0.        , 0.        , 0.29592213, 0.        ]),\n array([0.        , 0.        , 0.29592213, 0.        ]),\n array([0.        , 0.        , 0.29592213, 0.        ]),\n array([0.        , 0.        , 0.29592213, 0.        ]),\n array([0.        , 0.        , 0.29592213, 0.        ]),\n array([0.        , 0.        , 0.29592213, 0.        ]),\n array([0.        , 0.        , 0.29592213, 0.        ]),\n array([0.        , 0.29592213, 0.        , 0.        ]),\n array([0.        , 0.29592213, 0.        , 0.        ]),\n array([0.        , 0.29592213, 0.        , 0.        ]),\n array([0.        , 0.29592213, 0.        , 0.        ]),\n array([0.        , 0.        , 0.29592213, 0.        ]),\n array([0.        , 0.29592213, 0.        , 0.        ]),\n array([0.        , 0.        , 0.29592213, 0.        ]),\n array([0.        , 0.29592213, 0.        , 0.        ]),\n array([0.        , 0.29592213, 0.        , 0.        ]),\n array([0.        , 0.        , 0.29592213, 0.        ]),\n array([0.        , 0.        , 0.29592213, 0.        ]),\n array([0.        , 0.29592213, 0.        , 0.        ]),\n array([0.        , 0.29592213, 0.        , 0.        ]),\n array([0.        , 0.        , 0.29592213, 0.        ]),\n array([0.        , 0.        , 0.29592213, 0.        ]),\n array([0.        , 0.        , 0.29592213, 0.        ]),\n array([0.        , 0.29592213, 0.        , 0.        ]),\n array([0.        , 0.        , 0.29592213, 0.        ]),\n array([0.        , 0.        , 0.29592213, 0.        ]),\n array([0.        , 0.        , 0.29592213, 0.        ]),\n array([0.        , 0.29592213, 0.        , 0.        ]),\n array([0.        , 0.29592213, 0.        , 0.        ]),\n array([0.        , 0.        , 0.29592213, 0.        ]),\n array([0.        , 0.        , 0.29592213, 0.        ]),\n array([0.        , 0.        , 0.29592213, 0.        ]),\n array([0.        , 0.        , 0.29592213, 0.        ]),\n array([0.        , 0.        , 0.29592213, 0.        ]),\n array([0.        , 0.29592213, 0.        , 0.        ]),\n array([0.        , 0.29592213, 0.        , 0.        ]),\n array([0.        , 0.        , 0.29592213, 0.        ]),\n array([0.        , 0.        , 0.29592213, 0.        ]),\n array([0.        , 0.        , 0.29592213, 0.        ]),\n array([0.        , 0.29592213, 0.        , 0.        ]),\n array([0.        , 0.29592213, 0.        , 0.        ]),\n array([0.        , 0.29592213, 0.        , 0.        ]),\n array([0.        , 0.29592213, 0.        , 0.        ]),\n array([0.        , 0.29592213, 0.        , 0.        ]),\n array([0.        , 0.        , 0.29592213, 0.        ]),\n array([0.        , 0.        , 0.29592213, 0.        ]),\n array([0.        , 0.29592213, 0.        , 0.        ]),\n array([0.        , 0.29592213, 0.        , 0.        ]),\n array([0.        , 0.29592213, 0.        , 0.        ]),\n array([0.        , 0.29592213, 0.        , 0.        ]),\n array([0.        , 0.        , 0.29592213, 0.        ]),\n array([0.        , 0.29592213, 0.        , 0.        ]),\n array([0.        , 0.        , 0.29592213, 0.        ]),\n array([0.        , 0.        , 0.29592213, 0.        ]),\n array([0.        , 0.29592213, 0.        , 0.        ]),\n array([0.29592213, 0.        , 0.        , 0.        ]),\n array([0.        , 0.        , 0.29592213, 0.        ]),\n array([0.        , 0.29592213, 0.        , 0.        ]),\n array([0.        , 0.29592213, 0.        , 0.        ]),\n array([0.        , 0.        , 0.29592213, 0.        ]),\n array([0.        , 0.        , 0.29592213, 0.        ]),\n array([0.        , 0.29592213, 0.        , 0.        ]),\n array([0.        , 0.29592213, 0.        , 0.        ]),\n array([0.        , 0.29592213, 0.        , 0.        ]),\n array([0.        , 0.29592213, 0.        , 0.        ]),\n array([0.        , 0.29592213, 0.        , 0.        ]),\n array([0.        , 0.        , 0.29592213, 0.        ]),\n array([0.        , 0.        , 0.29592213, 0.        ]),\n array([0.        , 0.        , 0.29592213, 0.        ]),\n array([0.        , 0.29592213, 0.        , 0.        ]),\n array([0.        , 0.29592213, 0.        , 0.        ]),\n array([0.        , 0.29592213, 0.        , 0.        ]),\n array([0.        , 0.29592213, 0.        , 0.        ]),\n array([0.        , 0.29592213, 0.        , 0.        ]),\n array([0.        , 0.29592213, 0.        , 0.        ]),\n array([0.        , 0.        , 0.29592213, 0.        ]),\n array([0.        , 0.        , 0.29592213, 0.        ]),\n array([0.        , 0.29592213, 0.        , 0.        ]),\n array([0.        , 0.29592213, 0.        , 0.        ]),\n array([0.        , 0.29592213, 0.        , 0.        ]),\n array([0.        , 0.29592213, 0.        , 0.        ]),\n array([0.        , 0.29592213, 0.        , 0.        ]),\n array([0.        , 0.29592213, 0.        , 0.        ]),\n array([0.        , 0.29592213, 0.        , 0.        ]),\n array([0.        , 0.        , 0.29592213, 0.        ]),\n array([0.        , 0.        , 0.29592213, 0.        ]),\n array([0.        , 0.29592213, 0.        , 0.        ]),\n array([0.        , 0.29592213, 0.        , 0.        ]),\n array([0.        , 0.29592213, 0.        , 0.        ]),\n array([0.        , 0.29592213, 0.        , 0.        ]),\n array([0.        , 0.29592213, 0.        , 0.        ]),\n array([0.        , 0.29592213, 0.        , 0.        ]),\n array([0.        , 0.29592213, 0.        , 0.        ]),\n ...]"
     },
     "metadata": {},
     "execution_count": 125
    }
   ],
   "source": [
    "summed_predictions"
   ]
  },
  {
   "cell_type": "code",
   "execution_count": 93,
   "metadata": {},
   "outputs": [
    {
     "output_type": "execute_result",
     "data": {
      "text/plain": "  lyrics    genre\n0         country\n1          hiphop\n2             pop\n3            rock\n4         country\n5          hiphop\n6             pop\n7            rock",
      "text/html": "<div>\n<style scoped>\n    .dataframe tbody tr th:only-of-type {\n        vertical-align: middle;\n    }\n\n    .dataframe tbody tr th {\n        vertical-align: top;\n    }\n\n    .dataframe thead th {\n        text-align: right;\n    }\n</style>\n<table border=\"1\" class=\"dataframe\">\n  <thead>\n    <tr style=\"text-align: right;\">\n      <th></th>\n      <th>lyrics</th>\n      <th>genre</th>\n    </tr>\n  </thead>\n  <tbody>\n    <tr>\n      <th>0</th>\n      <td></td>\n      <td>country</td>\n    </tr>\n    <tr>\n      <th>1</th>\n      <td></td>\n      <td>hiphop</td>\n    </tr>\n    <tr>\n      <th>2</th>\n      <td></td>\n      <td>pop</td>\n    </tr>\n    <tr>\n      <th>3</th>\n      <td></td>\n      <td>rock</td>\n    </tr>\n    <tr>\n      <th>4</th>\n      <td></td>\n      <td>country</td>\n    </tr>\n    <tr>\n      <th>5</th>\n      <td></td>\n      <td>hiphop</td>\n    </tr>\n    <tr>\n      <th>6</th>\n      <td></td>\n      <td>pop</td>\n    </tr>\n    <tr>\n      <th>7</th>\n      <td></td>\n      <td>rock</td>\n    </tr>\n  </tbody>\n</table>\n</div>"
     },
     "metadata": {},
     "execution_count": 93
    }
   ],
   "source": [
    "train_dfs['Hooks']"
   ]
  },
  {
   "cell_type": "code",
   "execution_count": 94,
   "metadata": {},
   "outputs": [
    {
     "output_type": "execute_result",
     "data": {
      "text/plain": "                                                  lyrics   genre\n0      \\nI'ma break you off, let me be your motivatio...     pop\n1      \\nI'ma break you off, let me be your motivatio...     pop\n2      \\nI'ma break you off, let me be your motivatio...     pop\n3      \\nIf everything you see is what you're believi...  hiphop\n4      \\nIf everything you see is what you're believi...  hiphop\n...                                                  ...     ...\n10876  \\nI am flesh and I am bone\\nI'll rise ting tin...  hiphop\n10877  \\nI am flesh and I am bone\\nI'll rise ting tin...  hiphop\n10878  \\nTo the right, to the left\\nWe will fight to ...    rock\n10879  \\nTo the right, to the left\\nWe will fight to ...    rock\n10880  \\nTo the right, to the left\\nWe will fight to ...    rock\n\n[10881 rows x 2 columns]",
      "text/html": "<div>\n<style scoped>\n    .dataframe tbody tr th:only-of-type {\n        vertical-align: middle;\n    }\n\n    .dataframe tbody tr th {\n        vertical-align: top;\n    }\n\n    .dataframe thead th {\n        text-align: right;\n    }\n</style>\n<table border=\"1\" class=\"dataframe\">\n  <thead>\n    <tr style=\"text-align: right;\">\n      <th></th>\n      <th>lyrics</th>\n      <th>genre</th>\n    </tr>\n  </thead>\n  <tbody>\n    <tr>\n      <th>0</th>\n      <td>\\nI'ma break you off, let me be your motivatio...</td>\n      <td>pop</td>\n    </tr>\n    <tr>\n      <th>1</th>\n      <td>\\nI'ma break you off, let me be your motivatio...</td>\n      <td>pop</td>\n    </tr>\n    <tr>\n      <th>2</th>\n      <td>\\nI'ma break you off, let me be your motivatio...</td>\n      <td>pop</td>\n    </tr>\n    <tr>\n      <th>3</th>\n      <td>\\nIf everything you see is what you're believi...</td>\n      <td>hiphop</td>\n    </tr>\n    <tr>\n      <th>4</th>\n      <td>\\nIf everything you see is what you're believi...</td>\n      <td>hiphop</td>\n    </tr>\n    <tr>\n      <th>...</th>\n      <td>...</td>\n      <td>...</td>\n    </tr>\n    <tr>\n      <th>10876</th>\n      <td>\\nI am flesh and I am bone\\nI'll rise ting tin...</td>\n      <td>hiphop</td>\n    </tr>\n    <tr>\n      <th>10877</th>\n      <td>\\nI am flesh and I am bone\\nI'll rise ting tin...</td>\n      <td>hiphop</td>\n    </tr>\n    <tr>\n      <th>10878</th>\n      <td>\\nTo the right, to the left\\nWe will fight to ...</td>\n      <td>rock</td>\n    </tr>\n    <tr>\n      <th>10879</th>\n      <td>\\nTo the right, to the left\\nWe will fight to ...</td>\n      <td>rock</td>\n    </tr>\n    <tr>\n      <th>10880</th>\n      <td>\\nTo the right, to the left\\nWe will fight to ...</td>\n      <td>rock</td>\n    </tr>\n  </tbody>\n</table>\n<p>10881 rows × 2 columns</p>\n</div>"
     },
     "metadata": {},
     "execution_count": 94
    }
   ],
   "source": [
    "train_dfs['Chorus']"
   ]
  },
  {
   "cell_type": "code",
   "execution_count": 103,
   "metadata": {},
   "outputs": [
    {
     "output_type": "stream",
     "name": "stdout",
     "text": "len(arr) = 3\nlen(arr)[0] = 2\nlen(arr)[0][0] = 4\nlen(summed) = 2\nlen(summed[0] = 4\n"
    }
   ],
   "source": [
    "arr = [[[0, 1, 2, 3], [4, 5, 6, 7]],\n",
    "       [[8, 9, 10, 11], [12, 13, 14, 15]],\n",
    "       [[16, 17, 18, 19], [20, 21, 22, 23]]]\n",
    "\n",
    "summed = np.sum(arr, axis=0)\n",
    "\n",
    "print(f'len(arr) = {len(arr)}')\n",
    "print(f'len(arr)[0] = {len(arr[0])}')\n",
    "print(f'len(arr)[0][0] = {len(arr[0][0])}')\n",
    "print(f'len(summed) = {len(summed)}')\n",
    "print(f'len(summed[0] = {len(summed[0])}')\n",
    ""
   ]
  },
  {
   "cell_type": "code",
   "execution_count": 131,
   "metadata": {},
   "outputs": [
    {
     "output_type": "execute_result",
     "data": {
      "text/plain": "array([0, 1, 0, 0])"
     },
     "metadata": {},
     "execution_count": 131
    }
   ],
   "source": [
    "np.sum([[0,1,0,0], [0,0,0,0]], axis=0)"
   ]
  }
 ],
 "metadata": {
  "kernelspec": {
   "display_name": "Python 3",
   "language": "python",
   "name": "python3"
  },
  "language_info": {
   "codemirror_mode": {
    "name": "ipython",
    "version": 3
   },
   "file_extension": ".py",
   "mimetype": "text/x-python",
   "name": "python",
   "nbconvert_exporter": "python",
   "pygments_lexer": "ipython3",
   "version": "3.7.4-final"
  }
 },
 "nbformat": 4,
 "nbformat_minor": 4
}