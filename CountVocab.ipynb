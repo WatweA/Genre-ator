{
 "cells": [
  {
   "cell_type": "code",
   "execution_count": 1,
   "metadata": {},
   "outputs": [],
   "source": [
    "import pandas as pd\n",
    "from nltk.tokenize import word_tokenize"
   ]
  },
  {
   "cell_type": "code",
   "execution_count": 2,
   "metadata": {},
   "outputs": [],
   "source": [
    "# Load the lyrics into dataframes\n",
    "country_lyrics = pd.read_csv(r'cleaned_section_headers/country_lyrics_cleaned.csv')\n",
    "hiphop_lyrics = pd.read_csv(r'cleaned_section_headers/hiphop_lyrics_cleaned.csv')\n",
    "pop_lyrics = pd.read_csv(r'cleaned_section_headers/pop_lyrics_cleaned.csv')\n",
    "rock_lyrics = pd.read_csv(r'cleaned_section_headers/rock_lyrics_cleaned.csv')"
   ]
  },
  {
   "cell_type": "code",
   "execution_count": 3,
   "metadata": {
    "tags": [
     "outputPrepend",
     "outputPrepend",
     "outputPrepend",
     "outputPrepend",
     "outputPrepend",
     "outputPrepend",
     "outputPrepend",
     "outputPrepend",
     "outputPrepend",
     "outputPrepend",
     "outputPrepend",
     "outputPrepend",
     "outputPrepend",
     "outputPrepend",
     "outputPrepend",
     "outputPrepend",
     "outputPrepend",
     "outputPrepend",
     "outputPrepend",
     "outputPrepend",
     "outputPrepend",
     "outputPrepend",
     "outputPrepend",
     "outputPrepend",
     "outputPrepend",
     "outputPrepend",
     "outputPrepend",
     "outputPrepend",
     "outputPrepend",
     "outputPrepend",
     "outputPrepend",
     "outputPrepend",
     "outputPrepend"
    ]
   },
   "outputs": [
    {
     "output_type": "stream",
     "name": "stdout",
     "text": "ams In Total DarknessThe National\nRight NowHAIM\nFeels Like SummerWeezer\n26Paramore\nPoolParamore\nRunFoo Fighters\nMidnight RiderThe Allman Brothers Band\nEverything NowArcade Fire\nDig DownMuse\nHard LoveNEEDTOBREATHE\nOld Church ChoirZach Williams\nThe ViolenceRise Against\nBlack RoseVolbeat\nThe ManThe Killers\nSong #3Stone Sour\nJ-BoyPhoenix\nNow That We're DeadMetallica\nDoing It For The MoneyFoster The People\nSuit And JacketJudah\nLittle OneHighly Suspect\nIn The EndLinkin Park\nNumbLinkin Park\nWhat I've DoneLinkin Park\nCrawlingLinkin Park\nSomewhere I BelongLinkin Park\nLess ThanNine Inch Nails\nOne Step CloserLinkin Park\nBreaking The HabitLinkin Park\nMiracles (Someone Special)Coldplay\nNumb/EncoreJay-Z/Linkin Park\nTalking To MyselfLinkin Park\nWalking The WireImagine Dragons\nGreatest Show On EarthKid Rock\nMy Mind Is For SaleJack Johnson\nThe Way You Used To DoQueens Of The Stone Age\nTwo HighMoon Taxi\nAll I Can Think About Is YouColdplay\nSuper FarLANY\nLittle Of Your LoveHAIM\nChampionFall Out Boy\nThe Evil Has LandedQueens Of The Stone Age\nAhead Of MyselfX Ambassadors\nFoolFitz And The Tantrums\nOh DevilElectric Guest\nGood TimesAll Time Low\nWhole Wide WorldCage The Elephant\nWe Know Where You Fucking LiveMarilyn Manson\nAmerican DreamsPapa Roach\nCross My MindA R I Z O N A\nLiving On The 110Prophets Of Rage\nFree FallinTom Petty\nI Won't Back DownTom Petty\nMary Jane's Last DanceTom Petty And The Heartbreakers\nLearning To FlyTom Petty And The Heartbreakers\nLos AgelessSt. Vincent\nLove FallsHellYeah\nPillsSt. Vincent\nJudasFozzy\nRise UpImagine Dragons\nS.O.B.Nathaniel Rateliff\nUGH!The 1975\n2 HeadsColeman Hell\nThe Sound Of SilenceDisturbed\nEverglowColdplay\nFire And The FloodVance Joy\nMess AroundCage The Elephant\nThe LightDisturbed\nThroneBring Me The Horizon\nWash It All AwayFive Finger Death Punch\nCut The CordShinedown\nThe Ghosts Of Beverly DriveDeath Cab For Cutie\nRootsImagine Dragons\nA Head Full Of DreamsColdplay\nLove MeThe 1975\nFunColdplay\nState Of My HeadShinedown\nMountain At My GatesFoals\nBirdsColdplay\nNearly Forgot My Broken HeartChris Cornell\nPrideAmerican Authors\nNightlightSilversun Pickups\nSound & ColorAlabama Shakes\nArmy Of OneColdplay\nTrip SwitchNothing But Thieves\nLA DevoteePanic! At The Disco\nThe Less I Know The BetterTame Impala\nThank God For GirlsWeezer\nR.I.P. 2 My YouthThe Neighbourhood\nMessage Mantwenty one pilots\nMercyMuse\nLeave A TraceCHVRCHES\nGonertwenty one pilots\nAmazing DayColdplay\nWe Don't Believe What's On TVtwenty one pilots\nFallen AngelThree Days Grace\nI Am The FireHalestorm\nUp&UpColdplay\nHotel CaliforniaEagles\nWalking On A DreamEmpire Of The Sun\nSpace OddityDavid Bowie\nElectric LoveBORNS\nLazarusDavid Bowie\nTake It EasyEagles\nLet's DanceDavid Bowie\nHeroesDavid Bowie\nChangesDavid Bowie\nHouse Of MemoriesPanic! At The Disco\nCrazy=GeniusPanic! At The Disco\nThe Good, The Bad And The DirtyPanic! At The Disco\nBlackstarDavid Bowie\nGolden DaysPanic! At The Disco\nImpossible YearPanic! At The Disco\nGenghis KhanMiike Snow\nIn The Dark3 Doors Down\nStart A RiotBANNERS\nSaint CeciliaFoo Fighters\nViva La VidaColdplay\nDon't Wanna FightAlabama Shakes\nClocksColdplay\nSpiritsThe Strumbellas\nAmerica's SweetheartElle King\nDitmasMumford\nKiss ThisThe Struts\nHappy SongBring Me The Horizon\n10,000 Emerald PoolsBORNS\nParanoiaA Day To Remember\nWoman WomanAWOLNATION\nGoneJR JR\nCalifornia KidsWeezer\nDancing On GlassSt. Lucia\nKeeping Your Head UpBirdy\nReapersMuse\nLost WeekendPete Yorn\nShe's AmericanThe 1975\nPast LivesBORNS\nDarling NikkiPrince And The Revolution\nThe MiddleJimmy Eat World\nThe Sound Of SilenceSimon\nTake It From MeKONGOS\nAmerikaYoung The Giant\nThe Devil's Bleeding CrownVolbeat\nAin't No ManThe Avett Brothers\nIn BloomSturgill Simpson\nMy NemesisFive Finger Death Punch\nEmotionlessRed Sun Rising\nGale SongThe Lumineers\nBrazilDeclan McKenna\nBrace For Impact (Live A Little)Sturgill Simpson\nDark NecessitiesRed Hot Chili Peppers\nBored To DeathBlink-182\nRiverBishop Briggs\nWowBeck\nRabbit HoleBlink-182\nSo AliveGoo Goo Dolls\nTroubleCage The Elephant\nWe Turn RedRed Hot Chili Peppers\nNot TodayImagine Dragons\nAsking For ItShinedown\nWinterbreakMUNA\nBury ItCHVRCHES\nAll We Ever KnewThe Head And The Heart\nCasual PartyBand Of Horses\nSomething To Believe InYoung The Giant\nSoundcheckCatfish And The Bottlemen\nFeel InvincibleSkillet\nLife ItselfGlass Animals\nHappinessNEEDTOBREATHE\nThere Will Be TimeMumford\nThe GetawayRed Hot Chili Peppers\nBurn The WitchRadiohead\nGood GriefBastille\nLife Can't Get Much BetterGood Charlotte\nGhostbusters (I'm Not Afraid)Fall Out Boy\nThat's All I NeedThe Dirty Heads\nWelcome To Your LifeGrouplove\nGood GirlsElle King\nYou Don't Get Me High AnymorePhantogram\nSoberBlink-182\nAshes Of EdenBreaking Benjamin\nTake Me DownThe Pretty Reckless\nNo FutureBlink-182\nI Was WrongA R I Z O N A\nStanding In The RainAction Bronson, Mark Ronson\nThis House Is Not For SaleBon Jovi\nToo Much Is Never EnoughFlorence + The Machine\nMedieval WarfareGrimes\nRotting In VainKorn\nProphets Of RageProphets Of Rage\nGemini FeedBanks\nLive It WellSwitchfoot\nJoyride (Omen)Chevelle\nRevolution RadioGreen Day\nSinging LowThe Fray\nSend Them Off!Bastille\nAmerican MoneyBORNS\nFake ItBastille\n33 \"GOD\"Bon Iver\nNew Person, Same Old MistakesTame Impala\nWallsKings Of Leon\nAround The WorldKings Of Leon\nFind MeKings Of Leon\nOverKings Of Leon\nOpen Your EyesDisturbed\nEyes On YouKings Of Leon\nHallelujahLeonard Cohen\nHallelujahJeff Buckley\nHallelujahRufus Wainwright\nYou Want It DarkerLeonard Cohen\nI Can't Stop Thinking About YouSting\nMiraclesColdplay\nThe Kids Aren't AlrightFall Out Boy\nGoldImagine Dragons\nSomething From NothingFoo Fighters\nAmerican Beauty / American PsychoFall Out Boy\nImmortalsFall Out Boy\nCigarette DaydreamsCage The Elephant\nReflectionsMisterWives\nWrong Side Of HeavenFive Finger Death Punch\nFrom EdenHozier\nWork SongHozier\nFigure It OutRoyal Blood\nMess Is MineVance Joy\nDeep SixMarilyn Manson\nWarriorsImagine Dragons\nI Am MachineThree Days Grace\nCome Join The MurderThe White Buffalo\nDrownBring Me The Horizon\nThe Devil In ISlipknot\nRollercoasterBleachers\nGooeyGlass Animals\nThe Last Goode'\nLike Real People DoHozier\nAngel Of Small Death And The Codeine SceneHozier\nSame Damn LifeSeether\nFools GoldFitz And The Tantrums\nJackie And WilsonHozier\nEvery Other Frecklealt-J\nCherry WineHozier\nGod, If You Are Above...Falling In Reverse\nSomething DifferentGodsmack\nFlashed Junk MindMilky Chance\nSomeone NewHozier\nThe Only Way OutBush\nMy DemonsStarset\nFourth Of JulyFall Out Boy\nBlank SpaceI Prevail\nJet Pack BluesFall Out Boy\nFirst KissKid Rock\nNovocaineFall Out Boy\nTwin's Skeleton's (Hotel In NYC)Fall Out Boy\nFavorite RecordFall Out Boy\nSomething's Gotta GiveAll Time Low\nMake You BetterThe Decemberists\nFace Everything And RisePapa Roach\nMoving OnAsking Alexandria\nCoyotesModest Mouse\nCecilia And The SatelliteAndrew McMahon In The Wilderness\nEvery Breaking WaveU2\nWhat Kind Of ManFlorence + The Machine\nShotsImagine Dragons\nI'm So SorryImagine Dragons\nOne Last NightVaults\nPolaroidImagine Dragons\nDreamImagine Dragons\nHollow Moon (Bad Wolf)AWOLNATION\nBlack SunDeath Cab For Cutie\nComing For YouThe Offspring\nLifted Up (1985)Passion Pit\nSmoke + MirrorsImagine Dragons\nUndiscoveredLaura Welsh\nIt Comes Back To YouImagine Dragons\nFrictionImagine Dragons\nThe FallImagine Dragons\nHold Back The RiverJames Bay\nCongregationFoo Fighters\nBelieveMumford\nFairly Localtwenty one pilots\nCrystalsOf Monsters And Men\nNothing Without LoveNate Ruess\nPsychoMuse\nHeavy Is The HeadZac Brown Band\nBrotherNEEDTOBREATHE\nMy TypeSaint Motel\nApocalypticHalestorm\nWeight Of LoveThe Black Keys\nOur Own HouseMisterWives\nKathleenCatfish And The Bottlemen\nSomebody NewJoywave\nFollow Me DownThe Pretty Reckless\nAbsolution CallingIncubus\nThe WolfMumford\nTear In My Hearttwenty one pilots\nAngels FallBreaking Benjamin\nFailureBreaking Benjamin\nDead InsideMuse\nPeachesIn The Valley Below\nShip To WreckFlorence + The Machine\nGreek TragedyThe Wombats\nMiss YouMia Z\nPleaseSawyer Fredericks\nThe Workingman's HymnJoshua Davis\nHallelujahJoshua Davis\nHallelujahPanic! At The Disco\nDelilahFlorence + The Machine\nSnake EyesMumford\nLane Boytwenty one pilots\nGo Big Or Go HomeAmerican Authors\nDoubttwenty one pilots\nThe Judgetwenty one pilots\nPolarizetwenty one pilots\nFirstCold War Kids\nTompkins Square ParkMumford\nDreamsBeck\nJekyll And HydeFive Finger Death Punch\nThe Divine ZeroPierce The Veil\nAngelTheory Of A Deadman\nHuman RaceThree Days Grace\nLittle MonsterRoyal Blood\nCould Have Been MeThe Struts\nNobody Praying For MeSeether\nHouse Of Goldtwenty one pilots\nLydiaHighly Suspect\nJennyNothing More\nThe Vengeful OneDisturbed\nAmenHalestorm\nFootstepsPop Evil\nBlack MamboGlass Animals\nDifferent ColorsWALK THE MOON\nSedonaHoundmouth.\nGravityPapa Roach\nMoaning Lisa SmileWolf Alice\nNever Ending CirclesCHVRCHES\nBlame It On MeGeorge Ezra\nLet It HappenTame Impala\nKillpopSlipknot\nTrue FriendsBring Me The Horizon\nWasn't Expecting ThatJamie Lawson\nFollow YouBring Me The Horizon\nOutsideFoo Fighters\nSong For SomeoneU2\nCirclesmachineheart\nThe OthersideRed Sun Rising\nDug My HeartBORNS\nGeorgiaVance Joy\nMoleculesAtlas Genius\nWho You LoveJohn Mayer\nDo I Wanna Know?Arctic Monkeys\nOut Of My LeagueFitz And The Tantrums\nI See FireEd Sheeran\nCome A Little CloserCage The Elephant\nCome To MeGoo Goo Dolls\nSirensPearl Jam\nMiss JacksonPanic! At The Disco\nAfraidThe Neighbourhood\nUnbelieversVampire Weekend\nA Light That Never ComesLinkin Park\nThe WireHAIM\nThe Mother We ShareCHVRCHES\nDirty PawsOf Monsters And Men\nBattle BornFive Finger Death Punch\nShepherd Of FireAvenged Sevenfold\nWhite Teeth TeensLorde\nLola MontezVolbeat\nHolding On For LifeBroken Bells\nNever NeverKorn\nAtlasColdplay\nIt's About TimeYoung The Giant\nDeal With The DevilPop Evil\nTessellatealt-J\nOn Top Of The WorldImagine Dragons\nThe WalkerFitz And The Tantrums\nComing Of AgeFoster The People\nBad BloodBastille\nHeaven KnowsThe Pretty Reckless\nWhy'd You Only Call Me When You're High?Arctic Monkeys\nR U Mine?Arctic Monkeys\nWhat If I Was NothingAll That Remains\nTonight You're PerfectNew Politics\nTiredStone Sour\nMagicColdplay\nBest FriendFoster The People\nGuilty All The SameLinkin Park\nDoses & MimosasCherub\nOrdinary LoveU2\nI Wanna Get BetterBleachers\nAre You What You Want To Be?Foster The People\nShot At The NightThe Killers\nPseudologia FantasticaFoster The People\nWait For MeKings Of Leon\nNot Gonna DieSkillet\nSupernovaRay LaMontagne\nThe Writing's On The WallOK Go\nFeverThe Black Keys\nDangerousBig Data\nUntil It's GoneLinkin Park\nAll I WantKodaline\nWords As WeaponsSeether\nCardiac ArrestBad Suns\nTorn To PiecesPop Evil\nFinal MasqueradeLinkin Park\nPainkillerThree Days Grace\nThunder ClatterWild Cub\nSnap Out Of ItArctic Monkeys\nBelieverAmerican Authors\nThis Means WarAvenged Sevenfold\nEverybody Wants To Rule The WorldLorde\nCar Radiotwenty one pilots\n1000hpGodsmack\nMultipliedNEEDTOBREATHE\nXOJohn Mayer\nEdge Of A RevolutionNickelback\nBack To The ShackWeezer\nFlawsBastille\nBallastNothing More\nHunger Of The Pinealt-J\nGotta Get AwayThe Black Keys\nI'm Only JokingKONGOS\nHaterKorn\nThe Negative OneSlipknot\nBeware The DogThe Griswolds\nCan You Feel My HeartBring Me The Horizon\nArrowsFences\nWhat Are You Waiting For?Nickelback\nWorld On FireSlash\nTrainwreck 1979Death From Above 1979\nPlay BallAC/DC\nDesireMeg Myers\nBattle CryImagine Dragons\nStubborn LoveThe Lumineers\nTake A WalkPassion Pit\nMountain SoundOf Monsters And Men\nTrojansAtlas Genius\nLittle Black SubmarinesThe Black Keys\nFlowers In Your HairThe Lumineers\nChalk OutlineThree Days Grace\nBabelMumford\nSlow It DownThe Lumineers\nClassy GirlsThe Lumineers\nGive Me LoveEd Sheeran\nDead SeaThe Lumineers\nSubmarinesThe Lumineers\nCarry OnAvenged Sevenfold\nStarsGrace Potter\nDrunkEd Sheeran\nBig ParadeThe Lumineers\nIn The EndBlack Veil Brides\nAbsolute ZeroStone Sour\nEnemiesShinedown\nHeaven Nor HellVolbeat\nBeen Away Too LongSoundgarden\nBecause We CanBon Jovi\nRound And RoundImagine Dragons\nWhispers In The DarkMumford\nBleeding OutImagine Dragons\nTempestDeftones\nTiptoeImagine Dragons\nUp In The AirThirty Seconds To Mars\nDiane YoungVampire Weekend\nCarried AwayPassion Pit\nBreezeblocksalt-J\nThe High RoadThree Days Grace\nThe PitSilversun Pickups\nHeroFamily Of The Year\nHolding On To Youtwenty one pilots\nRideLana Del Rey\nNowParamore\nEntertainmentPhoenix\nHeavenDepeche Mode\nBonesYoung Guns\nPanic StationMuse\nRebel BeatGoo Goo Dolls\nCastle Of GlassLinkin Park\nGod Is Dead?Black Sabbath\nSave Rock And RollFall Out Boy\nThe PhoenixFall Out Boy\nI'll Follow YouShinedown\nYoung VolcanoesFall Out Boy\nThe Hangman's Body CountVolbeat\nWhere Did The Party GoFall Out Boy\nSan FranciscoThe Mowgli's\nThe Death Of MeAsking Alexandria\nThe Mighty FallFall Out Boy\nYoung And BeautifulLana Del Rey\nLift Me UpFive Finger Death Punch\nLove Is BlindnessJack White\nRose TattooDropkick Murphys\nRiseSkillet\nHeart's A MessGotye\nWe Won't Be ShakenBuilding 429\nStompaSerena Ryder\nAloneFalling In Reverse\nPaper DollJohn Mayer\nI Got YouJack Johnson\nCame Back HauntedNine Inch Nails\nThe One That Got AwayThe Civil Wars\nAliveEmpire Of The Sun\nWays To GoGrouplove\nKing & LionheartOf Monsters And Men\nStoneAlice In Chains\nMonsterImagine Dragons\nHail To The KingAvenged Sevenfold\nReflektorArcade Fire\nMillion Dollar BillsLorde\nSupersoakerKings Of Leon\nWho We AreSwitchfoot\nElephantTame Impala\nTrying To Be CoolPhoenix\nHurricaneMS MR\nWildfireJohn Mayer\nHomeJack Johnson\nMind Your MannersPearl Jam\nLonely BoyThe Black Keys\nThe Sound Of WinterBush\nFace To The FloorChevelle\nThese DaysFoo Fighters\nWalkFoo Fighters\nMonarchy Of RosesRed Hot Chili Peppers\nThe Adventures Of Rain Dance MaggieRed Hot Chili Peppers\nCough SyrupYoung The Giant\nBuried AliveAvenged Sevenfold\nShake It OutFlorence + The Machine\nBottoms UpNickelback\nNarcissistic CannibalKorn\nA Warrior's CallVolbeat\nDark HorsesSwitchfoot\nWhat You WantEvanescence\nThe CollapseAdelitas Way\nHelena BeatFoster The People\nAfter MidnightBlink-182\nAberdeenCage The Elephant\nSatelliteRise Against\nRemember EverythingFive Finger Death Punch\nThis Is Gonna HurtSixx: A.M.\nBitch Came BackTheory Of A Deadman\nPunching In A DreamThe Naked And Famous\nGet Thru ThisArt Of Dying\nThe WalkMayer Hawthorne\nColoursGrouplove\nHellDisturbed\nLucky NowRyan Adams\nCalled Out In The DarkSnow Patrol\nMidnight CityM83.\nThe Waiting OneAll That Remains\nCalamity SongThe Decemberists\nBullyShinedown\nSimple SongThe Shins\nIn My BloodBlack Stone Cherry\nCharlie BrownColdplay\nGold On The CeilingThe Black Keys\nLook AroundRed Hot Chili Peppers\nLove Bites (So Do I)Halestorm\nThis Means WarNickelback\nDays Go ByThe Offspring\nHats Off To The BullChevelle\nYou're A LieSlash\nBloody Mary (Nerve Endings)Silversun Pickups\nRocky Mountain WayGodsmack\nBridge BurningFoo Fighters\nStill CountingVolbeat\nNo Light, No LightFlorence + The Machine\nBlood For PoppiesGarbage\nHold OnAlabama Shakes\nAfterlifeSwitchfoot\nCriticizeAdelitas Way\nAnna SunWALK THE MOON\nUnityShinedown\nHeadlong FlightRush\nYouth Without YouthMetric\nWeathermanDead Sara\nFire EscapeCivil Twilight\nSorryArt Of Dying\nLegendary ChildAerosmith\nComing DownFive Finger Death Punch\nAmericaDeuce\nFigure It OutSerj Tankian\n45The Gaslight Anthem\nHappy PillsNorah Jones\nWait For MeRise Against\nKill Your HeroesAWOLNATION\nJump Into The FogThe Wombats\nOh LoveGreen Day\nRunawaysThe Killers\nMercyDave Matthews Band\nI Miss The MiseryHalestorm\nSoldiersOtherwise\nStill SwingingPapa Roach\nQueen Of CaliforniaJohn Mayer\nStanding In The SunSlash\nTop Of The WorldSlightly Stoopid\nWe Come RunningYoungblood Hawke\nHeadlightsMorning Parade\nLost In The EchoLinkin Park\nNot With HasteMumford\nWhere Are You NowMumford\nAngelsThe xx\nDoom And GloomThe Rolling Stones\nMy Oh MyTristan Prettyman\nLet Yourself GoGreen Day\nBloodIn This Moment\nShake Me DownCage The Elephant\nSay You'll Haunt MeStone Sour\nThe AnimalDisturbed\nIsolationAlter Bridge\nWorld So ColdThree Days Grace\nDog Days Are OverFlorence + The Machine\nLittle Lion ManMumford\nUndisclosed DesiresMuse\nWelcome To The FamilyAvenged Sevenfold\nRadioactiveKings Of Leon\nDiamond Eyes (Boom-Lay Boom-Lay Boom)Shinedown\nPorn Star DancingMy Darkest Days\nHelp Is On The WayRise Against\nLove-Hate-Sex-PainGodsmack\nThe CaveMumford\nFar From HomeFive Finger Death Punch\nNew LowMiddle Class Rut\nAll I WantA Day To Remember\nHowlin' For YouThe Black Keys\nMachine Gun BluesSocial Distortion\nAwake And AliveSkillet\n1983Neon Trees\nHesitateStone Sour\nBurnPapa Roach\nHold OnAll That Remains\nIssuesEscape The Fate\nWhen You're Young3 Doors Down\nMy BodyYoung The Giant\nHear Me NowHollywood Undead\nYou've Seen The ButcherDeftones\nFaderThe Temper Trap\nThe Ghost InsideBroken Bells\nLouder Than EverCold War Kids\nWe Used To WaitArcade Fire\nBorn FreeKid Rock\nUnder Cover Of DarknessThe Strokes\nPyroKings Of Leon\nLost In YouThree Days Grace\nCountry BoyAaron Lewis\nPeople SayPortugal. The Man\nLet It DieOzzy Osbourne\nChangingThe Airborne Toxic Event\nRopeFoo Fighters\nCountry SongSeether\nAdolescentsIncubus\nLies Of The Beautiful PeopleSixx: A.M.\nMake Some NoiseBeastie Boys\nWarriorDisturbed\nPanicSublime With Rome\nDie TryingArt Of Dying\nSo Far AwayAvenged Sevenfold\nSickAdelitas Way\nFix Me10 Years\nYoung BloodThe Naked And Famous\nGhost Of Days Gone ByAlter Bridge\nIridescentLinkin Park\nLowlifeTheory Of A Deadman\nGet Up!Korn\nWhat Ya Gonna DoHinder\nFrom The CloudsJack Johnson\nDigital (Did You Tell)Stone Sour\nSaints And SinnersGodsmack\nFallenVolbeat\nThe Ballad Of Mona LisaPanic! At The Disco\nLotus FlowerRadiohead\nGive Me SomethingScars On 45\nThe AfterlifePaul Simon\nAround My HeadCage The Elephant\nMake It Stop (September's Children)Rise Against\nWhat You KnowTwo Door Cinema Club\nRoll Away Your StoneMumford\nMonsterParamore\nWhirringThe Joy Formidable\nThe Last TimeAll That Remains\nWhite RabbitEgypt Central\nPromises, PromisesIncubus\nUp All NightBlink-182\nUnder And Over ItFive Finger Death Punch\nLost In My MindThe Head And The Heart\nNo Matter WhatPapa Roach\nIf I Had A Gun...Noel Gallagher's High Flying Birds\nBreakThree Days Grace\nI Will Not BowBreaking Benjamin\nUprisingMuse\n(If You're Wondering If I Want You To) I Want You ToWeezer\nKings And QueensThirty Seconds To Mars\nCheck My BrainAlice In Chains\nSaviorRise Against\n1901Phoenix\nYou're Going DownSick Puppies\nJarsChevelle\nThe FixerPearl Jam\nJust BreathePearl Jam\nNew FangThem Crooked Vultures\nSnuffSlipknot\nBack Against The WallCage The Elephant\nNew DivideLinkin Park\nOvercomeCreed\nAgainFlyleaf\nSpaceshipPuddle Of Mudd\nYour DecisionAlice In Chains\nMeet Me On The EquinoxDeath Cab For Cutie\nMonsterSkillet\nInvincibleAdelitas Way\nCrashCavo\nEast Jesus NowhereGreen Day\nLetter From A ThiefChevelle\nShakin' HandsNickelback\nSubstitutionSilversun Pickups\nBroken, Beat & ScarredMetallica\nWho SaysJohn Mayer\nIt's Not YouHalestorm\nMess Of MeSwitchfoot\nStorm To PassAtreyu\nOdd OneSick Puppies\nHard To SeeFive Finger Death Punch\nWalk AwayFive Finger Death Punch\nCrawlKings Of Leon\nShake It OutManchester Orchestra\nResistanceMuse\nGive Me A Sign (Forever And Ever)Breaking Benjamin\nBrick By Boring BrickParamore\nCousinsVampire Weekend\nLisztomaniaPhoenix\nYou And MeDave Matthews Band\nSweet DispositionThe Temper Trap\nGold Guns GirlsMetric\nCryin' Like A Bitch!Godsmack\nThe Good LifeThree Days Grace\nLittle SmirkTheory Of A Deadman\nI'm Your DaddyWeezer\nThe High RoadBroken Bells\nJesus Stole My GirlfriendViolent Soho\nThe Royal WeSilversun Pickups\nSkinny Little BitchHole\nBetween The LinesStone Temple Pilots\nStyloGorillaz\nThis Is WarThirty Seconds To Mars\nWhite Flag WarriorFlobots\nYou And Your HeartJack Johnson\nLet Me Hear You ScreamOzzy Osbourne\nDiamond EyesDeftones\nThe Crow & The ButterflyShinedown\nIn One EarCage The Elephant\nYour BetrayalBullet For My Valentine\nDie By The DropThe Dead Weather\nBy The SwordSlash\nAnother Way To DieDisturbed\nNightmareAvenged Sevenfold\nThe CatalystLinkin Park\nMy Best TheoryJimmy Eat World\nLesson LearnedAlice In Chains\nKick In The TeethPapa Roach\nBad CompanyFive Finger Death Punch\nCrossfireBrandon Flowers\nImpossibleAnberlin\nThe Sound (John M. Perkins' Blues)Switchfoot\nLights OutBreaking Benjamin\nBlack RainSoundgarden\nReady To StartArcade Fire\nShoot It Out10 Years\nMemoriesWeezer\nLife Won't WaitOzzy Osbourne\nShameful MetaphorsChevelle\nAt Or With MeJack Johnson\nSummer DaySheryl Crow\nAngel DanceRobert Plant\n"
    },
    {
     "output_type": "execute_result",
     "data": {
      "text/plain": "                          Title-Artist  \\\n0                 SpeechlessDan + Shay   \n1                    TequilaDan + Shay   \n2                Meant To BeBebe Rexha   \n3     She Got The Best Of MeLuke Combs   \n4                    Lose ItKane Brown   \n...                                ...   \n4903      Life Won't WaitOzzy Osbourne   \n4904        Shameful MetaphorsChevelle   \n4905         At Or With MeJack Johnson   \n4907             Summer DaySheryl Crow   \n4908           Angel DanceRobert Plant   \n\n                                                 Lyrics  country  hiphop  pop  \\\n0     [Verse]\\nYou say you'll be down in five\\nThe s...        1       0    1   \n1     [Verse]\\nI can still shut down a party\\nI can ...        1       0    1   \n2     [Verse]\\nBaby, lay on back and relax\\nKick you...        1       0    1   \n3     [Verse]\\nSeventeen, you don't think that much ...        1       0    0   \n4     [Intro]\\nYeah\\n\\n[Verse]\\nThat lit up, ringing...        1       0    0   \n...                                                 ...      ...     ...  ...   \n4903  [Verse]\\nI watch it all change\\nTake the news ...        0       0    0   \n4904  [Verse]\\nFear, it's all the same\\nShould I evo...        0       0    0   \n4905  [Verse]\\nAre they laughing at or with me?\\nAww...        0       0    0   \n4907  [Verse]\\nEvery little thing that I felt that d...        0       0    0   \n4908  [Bridge]\\nGood night, sleep tight\\nThe big bri...        0       0    0   \n\n      rock  \n0        0  \n1        0  \n2        0  \n3        0  \n4        0  \n...    ...  \n4903     1  \n4904     1  \n4905     1  \n4907     1  \n4908     1  \n\n[4578 rows x 6 columns]",
      "text/html": "<div>\n<style scoped>\n    .dataframe tbody tr th:only-of-type {\n        vertical-align: middle;\n    }\n\n    .dataframe tbody tr th {\n        vertical-align: top;\n    }\n\n    .dataframe thead th {\n        text-align: right;\n    }\n</style>\n<table border=\"1\" class=\"dataframe\">\n  <thead>\n    <tr style=\"text-align: right;\">\n      <th></th>\n      <th>Title-Artist</th>\n      <th>Lyrics</th>\n      <th>country</th>\n      <th>hiphop</th>\n      <th>pop</th>\n      <th>rock</th>\n    </tr>\n  </thead>\n  <tbody>\n    <tr>\n      <td>0</td>\n      <td>SpeechlessDan + Shay</td>\n      <td>[Verse]\\nYou say you'll be down in five\\nThe s...</td>\n      <td>1</td>\n      <td>0</td>\n      <td>1</td>\n      <td>0</td>\n    </tr>\n    <tr>\n      <td>1</td>\n      <td>TequilaDan + Shay</td>\n      <td>[Verse]\\nI can still shut down a party\\nI can ...</td>\n      <td>1</td>\n      <td>0</td>\n      <td>1</td>\n      <td>0</td>\n    </tr>\n    <tr>\n      <td>2</td>\n      <td>Meant To BeBebe Rexha</td>\n      <td>[Verse]\\nBaby, lay on back and relax\\nKick you...</td>\n      <td>1</td>\n      <td>0</td>\n      <td>1</td>\n      <td>0</td>\n    </tr>\n    <tr>\n      <td>3</td>\n      <td>She Got The Best Of MeLuke Combs</td>\n      <td>[Verse]\\nSeventeen, you don't think that much ...</td>\n      <td>1</td>\n      <td>0</td>\n      <td>0</td>\n      <td>0</td>\n    </tr>\n    <tr>\n      <td>4</td>\n      <td>Lose ItKane Brown</td>\n      <td>[Intro]\\nYeah\\n\\n[Verse]\\nThat lit up, ringing...</td>\n      <td>1</td>\n      <td>0</td>\n      <td>0</td>\n      <td>0</td>\n    </tr>\n    <tr>\n      <td>...</td>\n      <td>...</td>\n      <td>...</td>\n      <td>...</td>\n      <td>...</td>\n      <td>...</td>\n      <td>...</td>\n    </tr>\n    <tr>\n      <td>4903</td>\n      <td>Life Won't WaitOzzy Osbourne</td>\n      <td>[Verse]\\nI watch it all change\\nTake the news ...</td>\n      <td>0</td>\n      <td>0</td>\n      <td>0</td>\n      <td>1</td>\n    </tr>\n    <tr>\n      <td>4904</td>\n      <td>Shameful MetaphorsChevelle</td>\n      <td>[Verse]\\nFear, it's all the same\\nShould I evo...</td>\n      <td>0</td>\n      <td>0</td>\n      <td>0</td>\n      <td>1</td>\n    </tr>\n    <tr>\n      <td>4905</td>\n      <td>At Or With MeJack Johnson</td>\n      <td>[Verse]\\nAre they laughing at or with me?\\nAww...</td>\n      <td>0</td>\n      <td>0</td>\n      <td>0</td>\n      <td>1</td>\n    </tr>\n    <tr>\n      <td>4907</td>\n      <td>Summer DaySheryl Crow</td>\n      <td>[Verse]\\nEvery little thing that I felt that d...</td>\n      <td>0</td>\n      <td>0</td>\n      <td>0</td>\n      <td>1</td>\n    </tr>\n    <tr>\n      <td>4908</td>\n      <td>Angel DanceRobert Plant</td>\n      <td>[Bridge]\\nGood night, sleep tight\\nThe big bri...</td>\n      <td>0</td>\n      <td>0</td>\n      <td>0</td>\n      <td>1</td>\n    </tr>\n  </tbody>\n</table>\n<p>4578 rows × 6 columns</p>\n</div>"
     },
     "metadata": {},
     "execution_count": 3
    }
   ],
   "source": [
    "all_lyrics = pd.concat([country_lyrics, hiphop_lyrics, pop_lyrics, rock_lyrics], ignore_index=True)\n",
    "all_lyrics.drop('Unnamed: 0', axis=1, inplace=True)\n",
    "print(len(all_lyrics))\n",
    "all_lyrics.drop_duplicates(subset='Title-Artist', inplace=True)\n",
    "all_lyrics['country'] = 0\n",
    "all_lyrics['hiphop'] = 0\n",
    "all_lyrics['pop'] = 0\n",
    "all_lyrics['rock'] = 0\n",
    "\n",
    "for index, row in all_lyrics.iterrows():\n",
    "    print(row['Title-Artist'])\n",
    "    if (row['Title-Artist'] == country_lyrics['Title-Artist']).any():\n",
    "        all_lyrics.at[index, 'country'] = 1\n",
    "    if (row['Title-Artist'] == hiphop_lyrics['Title-Artist']).any():\n",
    "        all_lyrics.at[index, 'hiphop'] = 1\n",
    "    if (row['Title-Artist'] == pop_lyrics['Title-Artist']).any():\n",
    "        all_lyrics.at[index, 'pop'] = 1\n",
    "    if (row['Title-Artist'] == rock_lyrics['Title-Artist']).any():\n",
    "        all_lyrics.at[index, 'rock'] = 1\n",
    "\n",
    "all_lyrics"
   ]
  },
  {
   "cell_type": "code",
   "execution_count": 5,
   "metadata": {
    "tags": [
     "outputPrepend",
     "outputPrepend",
     "outputPrepend",
     "outputPrepend",
     "outputPrepend",
     "outputPrepend",
     "outputPrepend",
     "outputPrepend",
     "outputPrepend",
     "outputPrepend",
     "outputPrepend",
     "outputPrepend",
     "outputPrepend",
     "outputPrepend",
     "outputPrepend",
     "outputPrepend",
     "outputPrepend",
     "outputPrepend",
     "outputPrepend",
     "outputPrepend",
     "outputPrepend",
     "outputPrepend",
     "outputPrepend",
     "outputPrepend",
     "outputPrepend",
     "outputPrepend",
     "outputPrepend",
     "outputPrepend",
     "outputPrepend",
     "outputPrepend",
     "outputPrepend",
     "outputPrepend",
     "outputPrepend",
     "outputPrepend",
     "outputPrepend",
     "outputPrepend",
     "outputPrepend",
     "outputPrepend",
     "outputPrepend",
     "outputPrepend",
     "outputPrepend",
     "outputPrepend",
     "outputPrepend",
     "outputPrepend",
     "outputPrepend"
    ]
   },
   "outputs": [],
   "source": [
    "# define the vocabulary dict\n",
    "country_counts = {}\n",
    "hiphop_counts = {}\n",
    "pop_counts = {}\n",
    "rock_counts = {}\n",
    "vocab_counts = {}\n",
    "\n",
    "for index, row in all_lyrics.iterrows():\n",
    "    words = word_tokenize(row['Lyrics'].lower())\n",
    "    for word in words:\n",
    "        vocab_counts[word] = vocab_counts.get(word, 0) + 1\n",
    "        if row['country'] == 1:\n",
    "            country_counts[word] = country_counts.get(word, 0) + 1\n",
    "        if row['hiphop'] == 1:\n",
    "            hiphop_counts[word] = hiphop_counts.get(word, 0) + 1\n",
    "        if row['pop'] == 1:\n",
    "            pop_counts[word] = pop_counts.get(word, 0) + 1\n",
    "        if row['rock'] == 1:\n",
    "            rock_counts[word] = rock_counts.get(word, 0) + 1\n",
    ""
   ]
  },
  {
   "cell_type": "code",
   "execution_count": 6,
   "metadata": {
    "tags": [
     "outputPrepend"
    ]
   },
   "outputs": [
    {
     "output_type": "stream",
     "name": "stdout",
     "text": "30134\n7531\n21503\n12775\n12398\n"
    }
   ],
   "source": [
    "print(len(vocab_counts))\n",
    "print(len(country_counts))\n",
    "print(len(hiphop_counts))\n",
    "print(len(pop_counts))\n",
    "print(len(rock_counts))"
   ]
  },
  {
   "cell_type": "code",
   "execution_count": 7,
   "metadata": {},
   "outputs": [
    {
     "output_type": "stream",
     "name": "stdout",
     "text": "2\n16\n313\n2769\n1538\n"
    }
   ],
   "source": [
    "print(vocab_counts['rawr'])\n",
    "print(country_counts['honky-tonk'])\n",
    "print(hiphop_counts['racks'])\n",
    "print(pop_counts['baby'])\n",
    "print(rock_counts['yeah'])\n",
    ""
   ]
  },
  {
   "cell_type": "code",
   "execution_count": 8,
   "metadata": {},
   "outputs": [],
   "source": [
    "all_lyrics.to_csv(r'cleaned_section_headers/all_lyrics_cleaned.csv')\n",
    ""
   ]
  },
  {
   "cell_type": "code",
   "execution_count": null,
   "metadata": {},
   "outputs": [],
   "source": []
  }
 ],
 "metadata": {
  "kernelspec": {
   "display_name": "Python 3",
   "language": "python",
   "name": "python3"
  },
  "language_info": {
   "codemirror_mode": {
    "name": "ipython",
    "version": 3
   },
   "file_extension": ".py",
   "mimetype": "text/x-python",
   "name": "python",
   "nbconvert_exporter": "python",
   "pygments_lexer": "ipython3",
   "version": "3.7.4-final"
  }
 },
 "nbformat": 4,
 "nbformat_minor": 2
}