{
 "nbformat": 4,
 "nbformat_minor": 2,
 "metadata": {
  "language_info": {
   "name": "python",
   "codemirror_mode": {
    "name": "ipython",
    "version": 3
   },
   "version": "3.7.6-final"
  },
  "orig_nbformat": 2,
  "file_extension": ".py",
  "mimetype": "text/x-python",
  "name": "python",
  "npconvert_exporter": "python",
  "pygments_lexer": "ipython3",
  "version": 3,
  "kernelspec": {
   "name": "python37164bitbaseconda884087cd9d2c4936a72161c6cc08623d",
   "display_name": "Python 3.7.1 64-bit ('base': conda)"
  }
 },
 "cells": [
  {
   "cell_type": "code",
   "execution_count": 1,
   "metadata": {},
   "outputs": [],
   "source": [
    "from sklearn.feature_extraction.text import TfidfVectorizer\n",
    "from sklearn.decomposition import TruncatedSVD\n",
    "import pandas as pd\n",
    "import re"
   ]
  },
  {
   "cell_type": "code",
   "execution_count": 2,
   "metadata": {},
   "outputs": [],
   "source": [
    "def clean_string_formatting(string):\n",
    "    return string.replace('\\n','').replace('\\r',' ').strip()"
   ]
  },
  {
   "cell_type": "code",
   "execution_count": 3,
   "metadata": {},
   "outputs": [],
   "source": [
    "country = pd.read_csv('cleaned_section_headers/country_lyrics_cleaned.csv')\n",
    "hiphop = pd.read_csv('cleaned_section_headers/hiphop_lyrics_cleaned.csv')\n",
    "pop = pd.read_csv('cleaned_section_headers/pop_lyrics_cleaned.csv')\n",
    "rock = pd.read_csv('cleaned_section_headers/rock_lyrics_cleaned.csv')"
   ]
  },
  {
   "cell_type": "code",
   "execution_count": 4,
   "metadata": {
    "tags": [
     "outputPrepend"
    ]
   },
   "outputs": [],
   "source": [
    "#combines lyrics of all genres into one list to be input for tf-idf vectorizer\n",
    "def get_all_lyrics():\n",
    "    genre_arr = [country, hiphop, pop, rock]\n",
    "    all_lyric_list = []\n",
    "    for genre in genre_arr:\n",
    "        cleaned_lyrics = genre['Lyrics'].map(clean_string_formatting)\n",
    "        lyric_list = cleaned_lyrics.values.tolist()\n",
    "        all_lyric_list += lyric_list\n",
    "    return all_lyric_list\n",
    "all_lyrics = get_all_lyrics()"
   ]
  },
  {
   "cell_type": "code",
   "execution_count": 9,
   "metadata": {},
   "outputs": [],
   "source": [
    "#function to vectorize input using tf-idf with svd\n",
    "def vectorize_lyrics(lyrics, svd_components):\n",
    "    tfidf_vectorizer = TfidfVectorizer()\n",
    "    full_tfidf = tfidf_vectorizer.fit_transform(lyrics)\n",
    "    svd = TruncatedSVD(n_components=svd_components)\n",
    "    dimension_reduced = svd.fit_transform(full_tfidf)\n",
    "    return dimension_reduced"
   ]
  },
  {
   "cell_type": "code",
   "execution_count": 12,
   "metadata": {},
   "outputs": [
    {
     "output_type": "stream",
     "name": "stdout",
     "text": "[[ 0.40564561  0.1194689  -0.0343111  ... -0.06337569  0.0313569\n  -0.01910922]\n [ 0.19576104 -0.01975288  0.02499373 ...  0.0021029  -0.00601638\n  -0.00181569]\n [ 0.35592756  0.03389266 -0.02922241 ... -0.03230092  0.01611221\n  -0.02159172]\n ...\n [ 0.48782406  0.20400778 -0.04017088 ...  0.0311991  -0.00160807\n  -0.02118098]\n [ 0.24567049 -0.0562395  -0.01684197 ... -0.0077448  -0.02155489\n   0.0213618 ]\n [ 0.25877634  0.01369936  0.01670623 ... -0.01135136 -0.02079777\n   0.01661971]]\n"
    }
   ],
   "source": [
    "tfidf = vectorize_lyrics(all_lyrics, 500)\n",
    "print(tfidf)"
   ]
  }
 ]
}