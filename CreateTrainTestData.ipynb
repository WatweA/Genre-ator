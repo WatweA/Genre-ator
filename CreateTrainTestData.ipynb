{
 "cells": [
  {
   "cell_type": "code",
   "execution_count": 1,
   "metadata": {},
   "outputs": [],
   "source": [
    "import pandas as pd\n",
    "import numpy as np"
   ]
  },
  {
   "cell_type": "code",
   "execution_count": 2,
   "metadata": {},
   "outputs": [
    {
     "output_type": "execute_result",
     "data": {
      "text/plain": "                          title-artist  \\\n0                 SpeechlessDan + Shay   \n1                    TequilaDan + Shay   \n2                Meant To BeBebe Rexha   \n3     She Got The Best Of MeLuke Combs   \n4                    Lose ItKane Brown   \n...                                ...   \n4573      Life Won't WaitOzzy Osbourne   \n4574        Shameful MetaphorsChevelle   \n4575         At Or With MeJack Johnson   \n4576             Summer DaySheryl Crow   \n4577           Angel DanceRobert Plant   \n\n                                                 lyrics  country  hiphop  pop  \\\n0     [Verse]\\nYou say you'll be down in five\\nThe s...       13       0    4   \n1     [Verse]\\nI can still shut down a party\\nI can ...       15       0    5   \n2     [Verse]\\nBaby, lay on back and relax\\nKick you...       16       0    7   \n3     [Verse]\\nSeventeen, you don't think that much ...        9       0    0   \n4     [Intro]\\nYeah\\n\\n[Verse]\\nThat lit up, ringing...        7       0    0   \n...                                                 ...      ...     ...  ...   \n4573  [Verse]\\nI watch it all change\\nTake the news ...        0       0    0   \n4574  [Verse]\\nFear, it's all the same\\nShould I evo...        0       0    0   \n4575  [Verse]\\nAre they laughing at or with me?\\nAww...        0       0    0   \n4576  [Verse]\\nEvery little thing that I felt that d...        0       0    0   \n4577  [Bridge]\\nGood night, sleep tight\\nThe big bri...        0       0    0   \n\n      rock  \n0        0  \n1        0  \n2        0  \n3        0  \n4        0  \n...    ...  \n4573     1  \n4574     1  \n4575     1  \n4576     1  \n4577     1  \n\n[4578 rows x 6 columns]",
      "text/html": "<div>\n<style scoped>\n    .dataframe tbody tr th:only-of-type {\n        vertical-align: middle;\n    }\n\n    .dataframe tbody tr th {\n        vertical-align: top;\n    }\n\n    .dataframe thead th {\n        text-align: right;\n    }\n</style>\n<table border=\"1\" class=\"dataframe\">\n  <thead>\n    <tr style=\"text-align: right;\">\n      <th></th>\n      <th>title-artist</th>\n      <th>lyrics</th>\n      <th>country</th>\n      <th>hiphop</th>\n      <th>pop</th>\n      <th>rock</th>\n    </tr>\n  </thead>\n  <tbody>\n    <tr>\n      <th>0</th>\n      <td>SpeechlessDan + Shay</td>\n      <td>[Verse]\\nYou say you'll be down in five\\nThe s...</td>\n      <td>13</td>\n      <td>0</td>\n      <td>4</td>\n      <td>0</td>\n    </tr>\n    <tr>\n      <th>1</th>\n      <td>TequilaDan + Shay</td>\n      <td>[Verse]\\nI can still shut down a party\\nI can ...</td>\n      <td>15</td>\n      <td>0</td>\n      <td>5</td>\n      <td>0</td>\n    </tr>\n    <tr>\n      <th>2</th>\n      <td>Meant To BeBebe Rexha</td>\n      <td>[Verse]\\nBaby, lay on back and relax\\nKick you...</td>\n      <td>16</td>\n      <td>0</td>\n      <td>7</td>\n      <td>0</td>\n    </tr>\n    <tr>\n      <th>3</th>\n      <td>She Got The Best Of MeLuke Combs</td>\n      <td>[Verse]\\nSeventeen, you don't think that much ...</td>\n      <td>9</td>\n      <td>0</td>\n      <td>0</td>\n      <td>0</td>\n    </tr>\n    <tr>\n      <th>4</th>\n      <td>Lose ItKane Brown</td>\n      <td>[Intro]\\nYeah\\n\\n[Verse]\\nThat lit up, ringing...</td>\n      <td>7</td>\n      <td>0</td>\n      <td>0</td>\n      <td>0</td>\n    </tr>\n    <tr>\n      <th>...</th>\n      <td>...</td>\n      <td>...</td>\n      <td>...</td>\n      <td>...</td>\n      <td>...</td>\n      <td>...</td>\n    </tr>\n    <tr>\n      <th>4573</th>\n      <td>Life Won't WaitOzzy Osbourne</td>\n      <td>[Verse]\\nI watch it all change\\nTake the news ...</td>\n      <td>0</td>\n      <td>0</td>\n      <td>0</td>\n      <td>1</td>\n    </tr>\n    <tr>\n      <th>4574</th>\n      <td>Shameful MetaphorsChevelle</td>\n      <td>[Verse]\\nFear, it's all the same\\nShould I evo...</td>\n      <td>0</td>\n      <td>0</td>\n      <td>0</td>\n      <td>1</td>\n    </tr>\n    <tr>\n      <th>4575</th>\n      <td>At Or With MeJack Johnson</td>\n      <td>[Verse]\\nAre they laughing at or with me?\\nAww...</td>\n      <td>0</td>\n      <td>0</td>\n      <td>0</td>\n      <td>1</td>\n    </tr>\n    <tr>\n      <th>4576</th>\n      <td>Summer DaySheryl Crow</td>\n      <td>[Verse]\\nEvery little thing that I felt that d...</td>\n      <td>0</td>\n      <td>0</td>\n      <td>0</td>\n      <td>1</td>\n    </tr>\n    <tr>\n      <th>4577</th>\n      <td>Angel DanceRobert Plant</td>\n      <td>[Bridge]\\nGood night, sleep tight\\nThe big bri...</td>\n      <td>0</td>\n      <td>0</td>\n      <td>0</td>\n      <td>1</td>\n    </tr>\n  </tbody>\n</table>\n<p>4578 rows × 6 columns</p>\n</div>"
     },
     "metadata": {},
     "execution_count": 2
    }
   ],
   "source": [
    "# Load the lyrics into a dataframe\n",
    "lyrics_df = pd.read_csv('cleaned_section_headers/all_lyrics_cleaned.csv').drop(columns='Unnamed: 0')\n",
    "lyrics_df.rename({'Title-Artist':'title-artist', 'Lyrics':'lyrics'}, axis=1, inplace=True)\n",
    "lyrics_df"
   ]
  },
  {
   "cell_type": "code",
   "execution_count": 3,
   "metadata": {},
   "outputs": [],
   "source": [
    "# For each song, add cleaned lyrics for each time it occurs in the Billboards charts\n",
    "repeat_country_df = lyrics_df.loc[lyrics_df.index.repeat(lyrics_df['country'])].reset_index(drop=True)\n",
    "repeat_country_df.drop(columns=['country','hiphop','pop','rock'], inplace=True)\n",
    "repeat_hiphop_df = lyrics_df.loc[lyrics_df.index.repeat(lyrics_df['hiphop'])].reset_index(drop=True)\n",
    "repeat_hiphop_df.drop(columns=['country','hiphop','pop','rock'], inplace=True)\n",
    "repeat_pop_df = lyrics_df.loc[lyrics_df.index.repeat(lyrics_df['pop'])].reset_index(drop=True)\n",
    "repeat_pop_df.drop(columns=['country','hiphop','pop','rock'], inplace=True)\n",
    "repeat_rock_df = lyrics_df.loc[lyrics_df.index.repeat(lyrics_df['rock'])].reset_index(drop=True)\n",
    "repeat_rock_df.drop(columns=['country','hiphop','pop','rock'], inplace=True)"
   ]
  },
  {
   "cell_type": "code",
   "execution_count": 4,
   "metadata": {},
   "outputs": [],
   "source": [
    "# write as pickles to save space\n",
    "repeat_country_df.to_pickle(r'train_test_data/country_data.zip')\n",
    "repeat_hiphop_df.to_pickle(r'train_test_data/hiphop_data.zip')\n",
    "repeat_pop_df.to_pickle(r'train_test_data/pop_data.zip')\n",
    "repeat_rock_df.to_pickle(r'train_test_data/rock_data.zip')"
   ]
  },
  {
   "cell_type": "code",
   "execution_count": null,
   "metadata": {},
   "outputs": [],
   "source": []
  }
 ],
 "metadata": {
  "kernelspec": {
   "display_name": "Python 3",
   "language": "python",
   "name": "python3"
  },
  "language_info": {
   "codemirror_mode": {
    "name": "ipython",
    "version": 3
   },
   "file_extension": ".py",
   "mimetype": "text/x-python",
   "name": "python",
   "nbconvert_exporter": "python",
   "pygments_lexer": "ipython3",
   "version": "3.7.4-final"
  }
 },
 "nbformat": 4,
 "nbformat_minor": 2
}