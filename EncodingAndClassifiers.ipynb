{
 "cells": [
  {
   "cell_type": "code",
   "execution_count": 2,
   "metadata": {},
   "outputs": [
    {
     "data": {
      "text/plain": [
       "'\\nDan Krasnonosenkikh, Cameron Scoons, Aaditya Watwe\\n'"
      ]
     },
     "execution_count": 2,
     "metadata": {},
     "output_type": "execute_result"
    }
   ],
   "source": [
    "'''\n",
    "Dan Krasnonosenkikh, Cameron Scoons, Aaditya Watwe\n",
    "'''"
   ]
  },
  {
   "cell_type": "code",
   "execution_count": 3,
   "metadata": {},
   "outputs": [],
   "source": [
    "import pandas as pd\n",
    "from sklearn.model_selection import train_test_split\n",
    "# from sklearn.preprocessing import StandardScaler\n",
    "# from sklearn.datasets import make_moons, make_circles, make_classification\n",
    "from sklearn.neural_network import MLPClassifier\n",
    "from sklearn.neighbors import KNeighborsClassifier\n",
    "from sklearn.svm import SVC\n",
    "from sklearn.gaussian_process import GaussianProcessClassifier\n",
    "from sklearn.gaussian_process.kernels import RBF\n",
    "from sklearn.tree import DecisionTreeClassifier\n",
    "from sklearn.ensemble import RandomForestClassifier, AdaBoostClassifier\n",
    "from sklearn.naive_bayes import GaussianNB\n",
    "from sklearn.discriminant_analysis import QuadraticDiscriminantAnalysis"
   ]
  },
  {
   "cell_type": "code",
   "execution_count": 4,
   "metadata": {},
   "outputs": [],
   "source": [
    "names = [\"Nearest Neighbors\", \"Linear SVM\", \"RBF SVM\", \"Gaussian Process\",\n",
    "         \"Decision Tree\", \"Random Forest\",\n",
    "         \"Neural Net\",\n",
    "         \"AdaBoost\",\n",
    "         \"Naive Bayes\", \"QDA\"]\n",
    "classifiers = [\n",
    "    KNeighborsClassifier(3),\n",
    "    SVC(kernel=\"linear\", C=0.025),\n",
    "    SVC(gamma=2, C=1),\n",
    "    GaussianProcessClassifier(1.0 * RBF(1.0)),\n",
    "    DecisionTreeClassifier(max_depth=5),\n",
    "    RandomForestClassifier(max_depth=5, n_estimators=10, max_features=1),\n",
    "    MLPClassifier(alpha=1, max_iter=1000),\n",
    "    AdaBoostClassifier(),\n",
    "    GaussianNB(),\n",
    "    QuadraticDiscriminantAnalysis()]"
   ]
  },
  {
   "cell_type": "code",
   "execution_count": 16,
   "metadata": {},
   "outputs": [
    {
     "data": {
      "text/plain": [
       "\"[Verse]\\nYou say you'll be down in five\\nThe smell of your perfume is floating down the stairs\\nYou're fixing up your hair like you do\\nI know that I'll be a mess\\nThe second that I see you\\nYou won't be surprised\\nIt happens every time\\nIt's nothin' new\\n\\n[Pre-Chorus]\\nIt's always on a night like tonight\\nI thank God you can read my mind\\n'Cause when you look at me with those eyes\\n\\n[Chorus]\\nI'm speechless\\nStarin' at you standin' there in that dress\\nWhat it's doin' to me ain't a secret\\n'Cause watching you is all that I can do\\nAnd I'm speechless\\nYou already know that you're my weakness\\nAfter all this time I'm just as nervous\\nEvery time you walk into the room\\nI'm speechless\\n\\n[Verse]\\nIt started when you said hello\\nJust did something to me\\nAnd I've been in a daze\\nEver since the day that we met\\nYou take the breath out of my lungs\\nCan't even fight it\\nAnd all of the words, out of my mouth without even tryin'\\n\\n[Chorus]\\nAnd I'm speechless\\nStarin' at you standin' there in that dress\\nWhat it's doin' to me ain't a secret\\n'Cause watching you is all that I can do\\nAnd I'm speechless\\nYou already know that you're my weakness\\nAfter all this time I'm just as nervous\\nEvery time you walk into the room\\nI'm speechless\\n\\n[Bridge]\\nYeah, baby, mmm\\nIt's always on a night like tonight\\nI thank God you can read my mind\\n'Cause when you look at me with those eyes\\n\\n[Chorus]\\nI'm speechless\\nYou standin' there in that dress\\nGirl, it ain't a secret\\n'Cause watchin' you is all that I can do\\nOh, I'm speechless\\nYou already know that you're my weakness\\nAfter all this time I'm just as nervous\\nEvery time you walk into the room\\nI'm speechless\\n\\n[Outro]\\nOh, you know it, baby\\nMmm\""
      ]
     },
     "execution_count": 16,
     "metadata": {},
     "output_type": "execute_result"
    }
   ],
   "source": [
    "# LOAD DATA\n",
    "country_data = pd.read_csv('cleaned_section_headers/country_lyrics_cleaned.csv')['Lyrics']\n",
    "hiphop_data = pd.read_csv('cleaned_section_headers/hiphop_lyrics_cleaned.csv')['Lyrics']\n",
    "pop_data = pd.read_csv('cleaned_section_headers/pop_lyrics_cleaned.csv')['Lyrics']\n",
    "rock_data = pd.read_csv('cleaned_section_headers/rock_lyrics_cleaned.csv')['Lyrics']\n",
    "\n",
    "\n",
    "frames = [country_data, hiphop_data, pop_data, rock_data]\n",
    "# frames = [frame['Lyrics'] for frame in frames]\n",
    "# # frames[1]\n",
    "# unencoded = pd.concat(frames)\n",
    "# # unencoded.head()[0]\n",
    "# frames\n",
    "country_data.head()[0]"
   ]
  },
  {
   "cell_type": "code",
   "execution_count": 10,
   "metadata": {},
   "outputs": [],
   "source": [
    "# MAKE Xs (via encodings)"
   ]
  },
  {
   "cell_type": "code",
   "execution_count": 22,
   "metadata": {},
   "outputs": [],
   "source": [
    "# BREAKING DOWN SONGS\n",
    "country_x, hiphop_x, pop_x, rock_x = [], [], [], []\n",
    "xs = [country_x, hiphop_x, pop_x, rock_x]\n",
    "for x, data in zip(xs, frames):\n",
    "#     print(data)\n",
    "    for song in data:\n",
    "        unflattened = [_.split() for _ in song.split('\\n')]\n",
    "        flat_list = [item for sublist in unflattened for item in sublist]\n",
    "#         print(flat_list)\n",
    "        x.append(flat_list)\n",
    "\n"
   ]
  },
  {
   "cell_type": "code",
   "execution_count": 73,
   "metadata": {},
   "outputs": [],
   "source": [
    "# CREATE VOCAB\n",
    "# country_vocab, hiphop_vocab, pop_vocab, rock_vocab = [], [], [], []\n",
    "# vocabs = [country_vocab, hiphop_vocab, pop_vocab, rock_vocab]\n",
    "vocab = []\n",
    "for genre in xs:\n",
    "    for song in genre:\n",
    "        for word in song:\n",
    "            if word not in vocab:\n",
    "                vocab.append(word)\n"
   ]
  },
  {
   "cell_type": "code",
   "execution_count": 75,
   "metadata": {},
   "outputs": [],
   "source": [
    "# ENCODE SONGS\n",
    "def create_has_seen(song):\n",
    "    return [1 if word in song else 0 for word in vocab]\n",
    "\n",
    "# encoded versions of songs for each genre\n",
    "country_enc, hiphop_enc, pop_enc, rock_enc = [], [], [], []\n",
    "encs = [country_enc, hiphop_enc, pop_enc, rock_enc]\n",
    "\n",
    "for genre, enc in zip(xs, encs):\n",
    "    for song in genre:\n",
    "        enc.append(create_has_seen(song))\n",
    "        "
   ]
  },
  {
   "cell_type": "code",
   "execution_count": 76,
   "metadata": {},
   "outputs": [],
   "source": [
    "# country_enc\n",
    "country_encdf = pd.DataFrame.from_records(country_enc)\n",
    "hiphop_encdf = pd.DataFrame.from_records(hiphop_enc)\n",
    "pop_encdf = pd.DataFrame.from_records(pop_enc)\n",
    "rock_encdf = pd.DataFrame.from_records(rock_enc)\n",
    "\n",
    "enc_dfs = [country_encdf, hiphop_encdf, pop_encdf, rock_encdf]\n",
    "X = pd.concat(enc_dfs)"
   ]
  },
  {
   "cell_type": "code",
   "execution_count": null,
   "metadata": {},
   "outputs": [],
   "source": [
    "country_encdf.head()"
   ]
  },
  {
   "cell_type": "code",
   "execution_count": 81,
   "metadata": {},
   "outputs": [],
   "source": [
    "# MAKE Ys\n",
    "country_y = [0 for _ in frames[0]]\n",
    "hiphop_y = [0 for _ in frames[1]]\n",
    "pop_y = [0 for _ in frames[2]]\n",
    "rock_y = [0 for _ in frames[3]]\n",
    "\n",
    "# ys = pd.concat([country_y, hiphop_y, pop_y, rock_y])\n",
    "# frames[1]\n",
    "# country_y"
   ]
  },
  {
   "cell_type": "code",
   "execution_count": 89,
   "metadata": {},
   "outputs": [],
   "source": [
    "def make_ys(label):\n",
    "    country_y2 = country_y\n",
    "    hiphop_y2 = hiphop_y\n",
    "    pop_y2 = pop_y\n",
    "    rock_y2 = rock_y\n",
    "    \n",
    "    if label == 'country':\n",
    "        country_y2 = [1 for _ in frames[0]]     \n",
    "    elif label == 'country':\n",
    "        hiphop_y2 = [1 for _ in frames[1]]\n",
    "    elif label == 'country':\n",
    "        pop_y2 = [1 for _ in frames[2]]\n",
    "    elif label == 'country':\n",
    "        rock_y2 = [1 for _ in frames[3]]\n",
    "        \n",
    "    result = country_y2 + hiphop_y2 + pop_y2 + rock_y2\n",
    "    return result\n",
    "\n",
    "    "
   ]
  },
  {
   "cell_type": "code",
   "execution_count": 94,
   "metadata": {},
   "outputs": [],
   "source": [
    "from datetime import datetime\n",
    "\n",
    "def printnow():\n",
    "    \n",
    "    now = datetime.now()\n",
    "\n",
    "    current_time = now.strftime(\"%H:%M:%S\")\n",
    "    print(\"Current Time =\", current_time)"
   ]
  },
  {
   "cell_type": "code",
   "execution_count": null,
   "metadata": {},
   "outputs": [
    {
     "name": "stdout",
     "output_type": "stream",
     "text": [
      "Current Time = 22:15:27\n",
      "countrycountrycountrycountrycountrycountrycountrycountrycountrycountry\n",
      "Current Time = 22:15:35\n",
      "Nearest Neighbors :  .78 \t 0 th iteration\n",
      "Current Time = 22:19:43\n",
      "Linear SVM :  .92 \t 0 th iteration\n",
      "Current Time = 22:29:52\n",
      "RBF SVM :  .78 \t 0 th iteration\n",
      "Current Time = 22:53:13\n"
     ]
    }
   ],
   "source": [
    "# ASSESS EACH CLASSIFIER, PRINT SCORES (all other parts must be completed first)\n",
    "printnow()\n",
    "labels = ['country','hiphop', 'pop', 'rock']\n",
    "\n",
    "for label in labels:\n",
    "    print(label * 10)\n",
    "    Y = make_ys(label)\n",
    "\n",
    "    for name, clf in zip(names, classifiers):\n",
    "        printnow()\n",
    "        \n",
    "        for i in range(0,3):\n",
    "            \n",
    "\n",
    "            X_train, X_test, Y_train, Y_test = train_test_split(X, Y, test_size=0.1, random_state=i)\n",
    "            \n",
    "            clf.fit(X_train, Y_train)\n",
    "            score = clf.score(X_test, Y_test)\n",
    "\n",
    "            # some print function (or print to file)\n",
    "            print(name, \": \", ('%.2f' % score).lstrip('0'), \"\\t\", str(i), \"th iteration\")\n",
    "printnow()                    "
   ]
  },
  {
   "cell_type": "code",
   "execution_count": null,
   "metadata": {},
   "outputs": [],
   "source": [
    "print(\"one\", 1)"
   ]
  },
  {
   "cell_type": "code",
   "execution_count": 91,
   "metadata": {},
   "outputs": [
    {
     "name": "stdout",
     "output_type": "stream",
     "text": [
      "Nearest Neighbors\n",
      "Linear SVM\n",
      "RBF SVM\n",
      "Gaussian Process\n",
      "Decision Tree\n",
      "Random Forest\n",
      "Neural Net\n",
      "AdaBoost\n",
      "Naive Bayes\n",
      "QDA\n"
     ]
    }
   ],
   "source": [
    "for name in names:\n"
   ]
  },
  {
   "cell_type": "code",
   "execution_count": 106,
   "metadata": {},
   "outputs": [
    {
     "name": "stdout",
     "output_type": "stream",
     "text": [
      "Current Time = 22:15:13\n",
      "Current Time = 22:15:13\n"
     ]
    }
   ],
   "source": [
    "for i in range(0,2):\n",
    "    printnow()"
   ]
  },
  {
   "cell_type": "code",
   "execution_count": null,
   "metadata": {},
   "outputs": [],
   "source": []
  }
 ],
 "metadata": {
  "kernelspec": {
   "display_name": "Python 3",
   "language": "python",
   "name": "python3"
  },
  "language_info": {
   "codemirror_mode": {
    "name": "ipython",
    "version": 3
   },
   "file_extension": ".py",
   "mimetype": "text/x-python",
   "name": "python",
   "nbconvert_exporter": "python",
   "pygments_lexer": "ipython3",
   "version": "3.7.1"
  }
 },
 "nbformat": 4,
 "nbformat_minor": 2
}
