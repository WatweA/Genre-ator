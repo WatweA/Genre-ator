{
 "cells": [
  {
   "cell_type": "code",
   "execution_count": 2,
   "metadata": {},
   "outputs": [],
   "source": [
    "import pandas as pd\n",
    "from nltk.tokenize import word_tokenize"
   ]
  },
  {
   "cell_type": "code",
   "execution_count": 3,
   "metadata": {},
   "outputs": [],
   "source": [
    "# Load the lyrics into dataframes\n",
    "country_lyrics = pd.read_csv(r'cleaned_section_headers/country_lyrics_cleaned.csv')\n",
    "hiphop_lyrics = pd.read_csv(r'cleaned_section_headers/hiphop_lyrics_cleaned.csv')\n",
    "pop_lyrics = pd.read_csv(r'cleaned_section_headers/pop_lyrics_cleaned.csv')\n",
    "rock_lyrics = pd.read_csv(r'cleaned_section_headers/rock_lyrics_cleaned.csv')"
   ]
  },
  {
   "cell_type": "code",
   "execution_count": 4,
   "metadata": {},
   "outputs": [],
   "source": [
    "# Create a dictionary of song counts for each genre\n",
    "song_counts = {'country':{},'hiphop':{},'pop':{},'rock':{}}\n",
    "for genre,genre_counts in song_counts.items():\n",
    "    songs_df = pd.read_csv('cleaned_songs/' + genre + '_songs_cleaned.csv')\n",
    "    song_keys = songs_df.apply(lambda row: ''.join([row['Title'], row['Artist']]), axis=1)\n",
    "    for key in song_keys:\n",
    "        song_counts[genre][key] = song_counts[genre].get(key, 0) + 1"
   ]
  },
  {
   "cell_type": "code",
   "execution_count": 5,
   "metadata": {
    "tags": [
     "outputPrepend",
     "outputPrepend",
     "outputPrepend",
     "outputPrepend",
     "outputPrepend",
     "outputPrepend",
     "outputPrepend",
     "outputPrepend",
     "outputPrepend",
     "outputPrepend",
     "outputPrepend",
     "outputPrepend",
     "outputPrepend",
     "outputPrepend",
     "outputPrepend",
     "outputPrepend",
     "outputPrepend",
     "outputPrepend",
     "outputPrepend",
     "outputPrepend",
     "outputPrepend",
     "outputPrepend",
     "outputPrepend",
     "outputPrepend",
     "outputPrepend",
     "outputPrepend",
     "outputPrepend",
     "outputPrepend",
     "outputPrepend",
     "outputPrepend",
     "outputPrepend",
     "outputPrepend",
     "outputPrepend"
    ]
   },
   "outputs": [
    {
     "output_type": "stream",
     "name": "stdout",
     "text": "4910\n"
    },
    {
     "output_type": "execute_result",
     "data": {
      "text/plain": "                          Title-Artist  \\\n0                 SpeechlessDan + Shay   \n1                    TequilaDan + Shay   \n2                Meant To BeBebe Rexha   \n3     She Got The Best Of MeLuke Combs   \n4                    Lose ItKane Brown   \n...                                ...   \n4903      Life Won't WaitOzzy Osbourne   \n4904        Shameful MetaphorsChevelle   \n4905         At Or With MeJack Johnson   \n4907             Summer DaySheryl Crow   \n4908           Angel DanceRobert Plant   \n\n                                                 Lyrics  country  hiphop  pop  \\\n0     [Verse]\\nYou say you'll be down in five\\nThe s...       13       0    4   \n1     [Verse]\\nI can still shut down a party\\nI can ...       15       0    5   \n2     [Verse]\\nBaby, lay on back and relax\\nKick you...       16       0    7   \n3     [Verse]\\nSeventeen, you don't think that much ...        9       0    0   \n4     [Intro]\\nYeah\\n\\n[Verse]\\nThat lit up, ringing...        7       0    0   \n...                                                 ...      ...     ...  ...   \n4903  [Verse]\\nI watch it all change\\nTake the news ...        0       0    0   \n4904  [Verse]\\nFear, it's all the same\\nShould I evo...        0       0    0   \n4905  [Verse]\\nAre they laughing at or with me?\\nAww...        0       0    0   \n4907  [Verse]\\nEvery little thing that I felt that d...        0       0    0   \n4908  [Bridge]\\nGood night, sleep tight\\nThe big bri...        0       0    0   \n\n      rock  \n0        0  \n1        0  \n2        0  \n3        0  \n4        0  \n...    ...  \n4903     1  \n4904     1  \n4905     1  \n4907     1  \n4908     1  \n\n[4578 rows x 6 columns]",
      "text/html": "<div>\n<style scoped>\n    .dataframe tbody tr th:only-of-type {\n        vertical-align: middle;\n    }\n\n    .dataframe tbody tr th {\n        vertical-align: top;\n    }\n\n    .dataframe thead th {\n        text-align: right;\n    }\n</style>\n<table border=\"1\" class=\"dataframe\">\n  <thead>\n    <tr style=\"text-align: right;\">\n      <th></th>\n      <th>Title-Artist</th>\n      <th>Lyrics</th>\n      <th>country</th>\n      <th>hiphop</th>\n      <th>pop</th>\n      <th>rock</th>\n    </tr>\n  </thead>\n  <tbody>\n    <tr>\n      <th>0</th>\n      <td>SpeechlessDan + Shay</td>\n      <td>[Verse]\\nYou say you'll be down in five\\nThe s...</td>\n      <td>13</td>\n      <td>0</td>\n      <td>4</td>\n      <td>0</td>\n    </tr>\n    <tr>\n      <th>1</th>\n      <td>TequilaDan + Shay</td>\n      <td>[Verse]\\nI can still shut down a party\\nI can ...</td>\n      <td>15</td>\n      <td>0</td>\n      <td>5</td>\n      <td>0</td>\n    </tr>\n    <tr>\n      <th>2</th>\n      <td>Meant To BeBebe Rexha</td>\n      <td>[Verse]\\nBaby, lay on back and relax\\nKick you...</td>\n      <td>16</td>\n      <td>0</td>\n      <td>7</td>\n      <td>0</td>\n    </tr>\n    <tr>\n      <th>3</th>\n      <td>She Got The Best Of MeLuke Combs</td>\n      <td>[Verse]\\nSeventeen, you don't think that much ...</td>\n      <td>9</td>\n      <td>0</td>\n      <td>0</td>\n      <td>0</td>\n    </tr>\n    <tr>\n      <th>4</th>\n      <td>Lose ItKane Brown</td>\n      <td>[Intro]\\nYeah\\n\\n[Verse]\\nThat lit up, ringing...</td>\n      <td>7</td>\n      <td>0</td>\n      <td>0</td>\n      <td>0</td>\n    </tr>\n    <tr>\n      <th>...</th>\n      <td>...</td>\n      <td>...</td>\n      <td>...</td>\n      <td>...</td>\n      <td>...</td>\n      <td>...</td>\n    </tr>\n    <tr>\n      <th>4903</th>\n      <td>Life Won't WaitOzzy Osbourne</td>\n      <td>[Verse]\\nI watch it all change\\nTake the news ...</td>\n      <td>0</td>\n      <td>0</td>\n      <td>0</td>\n      <td>1</td>\n    </tr>\n    <tr>\n      <th>4904</th>\n      <td>Shameful MetaphorsChevelle</td>\n      <td>[Verse]\\nFear, it's all the same\\nShould I evo...</td>\n      <td>0</td>\n      <td>0</td>\n      <td>0</td>\n      <td>1</td>\n    </tr>\n    <tr>\n      <th>4905</th>\n      <td>At Or With MeJack Johnson</td>\n      <td>[Verse]\\nAre they laughing at or with me?\\nAww...</td>\n      <td>0</td>\n      <td>0</td>\n      <td>0</td>\n      <td>1</td>\n    </tr>\n    <tr>\n      <th>4907</th>\n      <td>Summer DaySheryl Crow</td>\n      <td>[Verse]\\nEvery little thing that I felt that d...</td>\n      <td>0</td>\n      <td>0</td>\n      <td>0</td>\n      <td>1</td>\n    </tr>\n    <tr>\n      <th>4908</th>\n      <td>Angel DanceRobert Plant</td>\n      <td>[Bridge]\\nGood night, sleep tight\\nThe big bri...</td>\n      <td>0</td>\n      <td>0</td>\n      <td>0</td>\n      <td>1</td>\n    </tr>\n  </tbody>\n</table>\n<p>4578 rows × 6 columns</p>\n</div>"
     },
     "metadata": {},
     "execution_count": 5
    }
   ],
   "source": [
    "all_lyrics = pd.concat([country_lyrics, hiphop_lyrics, pop_lyrics, rock_lyrics], ignore_index=True)\n",
    "all_lyrics.drop('Unnamed: 0', axis=1, inplace=True)\n",
    "print(len(all_lyrics))\n",
    "all_lyrics.drop_duplicates(subset='Title-Artist', inplace=True)\n",
    "all_lyrics['country'] = 0\n",
    "all_lyrics['hiphop'] = 0\n",
    "all_lyrics['pop'] = 0\n",
    "all_lyrics['rock'] = 0\n",
    "\n",
    "for index, row in all_lyrics.iterrows():\n",
    "    # print(row['Title-Artist'])\n",
    "    all_lyrics.at[index, 'country'] = song_counts['country'].get(row['Title-Artist'], 0)\n",
    "    all_lyrics.at[index, 'hiphop'] = song_counts['hiphop'].get(row['Title-Artist'], 0)\n",
    "    all_lyrics.at[index, 'pop'] = song_counts['pop'].get(row['Title-Artist'], 0)\n",
    "    all_lyrics.at[index, 'rock'] = song_counts['rock'].get(row['Title-Artist'], 0)\n",
    "\n",
    "all_lyrics"
   ]
  },
  {
   "cell_type": "code",
   "execution_count": 10,
   "metadata": {},
   "outputs": [],
   "source": [
    "all_lyrics.to_csv(r'cleaned_section_headers/all_lyrics_cleaned.csv')\n",
    ""
   ]
  },
  {
   "cell_type": "code",
   "execution_count": null,
   "metadata": {},
   "outputs": [],
   "source": []
  }
 ],
 "metadata": {
  "kernelspec": {
   "display_name": "Python 3",
   "language": "python",
   "name": "python3"
  },
  "language_info": {
   "codemirror_mode": {
    "name": "ipython",
    "version": 3
   },
   "file_extension": ".py",
   "mimetype": "text/x-python",
   "name": "python",
   "nbconvert_exporter": "python",
   "pygments_lexer": "ipython3",
   "version": "3.7.4-final"
  }
 },
 "nbformat": 4,
 "nbformat_minor": 2
}