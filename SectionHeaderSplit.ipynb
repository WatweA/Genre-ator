{
 "nbformat": 4,
 "nbformat_minor": 2,
 "metadata": {
  "language_info": {
   "name": "python",
   "codemirror_mode": {
    "name": "ipython",
    "version": 3
   },
   "version": "3.7.6-final"
  },
  "orig_nbformat": 2,
  "file_extension": ".py",
  "mimetype": "text/x-python",
  "name": "python",
  "npconvert_exporter": "python",
  "pygments_lexer": "ipython3",
  "version": 3,
  "kernelspec": {
   "name": "python37164bitbaseconda884087cd9d2c4936a72161c6cc08623d",
   "display_name": "Python 3.7.1 64-bit ('base': conda)"
  }
 },
 "cells": [
  {
   "cell_type": "code",
   "execution_count": 1,
   "metadata": {},
   "outputs": [],
   "source": [
    "import pandas as pd\n",
    "import re"
   ]
  },
  {
   "cell_type": "code",
   "execution_count": 2,
   "metadata": {},
   "outputs": [],
   "source": [
    "train = pd.read_pickle('train_test_data/train.zip')\n",
    "test = pd.read_pickle('train_test_data/test.zip')"
   ]
  },
  {
   "cell_type": "code",
   "execution_count": 7,
   "metadata": {},
   "outputs": [],
   "source": [
    "#initialize dictionaries containing dataframes to hold sections corresponding to each section header\n",
    "section_headers = ['Intro','Verse','Refrain','Pre-Chorus','Chorus','Post-Chorus','Hooks','Riffs/Basslines','Scratches','Sampling','Bridge','Interlude','Skit','Collision','Instrumental','Solo','Ad-lib','Segue','Outro', 'START', 'END']\n",
    "\n",
    "column_names = ['lyrics', 'genre']\n",
    "\n",
    "train_dict = {'Intro': pd.DataFrame(columns=column_names),'Verse': pd.DataFrame(columns=column_names),'Refrain': pd.DataFrame(columns=column_names),'Pre-Chorus': pd.DataFrame(columns=column_names),'Chorus': pd.DataFrame(columns=column_names),'Post-Chorus':pd.DataFrame(columns=column_names),'Hooks':pd.DataFrame(columns=column_names),'Riffs/Basslines':pd.DataFrame(columns=column_names),'Scratches':pd.DataFrame(columns=column_names),'Sampling':pd.DataFrame(columns=column_names),'Bridge':pd.DataFrame(columns=column_names),'Interlude':pd.DataFrame(columns=column_names),'Skit':pd.DataFrame(columns=column_names),'Collision':pd.DataFrame(columns=column_names),'Instrumental':pd.DataFrame(columns=column_names),'Solo':pd.DataFrame(columns=column_names),'Ad-lib':pd.DataFrame(columns=column_names),'Segue':pd.DataFrame(columns=column_names),'Outro':pd.DataFrame(columns=column_names)}\n",
    "\n",
    "test_dict = {'Intro': pd.DataFrame(columns=column_names),'Verse': pd.DataFrame(columns=column_names),'Refrain': pd.DataFrame(columns=column_names),'Pre-Chorus': pd.DataFrame(columns=column_names),'Chorus': pd.DataFrame(columns=column_names),'Post-Chorus':pd.DataFrame(columns=column_names),'Hooks':pd.DataFrame(columns=column_names),'Riffs/Basslines':pd.DataFrame(columns=column_names),'Scratches':pd.DataFrame(columns=column_names),'Sampling':pd.DataFrame(columns=column_names),'Bridge':pd.DataFrame(columns=column_names),'Interlude':pd.DataFrame(columns=column_names),'Skit':pd.DataFrame(columns=column_names),'Collision':pd.DataFrame(columns=column_names),'Instrumental':pd.DataFrame(columns=column_names),'Solo':pd.DataFrame(columns=column_names),'Ad-lib':pd.DataFrame(columns=column_names),'Segue':pd.DataFrame(columns=column_names),'Outro':pd.DataFrame(columns=column_names)}"
   ]
  },
  {
   "cell_type": "code",
   "execution_count": 10,
   "metadata": {},
   "outputs": [],
   "source": [
    "#add headers to remove brackets from sections\n",
    "def add_brackets(header):\n",
    "    return '\\[' + header + '\\]'\n",
    "section_headers_brackets = list(map(add_brackets, section_headers))\n",
    "strip_list = '|'.join(section_headers_brackets)\n",
    "\n",
    "#splits the given lyrics by section \n",
    "def split_by_section(lyrics):\n",
    "    headers = [word[1:-1] for word in lyrics.split() if word[0] == '[' and word[-1] == ']' and word[1:-1] in section_headers]\n",
    "    split_sections = re.split(strip_list, lyrics)\n",
    "    ret_sections = []\n",
    "    for section in split_sections:\n",
    "        #remove empty sections\n",
    "        if (section == '' or section == '\\n'):\n",
    "            continue\n",
    "        else:\n",
    "            ret_sections.append(section)\n",
    "    #remove start and end tags\n",
    "    headers = headers[1:len(headers)-1]\n",
    "    return list(zip(headers, ret_sections))\n",
    "\n",
    "#populates given dictionary with correctly split section headers \n",
    "def create_section_df(in_df, use_dictionary):\n",
    "    section_split_list = in_df['lyrics'].map(split_by_section)\n",
    "    for i in range(len(section_split_list)):    \n",
    "        for j in range(len(section_split_list[i])):\n",
    "            tup = section_split_list[i][j]\n",
    "            tmp_df = pd.DataFrame({column_names[0]:tup[1], column_names[1]:in_df['genre'][i]}, index=[0])        \n",
    "            use_dictionary[tup[0]] = use_dictionary[tup[0]].append(tmp_df)\n",
    ""
   ]
  },
  {
   "cell_type": "code",
   "execution_count": 11,
   "metadata": {
    "tags": [
     "outputPrepend",
     "outputPrepend",
     "outputPrepend",
     "outputPrepend",
     "outputPrepend",
     "outputPrepend",
     "outputPrepend",
     "outputPrepend",
     "outputPrepend",
     "outputPrepend",
     "outputPrepend",
     "outputPrepend",
     "outputPrepend",
     "outputPrepend",
     "outputPrepend"
    ]
   },
   "outputs": [],
   "source": [
    "create_section_df(train, train_dict)\n",
    "create_section_df(test, test_dict)"
   ]
  },
  {
   "cell_type": "code",
   "execution_count": 12,
   "metadata": {
    "tags": [
     "outputPrepend"
    ]
   },
   "outputs": [
    {
     "output_type": "stream",
     "name": "stdout",
     "text": "e moment of truth and the moment to l...  rock\n\n[3312 rows x 2 columns], 'Chorus':                                                lyrics   genre\n0   \\nI'ma break you off, let me be your motivatio...     pop\n0   \\nI'ma break you off, let me be your motivatio...     pop\n0   \\nI'ma break you off, let me be your motivatio...     pop\n0   \\nIf everything you see is what you're believi...  hiphop\n0   \\nIf everything you see is what you're believi...  hiphop\n..                                                ...     ...\n0   \\nI am flesh and I am bone\\nI'll rise ting tin...  hiphop\n0   \\nI am flesh and I am bone\\nI'll rise ting tin...  hiphop\n0   \\nTo the right, to the left\\nWe will fight to ...    rock\n0   \\nTo the right, to the left\\nWe will fight to ...    rock\n0   \\nTo the right, to the left\\nWe will fight to ...    rock\n\n[10881 rows x 2 columns], 'Post-Chorus':                                                lyrics    genre\n0   \\nAgain now\\nSpin around now\\nDown now, to the...      pop\n0   \\nAgain now\\nSpin around now\\nDown now, to the...      pop\n0   \\nAnd for a second, we're bulletproof\\nWe get ...  country\n0   \\nAnd for a second, we're bulletproof\\nWe get ...  country\n0   \\nAnd for a second we're bulletproof\\nGet lost...  country\n..                                                ...      ...\n0   \\nWelcome to the club\\nWelcome to the club\\nWe...     rock\n0             \\nTi-ti-ti-ticking like a time-bomb\\n\\n     rock\n0   \\nI can feel your heart ti-ti-ti-ticking like ...     rock\n0     \\nKilling me, killing me, killing me slowly\\n\\n   hiphop\n0   \\nIf I get more pretty, do you think he will l...   hiphop\n\n[814 rows x 2 columns], 'Hooks': Empty DataFrame\nColumns: [lyrics, genre]\nIndex: [], 'Riffs/Basslines': Empty DataFrame\nColumns: [lyrics, genre]\nIndex: [], 'Scratches': Empty DataFrame\nColumns: [lyrics, genre]\nIndex: [], 'Sampling': Empty DataFrame\nColumns: [lyrics, genre]\nIndex: [], 'Bridge':                                                lyrics    genre\n0              \\nHey, oh\\nA little motivation\\nOh\\n\\n      pop\n0   \\nI wanna stay with you 'til the morning\\nI wa...      pop\n0   \\nBelieve it, I feel it\\nIt's in the air\\nAlth...      pop\n0   \\nIt's Muscle Shoals to rock n' roll\\nIt's a s...  country\n0   \\nUnder a spell, you're hypnotised (Ooh)\\nDarl...   hiphop\n..                                                ...      ...\n0   \\nIf I pick it up when I know that it's broken...     rock\n0   \\nYeah yeah yeah yeah yeah yeah\\nLike glitter ...   hiphop\n0   \\nYeah yeah yeah yeah yeah yeah\\nLike glitter ...   hiphop\n0   \\n'Cause everybody in the backroom's spinning ...   hiphop\n0   \\nI do believe in the light\\nRaise your hands ...     rock\n\n[2731 rows x 2 columns], 'Interlude':                                                lyrics   genre\n0   \\nGo the whole wide world\\nI'd go the whole wi...    rock\n0   \\nDo do do do, do do do do\\nDo do do do, do do...  hiphop\n0   \\nToo fast for freedom\\nSometimes it all falls...    rock\n0   \\nIf you want to be a party animal, you have t...  hiphop\n0                                                \\n\\n  hiphop\n..                                                ...     ...\n0   \\nHow low can you go? How low can you go?\\nHow...     pop\n0   \\nHow low can you go? How low can you go?\\nHow...     pop\n0                                                \\n\\n  hiphop\n0                                                \\n\\n    rock\n0                         \\nI just wanna have fun\\n\\n     pop\n\n[220 rows x 2 columns], 'Skit': Empty DataFrame\nColumns: [lyrics, genre]\nIndex: [], 'Collision':                                               lyrics   genre\n0  \\nLove me, love me\\nLove me, give me love\\nGiv...  hiphop, 'Instrumental':    lyrics    genre\n0    \\n\\n     rock\n0    \\n\\n  country\n0    \\n\\n   hiphop\n0    \\n\\n   hiphop\n0    \\n\\n  country\n..    ...      ...\n0    \\n\\n   hiphop\n0    \\n\\n     rock\n0    \\n\\n     rock\n0    \\n\\n     rock\n0    \\n\\n      pop\n\n[144 rows x 2 columns], 'Solo':                     lyrics    genre\n0                     \\n\\n  country\n0                     \\n\\n   hiphop\n0                     \\n\\n     rock\n0                     \\n\\n   hiphop\n0   \\nI am the machine\\n\\n     rock\n..                     ...      ...\n0                     \\n\\n     rock\n0                     \\n\\n     rock\n0                     \\n\\n     rock\n0                     \\n\\n     rock\n0                     \\n\\n     rock\n\n[144 rows x 2 columns], 'Ad-lib':                                               lyrics    genre\n0  \\nMinneapolis!\\nCome on\\n\\n\\nEs-ca-pade\\nWe'll...  country\n0  \\nLet's go crazy\\nLet's get nuts\\nLook for the...   hiphop\n0  \\nLet's go crazy\\nLet's get nuts\\nLook for the...     rock, 'Segue': Empty DataFrame\nColumns: [lyrics, genre]\nIndex: [], 'Outro':                                                lyrics    genre\n0                                          \\nOh\\nOh\\n      pop\n0              \\nOh\\nShe likes to do it in the dark\\n   hiphop\n0   \\nJust don't take the money\\nJust don't take t...     rock\n0   \\nGot to see what tomorrow brings, sing it for...     rock\n0   \\nOh, love is a polaroid\\nOh, love is a polaro...     rock\n..                                                ...      ...\n0                      \\nOh, you know it, baby\\nMmm\\n  country\n0   \\nThat I shoot across the sky\\nThat I shoot ac...     rock\n0   \\nIf I pick it up when I know that it's broken...     rock\n0   \\nYeah yeah yeah yeah yeah yeah\\nLike glitter ...   hiphop\n0   \\nA brave new world\\nThe war is won\\nThe war i...     rock\n\n[1814 rows x 2 columns]}\n{'Intro':                                                lyrics    genre\n0   \\nNew Boyz\\n\\n\\nDon't say a word just turn aro...      pop\n0   \\nAre you ready?\\nGet up, get up\\nGet up, get ...     rock\n0                                                \\n\\n  country\n0                                  \\nJust escape!\\n\\n     rock\n0   \\n*radio static* ...which blew up the mighty B...     rock\n..                                                ...      ...\n0   \\nAre you ready?\\nGet up, get up\\nGet up, get ...   hiphop\n0   \\nTake him out back\\nTake him out back\\nTake h...     rock\n0   \\nIf heaven is a place where the angels go\\nWe...     rock\n0                                       \\nAh yeah\\n\\n   hiphop\n0   \\nHold on, hold on, fuck that. Fuck that shit....      pop\n\n[207 rows x 2 columns], 'Verse':                                                lyrics   genre\n0   \\nTake me down to the river bend\\nTake me down...  hiphop\n0   \\nBring me home in a blinding dream\\nThrough t...  hiphop\n0   \\nCan't be sleeping\\nKeep on waking without th...     pop\n0   \\nCan't you see it? I was manipulated\\nI had t...     pop\n0   \\nI'd wait on you forever and a day\\nHand and ...     pop\n..                                                ...     ...\n0   \\nSee, mama, gotta feel your everything\\nI fee...  hiphop\n0   \\nWhen you look so good, the pain in your face...  hiphop\n0   \\nI been crying out, \"How bad can a good time ...  hiphop\n0   \\nListen\\nSeein' you got ritualistic\\nCleansin...     pop\n0   \\nListen\\nHarder buildin' trust from a distanc...     pop\n\n[2223 rows x 2 columns], 'Refrain':                                                lyrics   genre\n0   \\nAnd that I'll fight my corner\\nMaybe tonight...    rock\n0   \\nYou know I'll fight my corner\\nAnd that toni...    rock\n0   \\nSome people wanna turn and run\\nBut the stro...    rock\n0   \\nSome people wanna turn and run\\nBut the stro...    rock\n0   \\nCrazy\\nI like that, you like that, so let's ...     pop\n..                                                ...     ...\n0   \\nOoh, ooh\\nOh, oh my goodness, this beat is s...     pop\n0   \\nOoh, ooh\\nOh my goodness, this beat is so ha...     pop\n0   \\nS-P-I-R-I-T, spirit\\nLet's hear it\\nS-P-I-R-...  hiphop\n0   \\nS-P-I-R-I-T, spirit\\nLet's hear it\\nS-P-I-R-...  hiphop\n0   \\nS-P-I-R-I-T, spirit\\nLet's hear it (Well, th...  hiphop\n\n[91 rows x 2 columns], 'Pre-Chorus':                                                lyrics    genre\n0   \\nBut with you\\nI feel again\\nYeah, with you\\n...      pop\n0   \\nBut with you\\nI feel again\\nYeah, with you\\n...      pop\n0   \\nEvery heart in my hands\\nLike a pale reflect...   hiphop\n0   \\nBut every hour slipping by\\nScreams that I h...   hiphop\n0   \\nMiddle fingers up, put them hands high\\nWave...      pop\n..                                                ...      ...\n0   \\nYou cracked a smile but had nothing to say\\n...     rock\n0   \\nBut caught red handed with a grin on your fa...     rock\n0   \\nYou burn rubber when you smoke them tires\\nD...  country\n0   \\nWhen everything around me starts to fall\\nI ...      pop\n0   \\nWhen everything around us starts to fall\\nWe...      pop\n\n[816 rows x 2 columns], 'Chorus':                                                lyrics   genre\n0   \\n'Cause I'm only a crack in this castle of gl...  hiphop\n0   \\n'Cause I'm only a crack in this castle of gl...  hiphop\n0   \\n'Cause I'm only a crack in this castle of gl...  hiphop\n0   \\n'Cause baby\\nYou smile, I smile, oh\\n'Cause ...     pop\n0   \\nWhen you smile, I smile\\nOh woah\\nYou smile,...     pop\n..                                                ...     ...\n0   \\nYou're the best thing about me\\nThe best thi...  hiphop\n0   \\nYou're the best thing about me\\nThe best thi...  hiphop\n0   \\nYou're the best thing about me\\nThe best thi...  hiphop\n0   \\nPassionate from miles away\\nPassive with the...     pop\n0   \\nPassionate from miles away\\nPassive with the...     pop\n\n[2721 rows x 2 columns], 'Post-Chorus':                                                lyrics    genre\n0   \\nBa-ba, ba-ba\\nBa-ba, ba-b-ba-ba\\nBa-ba, ba-b...   hiphop\n0   \\nBa-ba, ba-ba\\nBa-ba, ba-b-ba-ba\\nBa-ba, ba-b...   hiphop\n0   \\nEverybody talks\\nEverybody talks\\nEverybody ...   hiphop\n0                               \\nI'm the bad guy\\n\\n      pop\n0   \\nI'm the bad guy, duh\\nI'm only good at bein'...      pop\n..                                                ...      ...\n0                        \\nKnow, know\\nKnow, know\\n\\n  country\n0   \\nAnd when I fall (Fall for you)\\nAnd when I f...   hiphop\n0   \\n'Til the day I die\\n'Til the day I die\\n'Til...      pop\n0   \\nWhy am I\\nWhy am I walking away?\\nWalking aw...   hiphop\n0   \\nWhy am I\\nWhy am I walking away?\\nWalking aw...   hiphop\n\n[215 rows x 2 columns], 'Hooks': Empty DataFrame\nColumns: [lyrics, genre]\nIndex: [], 'Riffs/Basslines': Empty DataFrame\nColumns: [lyrics, genre]\nIndex: [], 'Scratches': Empty DataFrame\nColumns: [lyrics, genre]\nIndex: [], 'Sampling': Empty DataFrame\nColumns: [lyrics, genre]\nIndex: [], 'Bridge':                                                lyrics   genre\n0   \\n'Cause I'm only a crack in this castle of gl...  hiphop\n0   \\nOh I'm so sorry, so sorry baby\\n(I'll be bet...     pop\n0   \\nBaby, you won't ever want for nothing\\nYou a...     pop\n0   \\nBut with you\\n(I'm feeling better ever since...     pop\n0   \\nThere’s still time\\nClose your eyes\\nOnly lo...  hiphop\n..                                                ...     ...\n0   \\nYou got the wrong girl\\nBut not for long, gi...    rock\n0   \\nSometimes when you feel like you need it\\nTh...     pop\n0   \\nWhen I dance alone, and the sun's bleeding d...  hiphop\n0   \\nDo you remember what I said\\nWhen I got down...  hiphop\n0   \\nI can see it all so clearly\\nI can see what ...  hiphop\n\n[686 rows x 2 columns], 'Interlude':                                               lyrics    genre\n0                                               \\n\\n  country\n0                                               \\n\\n     rock\n0       \\nI don't hate you\\nI don't hate you, no\\n\\n     rock\n0                  \\nOh oh-oh\\nOh oh-oh-oh oh oh\\n\\n   hiphop\n0  \\nLo lo-lo-lo lo oh\\nEe-yo-ee-yo-ee-yo-ee-yeah...   hiphop\n0       \\nHold oho, oho, oho\\nOho, oho, oho, oho\\n\\n   hiphop\n0                 \\n(You'll never take me alive)\\n\\n     rock\n0  \\nAll of this winnin' (haha)\\nAll of this winn...      pop\n0  \\nThat was not so bad, that was, that, that wa...      pop\n0  \\nWe lookin' for\\nWe lookin' for\\nSome of that...      pop\n0  \\nHang on to yourself\\nHang on to yourself\\nIt...   hiphop\n0                                               \\n\\n   hiphop\n0  \\nYeah, I don't know why I never talk about it...     rock\n0  \\nDon't hold me down\\nI think the braces are b...      pop\n0  \\nI don't understand it\\nTell me how could you...      pop\n0                                               \\n\\n     rock\n0  \\n\"Somehow it's so clear now\\nSomehow it's so ...     rock\n0  \\nCarry me home tonight\\nJust carry me home to...     rock\n0  \\nLet the vibe, let the vibe\\nLet the vibe, le...     rock\n0  \\nTake me high and I'll sing\\nYou make everyth...   hiphop\n0  \\nThe words only get in the way\\nThe words onl...      pop\n0  \\nThe words only get in the way\\nThe words onl...      pop\n0  \\nThe words only get in the way\\n(Get in the w...      pop\n0  \\nHey-ey-ey-ey-ey-ey\\nLike a girl gone wild, a...      pop\n0  \\nDopamine\\nOn dopamine\\nOn dopamine\\nOn dope\\n\\n     rock\n0                                               \\n\\n   hiphop\n0  \\nNo question, I want it\\nFire up, everybody s...      pop\n0  \\nNo question, I want it\\nFire up, everybody s...      pop\n0  \\nOoh, let's ride\\nI'm one of them boys 'round...  country\n0  \\nTwo bad bitches and we kissin' in the Wraith...      pop\n0                                \\nAh\\nWoo! Woo!\\n\\n     rock\n0                                               \\n\\n     rock\n0  \\nThe days were dark\\nAnd the nights were brig...   hiphop\n0       \\nWoo, ooh\\nWoo, ooh\\nWoo, ooh\\nWoo, ooh\\n\\n      pop\n0  \\nBaby, you a song\\nYou make me wanna roll my ...      pop\n0  \\nShips will rust in Baldwin Bay\\n(Let me go)\\...   hiphop\n0  \\nAnd oh, this too shall pass\\nThis loneliness...   hiphop\n0  \\nAnd I won't fight in vain\\nI'll love you jus...   hiphop\n0  \\nOh-oh-oh oh-oh\\nOh-oh-oh oh-oh\\nOh-oh-oh oh-...   hiphop, 'Skit':                                               lyrics genre\n0  \\nI don't even care, I need a photo with Drake...   pop, 'Collision':                                               lyrics genre\n0  \\nLove me, love me\\nLove me, give me love\\nGiv...  rock, 'Instrumental':                                               lyrics    genre\n0                                               \\n\\n     rock\n0  \\n\\nYou are falling apart\\nYou are falling apa...     rock\n0                                               \\n\\n   hiphop\n0                                               \\n\\n   hiphop\n0                                               \\n\\n     rock\n0                                               \\n\\n  country\n0                                               \\n\\n   hiphop\n0                                               \\n\\n   hiphop\n0                                               \\n\\n  country\n0                                               \\n\\n  country\n0                                               \\n\\n   hiphop\n0                                               \\n\\n     rock\n0                                               \\n\\n     rock\n0                                               \\n\\n   hiphop\n0                                               \\n\\n     rock\n0                                               \\n\\n     rock\n0                                               \\n\\n     rock\n0                                               \\n\\n  country\n0                                               \\n\\n   hiphop\n0                                               \\n\\n      pop\n0                                               \\n\\n      pop\n0                                               \\n\\n   hiphop\n0                                               \\n\\n     rock\n0                                               \\n\\n   hiphop\n0                                               \\n\\n   hiphop\n0       \\n\\nPressure building\\nPressure building\\n\\n   hiphop\n0                                               \\n\\n     rock\n0                                               \\n\\n   hiphop\n0                                               \\n\\n     rock\n0                                               \\n\\n   hiphop\n0                                               \\n\\n     rock\n0                                               \\n\\n   hiphop\n0                                               \\n\\n     rock\n0                     \\nHey! Hey! Hey!\\nOoh, ooh\\n\\n   hiphop\n0                                               \\n\\n   hiphop\n0                             \\nTop of the world\\n\\n  country\n0                                               \\n\\n   hiphop\n0  \\nTired of feeling lost, tired of letting go\\n...   hiphop\n0                                               \\n\\n     rock\n0                                               \\n\\n     rock\n0                                               \\n\\n   hiphop\n0                                               \\n\\n  country\n0                                               \\n\\n      pop\n0                                               \\n\\n     rock\n0                                               \\n\\n   hiphop\n0                                               \\n\\n   hiphop, 'Solo':                                               lyrics    genre\n0                                               \\n\\n     rock\n0                                               \\n\\n     rock\n0                                               \\n\\n     rock\n0                                               \\n\\n  country\n0                                               \\n\\n   hiphop\n0                                               \\n\\n   hiphop\n0                                               \\n\\n     rock\n0                                               \\n\\n     rock\n0                                               \\n\\n     rock\n0                                               \\n\\n  country\n0                                               \\n\\n     rock\n0                                               \\n\\n   hiphop\n0                                               \\n\\n     rock\n0                                               \\n\\n   hiphop\n0                                               \\n\\n   hiphop\n0                                               \\n\\n     rock\n0                                               \\n\\n     rock\n0                                               \\n\\n     rock\n0  \\nDon't stop me, don't stop me, don't stop me\\...     rock\n0                                               \\n\\n     rock\n0                                               \\n\\n     rock\n0                                               \\n\\n   hiphop\n0                                               \\n\\n     rock\n0                                               \\n\\n     rock\n0                          \\nIt’s going to fall!\\n\\n   hiphop\n0                                               \\n\\n     rock\n0                                               \\n\\n   hiphop\n0                                               \\n\\n   hiphop\n0                                               \\n\\n   hiphop\n0                                               \\n\\n   hiphop\n0                                               \\n\\n  country\n0                                               \\n\\n     rock\n0                                               \\n\\n   hiphop, 'Ad-lib': Empty DataFrame\nColumns: [lyrics, genre]\nIndex: [], 'Segue': Empty DataFrame\nColumns: [lyrics, genre]\nIndex: [], 'Outro':                                                lyrics    genre\n0      \\nDon't blame it on me\\nDon't blame it on me\\n      pop\n0          \\nYou smile, I smile\\nYou smile, I smile\\n      pop\n0   \\nI'm feeling better ever since you know me\\nI...      pop\n0   \\nRemember who you really are\\nDo what you, wh...   hiphop\n0    \\nWhen I drink\\nThat's where I go when I drink\\n  country\n..                                                ...      ...\n0   \\nYou try to play it cool but the night's on f...  country\n0   \\nBut not for long, girl\\nIt's in the song, gi...     rock\n0   \\nWhat're you waiting for?\\nWhat're you waitin...   hiphop\n0   \\nYour heart\\nYour heart\\nYour heart\\nYour hea...   hiphop\n0   \\nUm, trying to think of the right thing to say\\n      pop\n\n[518 rows x 2 columns]}\n"
    }
   ],
   "source": []
  }
 ]
}