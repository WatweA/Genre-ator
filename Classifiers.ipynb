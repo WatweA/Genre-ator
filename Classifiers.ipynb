{
 "cells": [
  {
   "cell_type": "markdown",
   "metadata": {},
   "source": [
    "### Dan Krasnonosenkikh, Cameron Scoons, Aaditya Watwe"
   ]
  },
  {
   "cell_type": "code",
   "execution_count": 1,
   "metadata": {},
   "outputs": [],
   "source": [
    "from datetime import datetime\n",
    "\n",
    "def log(message):\n",
    "    print(datetime.now().strftime(\"%H:%M:%S -\"), message)\n",
    "    \n",
    "def printnow():\n",
    "    now = datetime.now()\n",
    "    current_time = now.strftime(\"%H:%M:%S\")\n",
    "    print(\"Current Time =\", current_time)"
   ]
  },
  {
   "cell_type": "code",
   "execution_count": 2,
   "metadata": {},
   "outputs": [],
   "source": [
    "import pandas as pd\n",
    "import numpy as np\n",
    "from sklearn.model_selection import train_test_split\n",
    "from sklearn.metrics import classification_report, confusion_matrix, accuracy_score\n",
    "from sklearn.neural_network import MLPClassifier\n",
    "from sklearn.neighbors import KNeighborsClassifier\n",
    "from sklearn.svm import SVC\n",
    "from sklearn.gaussian_process import GaussianProcessClassifier\n",
    "from sklearn.gaussian_process.kernels import RBF\n",
    "from sklearn.tree import DecisionTreeClassifier\n",
    "from sklearn.ensemble import RandomForestClassifier, AdaBoostClassifier\n",
    "from sklearn.naive_bayes import GaussianNB\n",
    "from sklearn.discriminant_analysis import QuadraticDiscriminantAnalysis\n",
    "from sklearn.multiclass import OneVsRestClassifier, OneVsOneClassifier"
   ]
  },
  {
   "cell_type": "code",
   "execution_count": 3,
   "metadata": {},
   "outputs": [],
   "source": [
    "names = [\"Linear SVM (OvR)\", \"Nearest Neighbors (OvR)\",\n",
    "         \"RBF SVM (OvR)\", \n",
    "         \"Gaussian Process (OvR)\", \"Decision Tree (OvR)\", \"Random Forest (OvR)\", \"Neural Net (OvR)\",\n",
    "         \"AdaBoost (OvR)\", \"Naive Bayes (OvR)\", \"QDA (OvR)\",\n",
    "         \"Linear SVM (OvO)\", \"Nearest Neighbors (OvO)\",\n",
    "         \"RBF SVM (OvO)\", \n",
    "         \"Gaussian Process (OvO)\", \"Decision Tree (OvO)\", \"Random Forest (OvO)\", \"Neural Net (OvO)\",\n",
    "         \"AdaBoost (OvO)\", \"Naive Bayes (OvO)\", \"QDA (OvO)\"]"
   ]
  },
  {
   "cell_type": "code",
   "execution_count": 4,
   "metadata": {},
   "outputs": [],
   "source": [
    "def make_classifier(num):\n",
    "    if num == 0:\n",
    "        return OneVsRestClassifier(SVC(kernel=\"linear\", C=0.025), n_jobs = -1)\n",
    "    elif num == 1:\n",
    "        return OneVsRestClassifier(KNeighborsClassifier(3))\n",
    "    elif num == 2:\n",
    "        return OneVsRestClassifier(SVC(gamma=2, C=1), n_jobs = -1)\n",
    "    elif num == 3:\n",
    "        return OneVsRestClassifier(GaussianProcessClassifier(1.0 * RBF(1.0)), n_jobs = -1)\n",
    "    elif num == 4:\n",
    "        return OneVsRestClassifier(DecisionTreeClassifier(max_depth=5), n_jobs = -1)\n",
    "    elif num == 5:\n",
    "        return OneVsRestClassifier(RandomForestClassifier(max_depth=5, n_estimators=10, max_features=1), n_jobs = -1)\n",
    "    elif num == 6:\n",
    "        return OneVsRestClassifier(MLPClassifier(alpha=1, max_iter=1000), n_jobs = -1)\n",
    "    elif num == 7:\n",
    "        return OneVsRestClassifier(AdaBoostClassifier(), n_jobs = -1)\n",
    "    elif num == 8:\n",
    "        return OneVsRestClassifier(GaussianNB(), n_jobs = -1)\n",
    "    elif num == 9:\n",
    "        return OneVsRestClassifier(QuadraticDiscriminantAnalysis(), n_jobs = -1)\n",
    "    elif num == 10:\n",
    "        return OneVsOneClassifier(KNeighborsClassifier(3))\n",
    "    elif num == 11:\n",
    "        return OneVsOneClassifier(SVC(kernel=\"linear\", C=0.025))\n",
    "    elif num == 12:\n",
    "        return OneVsOneClassifier(SVC(gamma=2, C=1))\n",
    "    elif num == 13:\n",
    "        return OneVsOneClassifier(GaussianProcessClassifier(1.0 * RBF(1.0)))\n",
    "    elif num == 14:\n",
    "        return OneVsOneClassifier(DecisionTreeClassifier(max_depth=5))\n",
    "    elif num == 15:\n",
    "        return OneVsOneClassifier(RandomForestClassifier(max_depth=5, n_estimators=10, max_features=1))\n",
    "    elif num == 16:\n",
    "        return OneVsOneClassifier(MLPClassifier(alpha=1, max_iter=1000))\n",
    "    elif num == 17:\n",
    "        return OneVsOneClassifier(AdaBoostClassifier())\n",
    "    elif num == 18:\n",
    "        return OneVsOneClassifier(GaussianNB())\n",
    "    elif num == 19:\n",
    "        return OneVsOneClassifier(QuadraticDiscriminantAnalysis())\n",
    "    else:\n",
    "        return None\n",
    "\n",
    "    "
   ]
  },
  {
   "cell_type": "code",
   "execution_count": 5,
   "metadata": {},
   "outputs": [
    {
     "output_type": "stream",
     "name": "stdout",
     "text": "15:36:47 - Reading training and testing One-Hot encodings\n15:36:50 - Done\n\nCurrent Time = 15:36:50\nCurrent Time = 15:36:50\n"
    }
   ],
   "source": [
    "# printnow()\n",
    "# X = pd.read_csv('onehot_x.csv')\n",
    "# printnow()\n",
    "# Y = pd.read_csv('onehot_y.csv')\n",
    "# printnow()\n",
    "\n",
    "log('Reading training and testing One-Hot encodings')\n",
    "onehot_train = pd.read_pickle('train_test_encoded/onehot_train.zip')\n",
    "onehot_test = pd.read_pickle('train_test_encoded/onehot_test.zip')\n",
    "log('Done\\n')\n",
    "\n",
    "printnow()\n",
    "X_train = onehot_train.drop(columns=['y'])\n",
    "y_train = onehot_train['y']\n",
    "\n",
    "X_test = onehot_test.drop(columns=['y'])\n",
    "y_test = onehot_test['y']\n",
    "printnow()\n",
    ""
   ]
  },
  {
   "cell_type": "code",
   "execution_count": 10,
   "metadata": {},
   "outputs": [
    {
     "output_type": "stream",
     "name": "stdout",
     "text": "(3936, 14758)\n(3936,)\n(985, 14758)\n(985,)\n"
    }
   ],
   "source": [
    "print(X_train.shape)\n",
    "print(y_train.shape)\n",
    "\n",
    "print(X_test.shape)\n",
    "print(y_test.shape)\n",
    ""
   ]
  },
  {
   "cell_type": "code",
   "execution_count": 8,
   "metadata": {},
   "outputs": [
    {
     "output_type": "execute_result",
     "data": {
      "text/plain": "(985, 14758)"
     },
     "metadata": {},
     "execution_count": 8
    }
   ],
   "source": []
  },
  {
   "cell_type": "code",
   "execution_count": 6,
   "metadata": {},
   "outputs": [
    {
     "data": {
      "text/plain": [
       "(4910, 59396)"
      ]
     },
     "execution_count": 6,
     "metadata": {},
     "output_type": "execute_result"
    }
   ],
   "source": [
    "X.shape"
   ]
  },
  {
   "cell_type": "code",
   "execution_count": 7,
   "metadata": {},
   "outputs": [
    {
     "data": {
      "text/html": [
       "<div>\n",
       "<style scoped>\n",
       "    .dataframe tbody tr th:only-of-type {\n",
       "        vertical-align: middle;\n",
       "    }\n",
       "\n",
       "    .dataframe tbody tr th {\n",
       "        vertical-align: top;\n",
       "    }\n",
       "\n",
       "    .dataframe thead th {\n",
       "        text-align: right;\n",
       "    }\n",
       "</style>\n",
       "<table border=\"1\" class=\"dataframe\">\n",
       "  <thead>\n",
       "    <tr style=\"text-align: right;\">\n",
       "      <th></th>\n",
       "      <th>0</th>\n",
       "    </tr>\n",
       "  </thead>\n",
       "  <tbody>\n",
       "    <tr>\n",
       "      <th>0</th>\n",
       "      <td>country</td>\n",
       "    </tr>\n",
       "    <tr>\n",
       "      <th>1</th>\n",
       "      <td>country</td>\n",
       "    </tr>\n",
       "    <tr>\n",
       "      <th>2</th>\n",
       "      <td>country</td>\n",
       "    </tr>\n",
       "    <tr>\n",
       "      <th>3</th>\n",
       "      <td>country</td>\n",
       "    </tr>\n",
       "    <tr>\n",
       "      <th>4</th>\n",
       "      <td>country</td>\n",
       "    </tr>\n",
       "  </tbody>\n",
       "</table>\n",
       "</div>"
      ],
      "text/plain": [
       "         0\n",
       "0  country\n",
       "1  country\n",
       "2  country\n",
       "3  country\n",
       "4  country"
      ]
     },
     "execution_count": 7,
     "metadata": {},
     "output_type": "execute_result"
    }
   ],
   "source": [
    "Y.head()"
   ]
  },
  {
   "cell_type": "code",
   "execution_count": 18,
   "metadata": {},
   "outputs": [
    {
     "name": "stdout",
     "output_type": "stream",
     "text": [
      "Current Time = 22:10:44\n",
      "Current Time = 22:10:45\n",
      "QDA (OvO)\n"
     ]
    },
    {
     "name": "stderr",
     "output_type": "stream",
     "text": [
      "/home/daniel/Environments/nlpenv3.7.5/lib/python3.7/site-packages/sklearn/utils/validation.py:760: DataConversionWarning: A column-vector y was passed when a 1d array was expected. Please change the shape of y to (n_samples, ), for example using ravel().\n",
      "  y = column_or_1d(y, warn=True)\n",
      "/home/daniel/Environments/nlpenv3.7.5/lib/python3.7/site-packages/sklearn/discriminant_analysis.py:691: UserWarning: Variables are collinear\n",
      "  warnings.warn(\"Variables are collinear\")\n",
      "/home/daniel/Environments/nlpenv3.7.5/lib/python3.7/site-packages/sklearn/discriminant_analysis.py:691: UserWarning: Variables are collinear\n",
      "  warnings.warn(\"Variables are collinear\")\n",
      "/home/daniel/Environments/nlpenv3.7.5/lib/python3.7/site-packages/sklearn/discriminant_analysis.py:691: UserWarning: Variables are collinear\n",
      "  warnings.warn(\"Variables are collinear\")\n",
      "/home/daniel/Environments/nlpenv3.7.5/lib/python3.7/site-packages/sklearn/discriminant_analysis.py:691: UserWarning: Variables are collinear\n",
      "  warnings.warn(\"Variables are collinear\")\n",
      "/home/daniel/Environments/nlpenv3.7.5/lib/python3.7/site-packages/sklearn/discriminant_analysis.py:691: UserWarning: Variables are collinear\n",
      "  warnings.warn(\"Variables are collinear\")\n",
      "/home/daniel/Environments/nlpenv3.7.5/lib/python3.7/site-packages/sklearn/discriminant_analysis.py:691: UserWarning: Variables are collinear\n",
      "  warnings.warn(\"Variables are collinear\")\n"
     ]
    },
    {
     "name": "stdout",
     "output_type": "stream",
     "text": [
      "Current Time = 22:13:31\n",
      "acc:\t 0.1894093686354379\n",
      "              precision    recall  f1-score   support\n",
      "\n",
      "     country       0.23      0.49      0.31       105\n",
      "      hiphop       0.09      0.03      0.05       132\n",
      "         pop       0.18      0.28      0.22       124\n",
      "        rock       0.10      0.02      0.04       130\n",
      "\n",
      "    accuracy                           0.19       491\n",
      "   macro avg       0.15      0.21      0.15       491\n",
      "weighted avg       0.15      0.19      0.14       491\n",
      "\n",
      "--------------------\n",
      "[[51  5 43  6]\n",
      " [61  4 61  6]\n",
      " [45 29 35 15]\n",
      " [63  7 57  3]]\n",
      "Current Time = 22:13:46\n"
     ]
    }
   ],
   "source": [
    "# ASSESS EACH CLASSIFIER, PRINT SCORES (all other parts must be completed first)\n",
    "printnow()\n",
    "\n",
    "X_train, X_test, Y_train, Y_test = train_test_split(X, Y, test_size=0.1, random_state=0)\n",
    "start = 19\n",
    "stop = 20\n",
    "for name, clf_index in zip(names[start:stop], range(start,stop)):\n",
    "    printnow()\n",
    "    print(name)\n",
    "\n",
    "    for i in range(0,1): # multiple loops of same classifier (don't recommend more than 1)\n",
    "\n",
    "        clf = make_classifier(clf_index)\n",
    "        clf.fit(X_train, Y_train)\n",
    "        printnow()\n",
    "        \n",
    "        y_pred = clf.predict(X_test)\n",
    "        accuracy = accuracy_score(Y_test, y_pred) # not normalized, gives float (percentage)\n",
    "        print(\"acc:\\t\", accuracy)\n",
    "        print(classification_report(Y_test, y_pred))\n",
    "        print('-' * 20)\n",
    "        print(confusion_matrix(Y_test, y_pred))\n",
    "        \n",
    "        del clf\n",
    "#             print()\n",
    "\n",
    "#             accuracy = accuracy_score(Y_test, y_pred) # not normalized, gives float (percentage)\n",
    "#             recall = recall_score(Y_test, y_pred, average='macro') # unweighted average taken\n",
    "#             precision = precision_score(Y_test, y_pred, average='macro') # unweighted average taken\n",
    "\n",
    "#             def fancy(x):\n",
    "#                 print(('%.2f' % x).lstrip('0'))   \n",
    "\n",
    "#             # some print function (or print to file)\n",
    "#             print(name, \": \",\n",
    "#                   \"\\tscore: \", fancy(accuracy),\n",
    "#                   \"\\trecall: \", fancy(recall),\n",
    "#                   \"\\tprecision: \", fancy(precision),\n",
    "#                   \"\\t\", str(i), \"th iteration\")\n",
    "printnow()"
   ]
  },
  {
   "cell_type": "code",
   "execution_count": 10,
   "metadata": {},
   "outputs": [
    {
     "data": {
      "text/plain": [
       "range(0, 1)"
      ]
     },
     "execution_count": 10,
     "metadata": {},
     "output_type": "execute_result"
    }
   ],
   "source": [
    "range(0,1)"
   ]
  },
  {
   "cell_type": "code",
   "execution_count": 11,
   "metadata": {},
   "outputs": [
    {
     "name": "stdout",
     "output_type": "stream",
     "text": [
      "[[1 0 0]\n",
      " [1 0 0]\n",
      " [0 1 2]]\n"
     ]
    }
   ],
   "source": [
    "from sklearn.metrics import classification_report\n",
    "y_true = ['blue', 'green', 'red', 'red', 'red']\n",
    "y_pred = ['blue', 'blue', 'red', 'red', 'green']\n",
    "# target_names = ['class 0', 'class 1', 'class 2']\n",
    "print(confusion_matrix(y_true, y_pred))"
   ]
  },
  {
   "cell_type": "code",
   "execution_count": 21,
   "metadata": {},
   "outputs": [
    {
     "name": "stdout",
     "output_type": "stream",
     "text": [
      "[1, 2, 3]\n",
      "1\n",
      "2\n",
      "3\n",
      "2\n",
      "[4, 5, 6]\n",
      "4\n",
      "5\n",
      "6\n",
      "2\n",
      "[[1, 2, 3], [4, 5, 6]]\n"
     ]
    }
   ],
   "source": [
    "l = [1,2,3]\n",
    "l2 = [4,5,6]\n",
    "l_of_l = [l, l2]\n",
    "\n",
    "for listt in l_of_l:\n",
    "    print(listt)\n",
    "    for item in listt:\n",
    "        print(item)\n",
    "    del listt\n",
    "    print(len(l_of_l))\n",
    "print(l_of_l)"
   ]
  },
  {
   "cell_type": "code",
   "execution_count": null,
   "metadata": {},
   "outputs": [],
   "source": []
  }
 ],
 "metadata": {
  "kernelspec": {
   "display_name": "Python 3",
   "language": "python",
   "name": "python3"
  },
  "language_info": {
   "codemirror_mode": {
    "name": "ipython",
    "version": 3
   },
   "file_extension": ".py",
   "mimetype": "text/x-python",
   "name": "python",
   "nbconvert_exporter": "python",
   "pygments_lexer": "ipython3",
   "version": "3.7.4-final"
  }
 },
 "nbformat": 4,
 "nbformat_minor": 2
}