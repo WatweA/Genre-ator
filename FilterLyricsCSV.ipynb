{
 "cells": [
  {
   "cell_type": "code",
   "execution_count": 1,
   "metadata": {},
   "outputs": [],
   "source": [
    "import pandas as pd"
   ]
  },
  {
   "cell_type": "code",
   "execution_count": 3,
   "metadata": {},
   "outputs": [],
   "source": [
    "# Load the lyrics into dataframes\n",
    "country_lyrics = pd.read_csv(r'country_lyrics.csv')\n",
    "country_lyrics.rename(columns={'Unnamed: 0' : 'Title-Artist', '0' : 'Lyrics'}, inplace=True)\n",
    "\n",
    "hiphop_lyrics = pd.read_csv(r'hiphop_lyrics.csv')\n",
    "hiphop_lyrics.rename(columns={'Unnamed: 0' : 'Title-Artist', '0' : 'Lyrics'}, inplace=True)\n",
    "\n",
    "pop_lyrics = pd.read_csv(r'pop_lyrics.csv')\n",
    "pop_lyrics.rename(columns={'Unnamed: 0' : 'Title-Artist', '0' : 'Lyrics'}, inplace=True)\n",
    "\n",
    "rock_lyrics = pd.read_csv(r'rock_lyrics.csv')\n",
    "rock_lyrics.rename(columns={'Unnamed: 0' : 'Title-Artist', '0' : 'Lyrics'}, inplace=True)"
   ]
  },
  {
   "cell_type": "code",
   "execution_count": 2,
   "metadata": {},
   "outputs": [],
   "source": [
    "# define the standard section headers and drop malformed lyrics\n",
    "section_headers = ['Intro','Verse','Refrain','Pre-Chorus','Pre Chorus','Chorus','Post-Chorus','Post Chorus','Hooks','Riffs/Basslines','Scratches','Sampling','Bridge','Interlude','Skit','Collision','Instrumental or Solo','Instrumental','Solo','Ad-lib','Ad lib','Segue','Outro']\n",
    "section_headers_str = '|'.join(section_headers)\n",
    "\n",
    "def drop_invalid_lyrics(df, inplace=False):\n",
    "    valid_rows = df[ df['Lyrics'].str.startswith('[') & df['Lyrics'].str[:20].str.contains(section_headers_str) ]\n",
    "\n",
    "    if inplace:\n",
    "        df = valid_rows\n",
    "    return valid_rows"
   ]
  },
  {
   "cell_type": "code",
   "execution_count": 4,
   "metadata": {},
   "outputs": [],
   "source": [
    "country_lyrics_cleaned = drop_invalid_lyrics(country_lyrics)\n",
    "country_lyrics_cleaned.to_csv(r'country_lyrics_cleaned.csv')\n",
    "\n",
    "hiphop_lyrics_cleaned = drop_invalid_lyrics(hiphop_lyrics)\n",
    "hiphop_lyrics_cleaned.to_csv(r'hiphop_lyrics_cleaned.csv')\n",
    "\n",
    "pop_lyrics_cleaned = drop_invalid_lyrics(pop_lyrics)\n",
    "pop_lyrics_cleaned.to_csv(r'pop_lyrics_cleaned.csv')\n",
    "\n",
    "rock_lyrics_cleaned = drop_invalid_lyrics(rock_lyrics)\n",
    "rock_lyrics_cleaned.to_csv(r'rock_lyrics_cleaned.csv')"
   ]
  },
  {
   "cell_type": "code",
   "execution_count": 5,
   "metadata": {},
   "outputs": [
    {
     "output_type": "execute_result",
     "data": {
      "text/plain": "                         Title-Artist  \\\n0       High HopesPanic! At The Disco   \n1              NaturalImagine Dragons   \n2                 Brokenlovelytheband   \n3              Bohemian RhapsodyQueen   \n4     Another One Bites The DustQueen   \n...                               ...   \n1596                If It's LoveTrain   \n1597            Summer DaySheryl Crow   \n1598          Angel DanceRobert Plant   \n1599            You Got MeCrash Kings   \n1600       Half Of My HeartJohn Mayer   \n\n                                                 Lyrics  \n0     [Intro]\\r\\nHigh, high hopes\\r\\n\\r\\n[Chorus]\\r\\...  \n1     [Verse 1]\\r\\nWill you hold the line\\r\\nWhen ev...  \n2     [Chorus]\\r\\nI like that you're broken\\r\\nBroke...  \n3     [Intro]\\r\\nIs this the real life? Is this just...  \n4     [Intro]\\r\\nOoh, let's go!\\r\\n\\r\\n[Verse 1]\\r\\n...  \n...                                                 ...  \n1596  [Verse 1]\\r\\nWhile everybody else is getting o...  \n1597  [Verse 1]\\r\\nEvery little thing that I felt th...  \n1598  [Bridge]\\r\\nGood night, sleep tight\\r\\nThe big...  \n1599  Mary, I think you got me\\r\\nYou turn around, t...  \n1600  [Verse 1: John Mayer]\\r\\nI was born in the arm...  \n\n[1601 rows x 2 columns]",
      "text/html": "<div>\n<style scoped>\n    .dataframe tbody tr th:only-of-type {\n        vertical-align: middle;\n    }\n\n    .dataframe tbody tr th {\n        vertical-align: top;\n    }\n\n    .dataframe thead th {\n        text-align: right;\n    }\n</style>\n<table border=\"1\" class=\"dataframe\">\n  <thead>\n    <tr style=\"text-align: right;\">\n      <th></th>\n      <th>Title-Artist</th>\n      <th>Lyrics</th>\n    </tr>\n  </thead>\n  <tbody>\n    <tr>\n      <td>0</td>\n      <td>High HopesPanic! At The Disco</td>\n      <td>[Intro]\\r\\nHigh, high hopes\\r\\n\\r\\n[Chorus]\\r\\...</td>\n    </tr>\n    <tr>\n      <td>1</td>\n      <td>NaturalImagine Dragons</td>\n      <td>[Verse 1]\\r\\nWill you hold the line\\r\\nWhen ev...</td>\n    </tr>\n    <tr>\n      <td>2</td>\n      <td>Brokenlovelytheband</td>\n      <td>[Chorus]\\r\\nI like that you're broken\\r\\nBroke...</td>\n    </tr>\n    <tr>\n      <td>3</td>\n      <td>Bohemian RhapsodyQueen</td>\n      <td>[Intro]\\r\\nIs this the real life? Is this just...</td>\n    </tr>\n    <tr>\n      <td>4</td>\n      <td>Another One Bites The DustQueen</td>\n      <td>[Intro]\\r\\nOoh, let's go!\\r\\n\\r\\n[Verse 1]\\r\\n...</td>\n    </tr>\n    <tr>\n      <td>...</td>\n      <td>...</td>\n      <td>...</td>\n    </tr>\n    <tr>\n      <td>1596</td>\n      <td>If It's LoveTrain</td>\n      <td>[Verse 1]\\r\\nWhile everybody else is getting o...</td>\n    </tr>\n    <tr>\n      <td>1597</td>\n      <td>Summer DaySheryl Crow</td>\n      <td>[Verse 1]\\r\\nEvery little thing that I felt th...</td>\n    </tr>\n    <tr>\n      <td>1598</td>\n      <td>Angel DanceRobert Plant</td>\n      <td>[Bridge]\\r\\nGood night, sleep tight\\r\\nThe big...</td>\n    </tr>\n    <tr>\n      <td>1599</td>\n      <td>You Got MeCrash Kings</td>\n      <td>Mary, I think you got me\\r\\nYou turn around, t...</td>\n    </tr>\n    <tr>\n      <td>1600</td>\n      <td>Half Of My HeartJohn Mayer</td>\n      <td>[Verse 1: John Mayer]\\r\\nI was born in the arm...</td>\n    </tr>\n  </tbody>\n</table>\n<p>1601 rows × 2 columns</p>\n</div>"
     },
     "metadata": {},
     "execution_count": 5
    }
   ],
   "source": [
    "country_lyrics"
   ]
  },
  {
   "cell_type": "code",
   "execution_count": 6,
   "metadata": {},
   "outputs": [
    {
     "output_type": "execute_result",
     "data": {
      "text/plain": "                         Title-Artist  \\\n0       High HopesPanic! At The Disco   \n1              NaturalImagine Dragons   \n2                 Brokenlovelytheband   \n3              Bohemian RhapsodyQueen   \n4     Another One Bites The DustQueen   \n...                               ...   \n1595        At Or With MeJack Johnson   \n1596                If It's LoveTrain   \n1597            Summer DaySheryl Crow   \n1598          Angel DanceRobert Plant   \n1600       Half Of My HeartJohn Mayer   \n\n                                                 Lyrics  \n0     [Intro]\\r\\nHigh, high hopes\\r\\n\\r\\n[Chorus]\\r\\...  \n1     [Verse 1]\\r\\nWill you hold the line\\r\\nWhen ev...  \n2     [Chorus]\\r\\nI like that you're broken\\r\\nBroke...  \n3     [Intro]\\r\\nIs this the real life? Is this just...  \n4     [Intro]\\r\\nOoh, let's go!\\r\\n\\r\\n[Verse 1]\\r\\n...  \n...                                                 ...  \n1595  [Verse 1]\\r\\nAre they laughing at or with me?\\...  \n1596  [Verse 1]\\r\\nWhile everybody else is getting o...  \n1597  [Verse 1]\\r\\nEvery little thing that I felt th...  \n1598  [Bridge]\\r\\nGood night, sleep tight\\r\\nThe big...  \n1600  [Verse 1: John Mayer]\\r\\nI was born in the arm...  \n\n[1386 rows x 2 columns]",
      "text/html": "<div>\n<style scoped>\n    .dataframe tbody tr th:only-of-type {\n        vertical-align: middle;\n    }\n\n    .dataframe tbody tr th {\n        vertical-align: top;\n    }\n\n    .dataframe thead th {\n        text-align: right;\n    }\n</style>\n<table border=\"1\" class=\"dataframe\">\n  <thead>\n    <tr style=\"text-align: right;\">\n      <th></th>\n      <th>Title-Artist</th>\n      <th>Lyrics</th>\n    </tr>\n  </thead>\n  <tbody>\n    <tr>\n      <td>0</td>\n      <td>High HopesPanic! At The Disco</td>\n      <td>[Intro]\\r\\nHigh, high hopes\\r\\n\\r\\n[Chorus]\\r\\...</td>\n    </tr>\n    <tr>\n      <td>1</td>\n      <td>NaturalImagine Dragons</td>\n      <td>[Verse 1]\\r\\nWill you hold the line\\r\\nWhen ev...</td>\n    </tr>\n    <tr>\n      <td>2</td>\n      <td>Brokenlovelytheband</td>\n      <td>[Chorus]\\r\\nI like that you're broken\\r\\nBroke...</td>\n    </tr>\n    <tr>\n      <td>3</td>\n      <td>Bohemian RhapsodyQueen</td>\n      <td>[Intro]\\r\\nIs this the real life? Is this just...</td>\n    </tr>\n    <tr>\n      <td>4</td>\n      <td>Another One Bites The DustQueen</td>\n      <td>[Intro]\\r\\nOoh, let's go!\\r\\n\\r\\n[Verse 1]\\r\\n...</td>\n    </tr>\n    <tr>\n      <td>...</td>\n      <td>...</td>\n      <td>...</td>\n    </tr>\n    <tr>\n      <td>1595</td>\n      <td>At Or With MeJack Johnson</td>\n      <td>[Verse 1]\\r\\nAre they laughing at or with me?\\...</td>\n    </tr>\n    <tr>\n      <td>1596</td>\n      <td>If It's LoveTrain</td>\n      <td>[Verse 1]\\r\\nWhile everybody else is getting o...</td>\n    </tr>\n    <tr>\n      <td>1597</td>\n      <td>Summer DaySheryl Crow</td>\n      <td>[Verse 1]\\r\\nEvery little thing that I felt th...</td>\n    </tr>\n    <tr>\n      <td>1598</td>\n      <td>Angel DanceRobert Plant</td>\n      <td>[Bridge]\\r\\nGood night, sleep tight\\r\\nThe big...</td>\n    </tr>\n    <tr>\n      <td>1600</td>\n      <td>Half Of My HeartJohn Mayer</td>\n      <td>[Verse 1: John Mayer]\\r\\nI was born in the arm...</td>\n    </tr>\n  </tbody>\n</table>\n<p>1386 rows × 2 columns</p>\n</div>"
     },
     "metadata": {},
     "execution_count": 6
    }
   ],
   "source": [
    "country_lyrics_cleaned"
   ]
  },
  {
   "cell_type": "code",
   "execution_count": null,
   "metadata": {},
   "outputs": [],
   "source": []
  }
 ],
 "metadata": {
  "kernelspec": {
   "display_name": "Python 3",
   "language": "python",
   "name": "python3"
  },
  "language_info": {
   "codemirror_mode": {
    "name": "ipython",
    "version": 3
   },
   "file_extension": ".py",
   "mimetype": "text/x-python",
   "name": "python",
   "nbconvert_exporter": "python",
   "pygments_lexer": "ipython3",
   "version": "3.7.4-final"
  }
 },
 "nbformat": 4,
 "nbformat_minor": 2
}