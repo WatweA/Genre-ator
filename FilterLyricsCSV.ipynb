{
 "cells": [
  {
   "cell_type": "code",
   "execution_count": 74,
   "metadata": {},
   "outputs": [],
   "source": [
    "import pandas as pd"
   ]
  },
  {
   "cell_type": "code",
   "execution_count": 75,
   "metadata": {},
   "outputs": [],
   "source": [
    "# Load the lyrics into dataframes\n",
    "country_lyrics = pd.read_csv(r'country_lyrics.csv')\n",
    "country_lyrics.rename(columns={'Unnamed: 0' : 'Title-Artist', '0' : 'Lyrics'}, inplace=True)\n",
    "\n",
    "hiphop_lyrics = pd.read_csv(r'hiphop_lyrics.csv')\n",
    "hiphop_lyrics.rename(columns={'Unnamed: 0' : 'Title-Artist', '0' : 'Lyrics'}, inplace=True)\n",
    "\n",
    "pop_lyrics = pd.read_csv(r'pop_lyrics.csv')\n",
    "pop_lyrics.rename(columns={'Unnamed: 0' : 'Title-Artist', '0' : 'Lyrics'}, inplace=True)\n",
    "\n",
    "rock_lyrics = pd.read_csv(r'rock_lyrics.csv')\n",
    "rock_lyrics.rename(columns={'Unnamed: 0' : 'Title-Artist', '0' : 'Lyrics'}, inplace=True)"
   ]
  },
  {
   "cell_type": "code",
   "execution_count": 76,
   "metadata": {},
   "outputs": [],
   "source": [
    "# define the standard section headers and drop malformed lyrics\n",
    "section_headers = ['Intro','Verse','Refrain','Pre-Chorus','Pre Chorus','Chorus','Post-Chorus','Post Chorus','Hooks','Riffs/Basslines','Scratches','Sampling','Bridge','Interlude','Skit','Collision','Instrumental or Solo','Instrumental','Solo','Ad-lib','Ad lib','Segue','Outro']\n",
    "section_headers_str = '|'.join(section_headers)\n",
    "\n",
    "def drop_invalid_lyrics(df, inplace=False):\n",
    "    valid_rows = df[ df['Lyrics'].str.startswith('[') & df['Lyrics'].str[:20].str.contains(section_headers_str) ]\n",
    "\n",
    "    if inplace:\n",
    "        df = valid_rows\n",
    "    return valid_rows"
   ]
  },
  {
   "cell_type": "code",
   "execution_count": 77,
   "metadata": {},
   "outputs": [],
   "source": [
    "country_lyrics_cleaned = drop_invalid_lyrics(country_lyrics)\n",
    "country_lyrics_cleaned.to_csv(r'country_lyrics_cleaned.csv')\n",
    "\n",
    "hiphop_lyrics_cleaned = drop_invalid_lyrics(hiphop_lyrics)\n",
    "hiphop_lyrics_cleaned.to_csv(r'hiphop_lyrics_cleaned.csv')\n",
    "\n",
    "pop_lyrics_cleaned = drop_invalid_lyrics(pop_lyrics)\n",
    "pop_lyrics_cleaned.to_csv(r'pop_lyrics_cleaned.csv')\n",
    "\n",
    "rock_lyrics_cleaned = drop_invalid_lyrics(rock_lyrics)\n",
    "rock_lyrics_cleaned.to_csv(r'rock_lyrics_cleaned.csv')"
   ]
  },
  {
   "cell_type": "code",
   "execution_count": 78,
   "metadata": {},
   "outputs": [
    {
     "output_type": "execute_result",
     "data": {
      "text/plain": "                                      Title-Artist  \\\n0                             SpeechlessDan + Shay   \n1                                TequilaDan + Shay   \n2     Meant To BeBebe Rexha & Florida Georgia Line   \n3                 She Got The Best Of MeLuke Combs   \n4                                Lose ItKane Brown   \n...                                            ...   \n1174                   Draw Me A MapDierks Bentley   \n1175                 Playing The PartJamey Johnson   \n1176                      Ready For LoveAdam Brand   \n1177                           LeavinBlaine Larsen   \n1178            Shakin' That TailgateTrailer Choir   \n\n                                                 Lyrics  \n0     [Verse 1]\\r\\nYou say you'll be down in five\\r\\...  \n1     [Verse 1]\\r\\nI can still shut down a party\\r\\n...  \n2     [Verse 1: Florida Georgia Line]\\r\\nBaby, lay o...  \n3     [Verse 1]\\r\\nSeventeen, you don't think that m...  \n4     [Intro]\\r\\nYeah\\r\\n\\r\\n[Verse 1]\\r\\nThat lit u...  \n...                                                 ...  \n1174  [Verse 1]\\r\\nStaring deep into your eyes\\r\\nSe...  \n1175  [Verse 1]\\r\\nTakin' a dip on the Sunset Strip ...  \n1176  Thought that I would never love another\\r\\nTil...  \n1177  C'mon hurry, ain't no time for worrying\\r\\nGot...  \n1178  [Verse 1]\\r\\nRollin' rollin' here they come\\r\\...  \n\n[1179 rows x 2 columns]",
      "text/html": "<div>\n<style scoped>\n    .dataframe tbody tr th:only-of-type {\n        vertical-align: middle;\n    }\n\n    .dataframe tbody tr th {\n        vertical-align: top;\n    }\n\n    .dataframe thead th {\n        text-align: right;\n    }\n</style>\n<table border=\"1\" class=\"dataframe\">\n  <thead>\n    <tr style=\"text-align: right;\">\n      <th></th>\n      <th>Title-Artist</th>\n      <th>Lyrics</th>\n    </tr>\n  </thead>\n  <tbody>\n    <tr>\n      <td>0</td>\n      <td>SpeechlessDan + Shay</td>\n      <td>[Verse 1]\\r\\nYou say you'll be down in five\\r\\...</td>\n    </tr>\n    <tr>\n      <td>1</td>\n      <td>TequilaDan + Shay</td>\n      <td>[Verse 1]\\r\\nI can still shut down a party\\r\\n...</td>\n    </tr>\n    <tr>\n      <td>2</td>\n      <td>Meant To BeBebe Rexha &amp; Florida Georgia Line</td>\n      <td>[Verse 1: Florida Georgia Line]\\r\\nBaby, lay o...</td>\n    </tr>\n    <tr>\n      <td>3</td>\n      <td>She Got The Best Of MeLuke Combs</td>\n      <td>[Verse 1]\\r\\nSeventeen, you don't think that m...</td>\n    </tr>\n    <tr>\n      <td>4</td>\n      <td>Lose ItKane Brown</td>\n      <td>[Intro]\\r\\nYeah\\r\\n\\r\\n[Verse 1]\\r\\nThat lit u...</td>\n    </tr>\n    <tr>\n      <td>...</td>\n      <td>...</td>\n      <td>...</td>\n    </tr>\n    <tr>\n      <td>1174</td>\n      <td>Draw Me A MapDierks Bentley</td>\n      <td>[Verse 1]\\r\\nStaring deep into your eyes\\r\\nSe...</td>\n    </tr>\n    <tr>\n      <td>1175</td>\n      <td>Playing The PartJamey Johnson</td>\n      <td>[Verse 1]\\r\\nTakin' a dip on the Sunset Strip ...</td>\n    </tr>\n    <tr>\n      <td>1176</td>\n      <td>Ready For LoveAdam Brand</td>\n      <td>Thought that I would never love another\\r\\nTil...</td>\n    </tr>\n    <tr>\n      <td>1177</td>\n      <td>LeavinBlaine Larsen</td>\n      <td>C'mon hurry, ain't no time for worrying\\r\\nGot...</td>\n    </tr>\n    <tr>\n      <td>1178</td>\n      <td>Shakin' That TailgateTrailer Choir</td>\n      <td>[Verse 1]\\r\\nRollin' rollin' here they come\\r\\...</td>\n    </tr>\n  </tbody>\n</table>\n<p>1179 rows × 2 columns</p>\n</div>"
     },
     "metadata": {},
     "execution_count": 78
    }
   ],
   "source": [
    "country_lyrics"
   ]
  },
  {
   "cell_type": "code",
   "execution_count": 79,
   "metadata": {},
   "outputs": [
    {
     "output_type": "execute_result",
     "data": {
      "text/plain": "                                      Title-Artist  \\\n0                             SpeechlessDan + Shay   \n1                                TequilaDan + Shay   \n2     Meant To BeBebe Rexha & Florida Georgia Line   \n3                 She Got The Best Of MeLuke Combs   \n4                                Lose ItKane Brown   \n...                                            ...   \n1171                              MineTaylor Swift   \n1172                  Anything Like MeBrad Paisley   \n1174                   Draw Me A MapDierks Bentley   \n1175                 Playing The PartJamey Johnson   \n1178            Shakin' That TailgateTrailer Choir   \n\n                                                 Lyrics  \n0     [Verse 1]\\r\\nYou say you'll be down in five\\r\\...  \n1     [Verse 1]\\r\\nI can still shut down a party\\r\\n...  \n2     [Verse 1: Florida Georgia Line]\\r\\nBaby, lay o...  \n3     [Verse 1]\\r\\nSeventeen, you don't think that m...  \n4     [Intro]\\r\\nYeah\\r\\n\\r\\n[Verse 1]\\r\\nThat lit u...  \n...                                                 ...  \n1171  [Verse 1]\\r\\nYou were in college, working part...  \n1172  [Verse 1]\\r\\nI remember saying I don't care ei...  \n1174  [Verse 1]\\r\\nStaring deep into your eyes\\r\\nSe...  \n1175  [Verse 1]\\r\\nTakin' a dip on the Sunset Strip ...  \n1178  [Verse 1]\\r\\nRollin' rollin' here they come\\r\\...  \n\n[936 rows x 2 columns]",
      "text/html": "<div>\n<style scoped>\n    .dataframe tbody tr th:only-of-type {\n        vertical-align: middle;\n    }\n\n    .dataframe tbody tr th {\n        vertical-align: top;\n    }\n\n    .dataframe thead th {\n        text-align: right;\n    }\n</style>\n<table border=\"1\" class=\"dataframe\">\n  <thead>\n    <tr style=\"text-align: right;\">\n      <th></th>\n      <th>Title-Artist</th>\n      <th>Lyrics</th>\n    </tr>\n  </thead>\n  <tbody>\n    <tr>\n      <td>0</td>\n      <td>SpeechlessDan + Shay</td>\n      <td>[Verse 1]\\r\\nYou say you'll be down in five\\r\\...</td>\n    </tr>\n    <tr>\n      <td>1</td>\n      <td>TequilaDan + Shay</td>\n      <td>[Verse 1]\\r\\nI can still shut down a party\\r\\n...</td>\n    </tr>\n    <tr>\n      <td>2</td>\n      <td>Meant To BeBebe Rexha &amp; Florida Georgia Line</td>\n      <td>[Verse 1: Florida Georgia Line]\\r\\nBaby, lay o...</td>\n    </tr>\n    <tr>\n      <td>3</td>\n      <td>She Got The Best Of MeLuke Combs</td>\n      <td>[Verse 1]\\r\\nSeventeen, you don't think that m...</td>\n    </tr>\n    <tr>\n      <td>4</td>\n      <td>Lose ItKane Brown</td>\n      <td>[Intro]\\r\\nYeah\\r\\n\\r\\n[Verse 1]\\r\\nThat lit u...</td>\n    </tr>\n    <tr>\n      <td>...</td>\n      <td>...</td>\n      <td>...</td>\n    </tr>\n    <tr>\n      <td>1171</td>\n      <td>MineTaylor Swift</td>\n      <td>[Verse 1]\\r\\nYou were in college, working part...</td>\n    </tr>\n    <tr>\n      <td>1172</td>\n      <td>Anything Like MeBrad Paisley</td>\n      <td>[Verse 1]\\r\\nI remember saying I don't care ei...</td>\n    </tr>\n    <tr>\n      <td>1174</td>\n      <td>Draw Me A MapDierks Bentley</td>\n      <td>[Verse 1]\\r\\nStaring deep into your eyes\\r\\nSe...</td>\n    </tr>\n    <tr>\n      <td>1175</td>\n      <td>Playing The PartJamey Johnson</td>\n      <td>[Verse 1]\\r\\nTakin' a dip on the Sunset Strip ...</td>\n    </tr>\n    <tr>\n      <td>1178</td>\n      <td>Shakin' That TailgateTrailer Choir</td>\n      <td>[Verse 1]\\r\\nRollin' rollin' here they come\\r\\...</td>\n    </tr>\n  </tbody>\n</table>\n<p>936 rows × 2 columns</p>\n</div>"
     },
     "metadata": {},
     "execution_count": 79
    }
   ],
   "source": [
    "country_lyrics_cleaned"
   ]
  },
  {
   "cell_type": "code",
   "execution_count": null,
   "metadata": {},
   "outputs": [],
   "source": []
  }
 ],
 "metadata": {
  "kernelspec": {
   "display_name": "Python 3",
   "language": "python",
   "name": "python3"
  },
  "language_info": {
   "codemirror_mode": {
    "name": "ipython",
    "version": 3
   },
   "file_extension": ".py",
   "mimetype": "text/x-python",
   "name": "python",
   "nbconvert_exporter": "python",
   "pygments_lexer": "ipython3",
   "version": "3.7.4-final"
  }
 },
 "nbformat": 4,
 "nbformat_minor": 2
}