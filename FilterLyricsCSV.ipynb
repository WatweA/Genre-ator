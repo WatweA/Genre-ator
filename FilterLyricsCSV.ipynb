{
 "cells": [
  {
   "cell_type": "code",
   "execution_count": 34,
   "metadata": {},
   "outputs": [],
   "source": [
    "import pandas as pd"
   ]
  },
  {
   "cell_type": "code",
   "execution_count": 35,
   "metadata": {},
   "outputs": [],
   "source": [
    "# Load the lyrics into dataframes\n",
    "country_lyrics = pd.read_csv(r'raw_data/country_lyrics.csv')\n",
    "country_lyrics.rename(columns={'Unnamed: 0' : 'Title-Artist', '0' : 'Lyrics'}, inplace=True)\n",
    "\n",
    "hiphop_lyrics = pd.read_csv(r'raw_data/hiphop_lyrics.csv')\n",
    "hiphop_lyrics.rename(columns={'Unnamed: 0' : 'Title-Artist', '0' : 'Lyrics'}, inplace=True)\n",
    "\n",
    "pop_lyrics = pd.read_csv(r'raw_data/pop_lyrics.csv')\n",
    "pop_lyrics.rename(columns={'Unnamed: 0' : 'Title-Artist', '0' : 'Lyrics'}, inplace=True)\n",
    "\n",
    "rock_lyrics = pd.read_csv(r'raw_data/rock_lyrics.csv')\n",
    "rock_lyrics.rename(columns={'Unnamed: 0' : 'Title-Artist', '0' : 'Lyrics'}, inplace=True)"
   ]
  },
  {
   "cell_type": "code",
   "execution_count": 36,
   "metadata": {},
   "outputs": [],
   "source": [
    "# define the standard section headers and drop malformed lyrics\n",
    "section_headers = ['Intro','Verse','Refrain','Pre-Chorus','Pre Chorus','Chorus','Post-Chorus','Post Chorus','Hooks','Riffs/Basslines','Scratches','Sampling','Bridge','Interlude','Skit','Collision','Instrumental or Solo','Instrumental','Solo','Ad-lib','Ad lib','Segue','Outro']\n",
    "section_headers_str = '|'.join(section_headers)\n",
    "\n",
    "def drop_invalid_lyrics(df, inplace=False):\n",
    "    valid_rows = df[ df['Lyrics'].str.startswith('[') & df['Lyrics'].str[:20].str.contains(section_headers_str) ]\n",
    "\n",
    "    if inplace:\n",
    "        df = valid_rows\n",
    "    return valid_rows\n",
    "\n",
    "def clean_section_headers(lyrics):\n",
    "    lines = lyrics.splitlines()\n",
    "    cleaned_lines = []\n",
    "    for i in range(len(lines)):\n",
    "        line = lines[i]\n",
    "        if line.startswith('['):\n",
    "            if 'Pre-Chorus' in line or 'Pre Chorus' in line:\n",
    "                cleaned_lines.append('[Pre-Chorus]')\n",
    "            elif 'Post-Chorus' in line or 'Post Chorus' in line:\n",
    "                cleaned_lines.append('[Post-Chorus]')\n",
    "            elif 'Ad-lib' in line or 'Ad lib' in line:\n",
    "                cleaned_lines.append('[Ad-lib]')\n",
    "            elif 'Instrumental' in line:\n",
    "                cleaned_lines.append('[Instrumental]')\n",
    "            elif 'Solo' in line:\n",
    "                cleaned_lines.append('[Solo]')\n",
    "            elif any(header in line for header in section_headers):\n",
    "                header = line.split('[')[1].split(']')[0].split(':')[0].split(' ')[0]\n",
    "                cleaned_lines.append('[' + header + ']')\n",
    "            else: # this branch should never occur \n",
    "                cleaned_lines.append('')\n",
    "        else:\n",
    "            cleaned_lines.append(line)\n",
    "    return '\\n'.join(cleaned_lines)"
   ]
  },
  {
   "cell_type": "code",
   "execution_count": 37,
   "metadata": {},
   "outputs": [],
   "source": [
    "country_lyrics_cleaned = drop_invalid_lyrics(country_lyrics)\n",
    "country_lyrics_cleaned.to_csv(r'cleaned_lyrics/country_lyrics_cleaned.csv')\n",
    "country_lyrics_cleaned['Lyrics'] = country_lyrics_cleaned['Lyrics'].map(clean_section_headers)\n",
    "country_lyrics_cleaned.to_csv(r'cleaned_section_headers/country_lyrics_cleaned.csv')\n",
    "\n",
    "hiphop_lyrics_cleaned = drop_invalid_lyrics(hiphop_lyrics)\n",
    "hiphop_lyrics_cleaned.to_csv(r'cleaned_lyrics/hiphop_lyrics_cleaned.csv')\n",
    "hiphop_lyrics_cleaned['Lyrics'] = hiphop_lyrics_cleaned['Lyrics'].map(clean_section_headers)\n",
    "hiphop_lyrics_cleaned.to_csv(r'cleaned_section_headers/hiphop_lyrics_cleaned.csv')\n",
    "\n",
    "pop_lyrics_cleaned = drop_invalid_lyrics(pop_lyrics)\n",
    "pop_lyrics_cleaned.to_csv(r'cleaned_lyrics/pop_lyrics_cleaned.csv')\n",
    "pop_lyrics_cleaned['Lyrics'] = pop_lyrics_cleaned['Lyrics'].map(clean_section_headers)\n",
    "pop_lyrics_cleaned.to_csv(r'cleaned_section_headers/pop_lyrics_cleaned.csv')\n",
    "\n",
    "rock_lyrics_cleaned = drop_invalid_lyrics(rock_lyrics)\n",
    "rock_lyrics_cleaned.to_csv(r'cleaned_lyrics/rock_lyrics_cleaned.csv')\n",
    "rock_lyrics_cleaned['Lyrics'] = rock_lyrics_cleaned['Lyrics'].map(clean_section_headers)\n",
    "rock_lyrics_cleaned.to_csv(r'cleaned_section_headers/rock_lyrics_cleaned.csv')\n",
    ""
   ]
  },
  {
   "cell_type": "code",
   "execution_count": 38,
   "metadata": {},
   "outputs": [
    {
     "output_type": "stream",
     "name": "stdout",
     "text": "1184\n1704\n1338\n1601\n"
    }
   ],
   "source": [
    "print(len(country_lyrics))\n",
    "print(len(hiphop_lyrics))\n",
    "print(len(pop_lyrics))\n",
    "print(len(rock_lyrics))"
   ]
  },
  {
   "cell_type": "code",
   "execution_count": 39,
   "metadata": {},
   "outputs": [
    {
     "output_type": "stream",
     "name": "stdout",
     "text": "937\n1375\n1212\n1386\n"
    }
   ],
   "source": [
    "print(len(country_lyrics_cleaned))\n",
    "print(len(hiphop_lyrics_cleaned))\n",
    "print(len(pop_lyrics_cleaned))\n",
    "print(len(rock_lyrics_cleaned))"
   ]
  },
  {
   "cell_type": "code",
   "execution_count": null,
   "metadata": {},
   "outputs": [],
   "source": []
  }
 ],
 "metadata": {
  "kernelspec": {
   "display_name": "Python 3",
   "language": "python",
   "name": "python3"
  },
  "language_info": {
   "codemirror_mode": {
    "name": "ipython",
    "version": 3
   },
   "file_extension": ".py",
   "mimetype": "text/x-python",
   "name": "python",
   "nbconvert_exporter": "python",
   "pygments_lexer": "ipython3",
   "version": "3.7.4-final"
  }
 },
 "nbformat": 4,
 "nbformat_minor": 2
}