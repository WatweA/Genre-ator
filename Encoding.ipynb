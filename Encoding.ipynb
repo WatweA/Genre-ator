{
 "cells": [
  {
   "cell_type": "code",
   "execution_count": 1,
   "metadata": {},
   "outputs": [],
   "source": [
    "import pandas as pd\n",
    "import numpy as np\n",
    "from sklearn.utils import shuffle\n",
    "from sklearn.model_selection import train_test_split"
   ]
  },
  {
   "cell_type": "code",
   "execution_count": 2,
   "metadata": {},
   "outputs": [],
   "source": [
    "from datetime import datetime\n",
    "\n",
    "def log(message):\n",
    "    print(datetime.now().strftime(\"%H:%M:%S -\"), message)\n",
    "    \n",
    "def printnow():\n",
    "    now = datetime.now()\n",
    "    current_time = now.strftime(\"%H:%M:%S\")\n",
    "    print(\"Current Time =\", current_time)"
   ]
  },
  {
   "cell_type": "code",
   "execution_count": 3,
   "metadata": {},
   "outputs": [],
   "source": [
    "# Define constants for the dataset\n",
    "section_headers = ['Intro','Verse','Refrain','Pre-Chorus','Chorus','Post-Chorus','Hooks','Riffs/Basslines','Scratches','Sampling','Bridge','Interlude','Skit','Collision','Instrumental','Solo','Ad-lib','Segue','Outro']\n",
    "header_bigrams = ['|'.join([a,b]) for a in ['START'] + section_headers for b in section_headers + ['END']]\n",
    "\n",
    "# a function to extract header bigrams quickly from a given lyrics\n",
    "def lyrics_to_bigrams(lyrics):\n",
    "    headers = [word[1:-1] for word in lyrics.split() if word[0] == '[' and word[-1] == ']' and word[1:-1] in section_headers]\n",
    "    bigrams = ['|'.join(map(str, vals)) for vals in zip(headers[:-1], headers[1:])]\n",
    "    bigram_counts = {bigram:0 for bigram in header_bigrams}\n",
    "    for bigram in bigrams: bigram_counts[bigram] = bigram_counts[bigram] + 1\n",
    "    return bigram_counts"
   ]
  },
  {
   "cell_type": "markdown",
   "metadata": {},
   "source": [
    "### For Nonredundant Data, Create the Following Encodings:\n",
    "#### One-Hot\n",
    "#### TF-IDF with SVD\n",
    "#### Word2Vec with Google Embeddings"
   ]
  },
  {
   "cell_type": "code",
   "execution_count": 7,
   "metadata": {},
   "outputs": [
    {
     "output_type": "execute_result",
     "data": {
      "text/plain": "                              title-artist  \\\n0                   No HurryZac Brown Band   \n1     A Little More SummertimeJason Aldean   \n2                 Yeah BoyKelsea Ballerini   \n3           Wild In Your SmileDustin Lynch   \n4                 Real ThingZac Brown Band   \n...                                    ...   \n4916              Rolling In The DeepAdele   \n4917                  Simple SongThe Shins   \n4918              Still SwingingPapa Roach   \n4919        The Divine ZeroPierce The Veil   \n4920                        HallelujahHAIM   \n\n                                                 lyrics    genre  \n0     [START]\\n[Verse]\\nYou know my old car needs wa...  country  \n1     [START]\\n[Verse]\\nThey boarding up this water ...  country  \n2     [START]\\n[Verse]\\nCaptured my attention, make ...  country  \n3     [START]\\n[Verse]\\nHey girl what's up, looks li...  country  \n4     [START]\\n[Verse]\\nIt was in a crystal bottle o...  country  \n...                                                 ...      ...  \n4916  [START]\\n[Verse]\\nThere's a fire starting in m...     rock  \n4917  [START]\\n[Verse]\\nWell this is just a simple s...     rock  \n4918  [START]\\n[Intro]\\nYeah\\nThat's right\\nYeah yea...     rock  \n4919  [START]\\n[Verse]\\nMaybe I could swim into your...     rock  \n4920  [START]\\n[Verse]\\nI met two angels but they we...     rock  \n\n[4921 rows x 3 columns]",
      "text/html": "<div>\n<style scoped>\n    .dataframe tbody tr th:only-of-type {\n        vertical-align: middle;\n    }\n\n    .dataframe tbody tr th {\n        vertical-align: top;\n    }\n\n    .dataframe thead th {\n        text-align: right;\n    }\n</style>\n<table border=\"1\" class=\"dataframe\">\n  <thead>\n    <tr style=\"text-align: right;\">\n      <th></th>\n      <th>title-artist</th>\n      <th>lyrics</th>\n      <th>genre</th>\n    </tr>\n  </thead>\n  <tbody>\n    <tr>\n      <th>0</th>\n      <td>No HurryZac Brown Band</td>\n      <td>[START]\\n[Verse]\\nYou know my old car needs wa...</td>\n      <td>country</td>\n    </tr>\n    <tr>\n      <th>1</th>\n      <td>A Little More SummertimeJason Aldean</td>\n      <td>[START]\\n[Verse]\\nThey boarding up this water ...</td>\n      <td>country</td>\n    </tr>\n    <tr>\n      <th>2</th>\n      <td>Yeah BoyKelsea Ballerini</td>\n      <td>[START]\\n[Verse]\\nCaptured my attention, make ...</td>\n      <td>country</td>\n    </tr>\n    <tr>\n      <th>3</th>\n      <td>Wild In Your SmileDustin Lynch</td>\n      <td>[START]\\n[Verse]\\nHey girl what's up, looks li...</td>\n      <td>country</td>\n    </tr>\n    <tr>\n      <th>4</th>\n      <td>Real ThingZac Brown Band</td>\n      <td>[START]\\n[Verse]\\nIt was in a crystal bottle o...</td>\n      <td>country</td>\n    </tr>\n    <tr>\n      <th>...</th>\n      <td>...</td>\n      <td>...</td>\n      <td>...</td>\n    </tr>\n    <tr>\n      <th>4916</th>\n      <td>Rolling In The DeepAdele</td>\n      <td>[START]\\n[Verse]\\nThere's a fire starting in m...</td>\n      <td>rock</td>\n    </tr>\n    <tr>\n      <th>4917</th>\n      <td>Simple SongThe Shins</td>\n      <td>[START]\\n[Verse]\\nWell this is just a simple s...</td>\n      <td>rock</td>\n    </tr>\n    <tr>\n      <th>4918</th>\n      <td>Still SwingingPapa Roach</td>\n      <td>[START]\\n[Intro]\\nYeah\\nThat's right\\nYeah yea...</td>\n      <td>rock</td>\n    </tr>\n    <tr>\n      <th>4919</th>\n      <td>The Divine ZeroPierce The Veil</td>\n      <td>[START]\\n[Verse]\\nMaybe I could swim into your...</td>\n      <td>rock</td>\n    </tr>\n    <tr>\n      <th>4920</th>\n      <td>HallelujahHAIM</td>\n      <td>[START]\\n[Verse]\\nI met two angels but they we...</td>\n      <td>rock</td>\n    </tr>\n  </tbody>\n</table>\n<p>4921 rows × 3 columns</p>\n</div>"
     },
     "metadata": {},
     "execution_count": 7
    }
   ],
   "source": [
    "# Load nonredundant data\n",
    "country_df = pd.read_pickle(r'train_test_data/country_data.zip')\n",
    "country_df['genre'] = 'country'\n",
    "hiphop_df = pd.read_pickle(r'train_test_data/hiphop_data.zip')\n",
    "hiphop_df['genre'] = 'hiphop'\n",
    "pop_df = pd.read_pickle(r'train_test_data/pop_data.zip')\n",
    "pop_df['genre'] = 'pop'\n",
    "rock_df = pd.read_pickle(r'train_test_data/rock_data.zip')\n",
    "rock_df['genre'] = 'rock'\n",
    "\n",
    "full_df = pd.concat([country_df,hiphop_df, pop_df,rock_df])\n",
    "full_df.reset_index(inplace=True, drop=True)\n",
    "full_df"
   ]
  },
  {
   "cell_type": "code",
   "execution_count": 95,
   "metadata": {},
   "outputs": [],
   "source": [
    "# Split into training and testing and save as pickles\n",
    "train_df = pd.DataFrame()\n",
    "test_df = pd.DataFrame()\n",
    "lyrics_train, lyrics_test, genres_train, genres_test = train_test_split(full_df['lyrics'], full_df['genre'], test_size=0.2)\n",
    "lyrics_train.reset_index(inplace=True, drop=True)\n",
    "genres_train.reset_index(inplace=True, drop=True)\n",
    "lyrics_test.reset_index(inplace=True, drop=True)\n",
    "genres_test.reset_index(inplace=True, drop=True)\n",
    "assert len(lyrics_train) == len(genres_train)\n",
    "assert len(lyrics_test) == len(genres_test)\n",
    "train_df['lyrics'] = lyrics_train\n",
    "train_df['genre'] = genres_train\n",
    "test_df['lyrics'] = lyrics_test\n",
    "test_df['genre'] = genres_test\n",
    "train_df.to_pickle(r'train_test_data/train.zip')\n",
    "test_df.to_pickle(r'train_test_data/test.zip')"
   ]
  },
  {
   "cell_type": "code",
   "execution_count": 11,
   "metadata": {},
   "outputs": [],
   "source": [
    "train_df = pd.read_pickle(r'train_test_data/train.zip')\n",
    "test_df = pd.read_pickle(r'train_test_data/test.zip')\n",
    "lyrics_train = train_df['lyrics']\n",
    "lyrics_test = test_df['lyrics']\n",
    "genres_train = train_df['genre']\n",
    "genres_test = test_df['genre']"
   ]
  },
  {
   "cell_type": "code",
   "execution_count": 108,
   "metadata": {},
   "outputs": [
    {
     "output_type": "stream",
     "name": "stdout",
     "text": "14:31:49 - Creating vocabulary\n14:31:50 - Setting words with counts less than 3 to <UNK>\n14:31:50 - Done, vocab length: 14358\n\n"
    }
   ],
   "source": [
    "# Generate the vocabulary with training data\n",
    "log('Creating vocabulary')\n",
    "vocab_counts = {}\n",
    "for lyric in train_df['lyrics']:\n",
    "    for word in lyric.lower().split():\n",
    "        vocab_counts[word] = vocab_counts.get(word, 0) + 1\n",
    "# - set all words that appear fewer than 3 times as <UNK>\n",
    "log('Setting words with counts less than 3 to <UNK>')\n",
    "vocab_counts_unk = {}\n",
    "for word,count in vocab_counts.items():\n",
    "    if count < 3: vocab_counts_unk['<UNK>'] = vocab_counts_unk.get('<UNK>', 0) + count\n",
    "    else: vocab_counts_unk[word] = count\n",
    "log(f'Done, vocab length: {len(vocab_counts_unk)}\\n')\n",
    "\n",
    "# a function that tokenizes given lyrics using the vocabulary\n",
    "def lyrics_to_vocab(lyrics):\n",
    "    words = [word if word in vocab_counts_unk else '<UNK>' for word in lyrics.lower().split()]\n",
    "    return words\n",
    ""
   ]
  },
  {
   "cell_type": "code",
   "execution_count": 111,
   "metadata": {},
   "outputs": [],
   "source": [
    "# Create One-Hot encoding for nonredundant data\n",
    "def encode_onehot(lyrics):\n",
    "    bigram_counts = lyrics_to_bigrams(lyrics)\n",
    "    words = lyrics_to_vocab(lyrics)\n",
    "    onehot = [1 if vocab_word in words else 0 for vocab_word in vocab_counts_unk.keys()]\n",
    "    assert len(onehot) == len(vocab_counts_unk)\n",
    "    encoding = onehot + [count for count in bigram_counts.values()]\n",
    "    return encoding"
   ]
  },
  {
   "cell_type": "code",
   "execution_count": 112,
   "metadata": {
    "tags": [
     "outputPrepend",
     "outputPrepend",
     "outputPrepend",
     "outputPrepend",
     "outputPrepend",
     "outputPrepend",
     "outputPrepend",
     "outputPrepend",
     "outputPrepend",
     "outputPrepend",
     "outputPrepend"
    ]
   },
   "outputs": [
    {
     "output_type": "stream",
     "name": "stdout",
     "text": "14:32:49 - Encoding training data\n14:37:34 - Done\n\n14:37:34 - Encoding testing data\n14:38:45 - Done\n\n"
    }
   ],
   "source": [
    "# Encoding One-Hot training and testing data\n",
    "log('Encoding training data')\n",
    "onehotX_train = train_df['lyrics'].map(encode_onehot)\n",
    "onehotX_train.reset_index(inplace=True, drop=True)\n",
    "log('Done\\n')\n",
    "\n",
    "log('Encoding testing data')\n",
    "onehotX_test = test_df['lyrics'].map(encode_onehot)\n",
    "onehotX_test.reset_index(inplace=True, drop=True)\n",
    "log('Done\\n')"
   ]
  },
  {
   "cell_type": "code",
   "execution_count": 113,
   "metadata": {},
   "outputs": [
    {
     "output_type": "stream",
     "name": "stdout",
     "text": "14:38:45 - Loading training and testing data into dataframes\n14:39:17 - Done\n\n14:39:17 - Saving onehot encodings as pickles\n14:39:21 - Done\n\n"
    }
   ],
   "source": [
    "# Saving One-Hot training and testing data as a .zip pickle\n",
    "log('Loading training and testing data into dataframes')\n",
    "onehot_train = pd.DataFrame(onehotX_train.values.tolist(), index=onehotX_train.index)\n",
    "onehot_train['y'] = genres_train\n",
    "onehot_test = pd.DataFrame(onehotX_test.values.tolist(), index=onehotX_test.index)\n",
    "onehot_test['y'] = genres_train\n",
    "log('Done\\n')\n",
    "\n",
    "log('Saving onehot encodings as pickles')\n",
    "onehot_train.to_pickle('train_test_encoded/onehot_train.zip')\n",
    "onehot_test.to_pickle('train_test_encoded/onehot_test.zip')\n",
    "log('Done\\n')"
   ]
  },
  {
   "cell_type": "code",
   "execution_count": 123,
   "metadata": {},
   "outputs": [
    {
     "output_type": "execute_result",
     "data": {
      "text/plain": "      0  1  2  3  4  5  6  7  8  9  ...  14749  14750  14751  14752  14753  \\\n0     1  1  1  1  1  1  1  1  1  1  ...      0      0      0      0      0   \n1     1  0  0  0  1  0  1  0  1  1  ...      0      0      0      0      0   \n2     1  0  0  0  1  0  1  1  0  1  ...      0      0      0      0      0   \n3     1  1  0  1  1  0  0  1  0  1  ...      0      0      0      0      0   \n4     1  0  0  0  1  0  0  1  1  0  ...      0      0      0      0      0   \n...  .. .. .. .. .. .. .. .. .. ..  ...    ...    ...    ...    ...    ...   \n3931  1  0  0  0  1  0  1  1  1  0  ...      0      0      0      0      0   \n3932  1  1  1  0  1  0  1  1  1  1  ...      0      0      0      0      0   \n3933  1  0  0  0  1  0  0  1  1  1  ...      0      0      0      0      0   \n3934  1  1  0  0  1  0  0  0  0  1  ...      0      0      0      0      0   \n3935  1  0  0  0  0  0  0  0  0  1  ...      0      0      0      0      0   \n\n      14754  14755  14756  14757        y  \n0         0      0      0      0      pop  \n1         0      0      0      0   hiphop  \n2         0      0      0      0      pop  \n3         0      0      0      0   hiphop  \n4         0      0      0      0  country  \n...     ...    ...    ...    ...      ...  \n3931      0      0      0      0     rock  \n3932      0      0      0      0      pop  \n3933      0      0      0      0  country  \n3934      0      0      0      0   hiphop  \n3935      0      0      0      0     rock  \n\n[3936 rows x 14759 columns]",
      "text/html": "<div>\n<style scoped>\n    .dataframe tbody tr th:only-of-type {\n        vertical-align: middle;\n    }\n\n    .dataframe tbody tr th {\n        vertical-align: top;\n    }\n\n    .dataframe thead th {\n        text-align: right;\n    }\n</style>\n<table border=\"1\" class=\"dataframe\">\n  <thead>\n    <tr style=\"text-align: right;\">\n      <th></th>\n      <th>0</th>\n      <th>1</th>\n      <th>2</th>\n      <th>3</th>\n      <th>4</th>\n      <th>5</th>\n      <th>6</th>\n      <th>7</th>\n      <th>8</th>\n      <th>9</th>\n      <th>...</th>\n      <th>14749</th>\n      <th>14750</th>\n      <th>14751</th>\n      <th>14752</th>\n      <th>14753</th>\n      <th>14754</th>\n      <th>14755</th>\n      <th>14756</th>\n      <th>14757</th>\n      <th>y</th>\n    </tr>\n  </thead>\n  <tbody>\n    <tr>\n      <th>0</th>\n      <td>1</td>\n      <td>1</td>\n      <td>1</td>\n      <td>1</td>\n      <td>1</td>\n      <td>1</td>\n      <td>1</td>\n      <td>1</td>\n      <td>1</td>\n      <td>1</td>\n      <td>...</td>\n      <td>0</td>\n      <td>0</td>\n      <td>0</td>\n      <td>0</td>\n      <td>0</td>\n      <td>0</td>\n      <td>0</td>\n      <td>0</td>\n      <td>0</td>\n      <td>pop</td>\n    </tr>\n    <tr>\n      <th>1</th>\n      <td>1</td>\n      <td>0</td>\n      <td>0</td>\n      <td>0</td>\n      <td>1</td>\n      <td>0</td>\n      <td>1</td>\n      <td>0</td>\n      <td>1</td>\n      <td>1</td>\n      <td>...</td>\n      <td>0</td>\n      <td>0</td>\n      <td>0</td>\n      <td>0</td>\n      <td>0</td>\n      <td>0</td>\n      <td>0</td>\n      <td>0</td>\n      <td>0</td>\n      <td>hiphop</td>\n    </tr>\n    <tr>\n      <th>2</th>\n      <td>1</td>\n      <td>0</td>\n      <td>0</td>\n      <td>0</td>\n      <td>1</td>\n      <td>0</td>\n      <td>1</td>\n      <td>1</td>\n      <td>0</td>\n      <td>1</td>\n      <td>...</td>\n      <td>0</td>\n      <td>0</td>\n      <td>0</td>\n      <td>0</td>\n      <td>0</td>\n      <td>0</td>\n      <td>0</td>\n      <td>0</td>\n      <td>0</td>\n      <td>pop</td>\n    </tr>\n    <tr>\n      <th>3</th>\n      <td>1</td>\n      <td>1</td>\n      <td>0</td>\n      <td>1</td>\n      <td>1</td>\n      <td>0</td>\n      <td>0</td>\n      <td>1</td>\n      <td>0</td>\n      <td>1</td>\n      <td>...</td>\n      <td>0</td>\n      <td>0</td>\n      <td>0</td>\n      <td>0</td>\n      <td>0</td>\n      <td>0</td>\n      <td>0</td>\n      <td>0</td>\n      <td>0</td>\n      <td>hiphop</td>\n    </tr>\n    <tr>\n      <th>4</th>\n      <td>1</td>\n      <td>0</td>\n      <td>0</td>\n      <td>0</td>\n      <td>1</td>\n      <td>0</td>\n      <td>0</td>\n      <td>1</td>\n      <td>1</td>\n      <td>0</td>\n      <td>...</td>\n      <td>0</td>\n      <td>0</td>\n      <td>0</td>\n      <td>0</td>\n      <td>0</td>\n      <td>0</td>\n      <td>0</td>\n      <td>0</td>\n      <td>0</td>\n      <td>country</td>\n    </tr>\n    <tr>\n      <th>...</th>\n      <td>...</td>\n      <td>...</td>\n      <td>...</td>\n      <td>...</td>\n      <td>...</td>\n      <td>...</td>\n      <td>...</td>\n      <td>...</td>\n      <td>...</td>\n      <td>...</td>\n      <td>...</td>\n      <td>...</td>\n      <td>...</td>\n      <td>...</td>\n      <td>...</td>\n      <td>...</td>\n      <td>...</td>\n      <td>...</td>\n      <td>...</td>\n      <td>...</td>\n      <td>...</td>\n    </tr>\n    <tr>\n      <th>3931</th>\n      <td>1</td>\n      <td>0</td>\n      <td>0</td>\n      <td>0</td>\n      <td>1</td>\n      <td>0</td>\n      <td>1</td>\n      <td>1</td>\n      <td>1</td>\n      <td>0</td>\n      <td>...</td>\n      <td>0</td>\n      <td>0</td>\n      <td>0</td>\n      <td>0</td>\n      <td>0</td>\n      <td>0</td>\n      <td>0</td>\n      <td>0</td>\n      <td>0</td>\n      <td>rock</td>\n    </tr>\n    <tr>\n      <th>3932</th>\n      <td>1</td>\n      <td>1</td>\n      <td>1</td>\n      <td>0</td>\n      <td>1</td>\n      <td>0</td>\n      <td>1</td>\n      <td>1</td>\n      <td>1</td>\n      <td>1</td>\n      <td>...</td>\n      <td>0</td>\n      <td>0</td>\n      <td>0</td>\n      <td>0</td>\n      <td>0</td>\n      <td>0</td>\n      <td>0</td>\n      <td>0</td>\n      <td>0</td>\n      <td>pop</td>\n    </tr>\n    <tr>\n      <th>3933</th>\n      <td>1</td>\n      <td>0</td>\n      <td>0</td>\n      <td>0</td>\n      <td>1</td>\n      <td>0</td>\n      <td>0</td>\n      <td>1</td>\n      <td>1</td>\n      <td>1</td>\n      <td>...</td>\n      <td>0</td>\n      <td>0</td>\n      <td>0</td>\n      <td>0</td>\n      <td>0</td>\n      <td>0</td>\n      <td>0</td>\n      <td>0</td>\n      <td>0</td>\n      <td>country</td>\n    </tr>\n    <tr>\n      <th>3934</th>\n      <td>1</td>\n      <td>1</td>\n      <td>0</td>\n      <td>0</td>\n      <td>1</td>\n      <td>0</td>\n      <td>0</td>\n      <td>0</td>\n      <td>0</td>\n      <td>1</td>\n      <td>...</td>\n      <td>0</td>\n      <td>0</td>\n      <td>0</td>\n      <td>0</td>\n      <td>0</td>\n      <td>0</td>\n      <td>0</td>\n      <td>0</td>\n      <td>0</td>\n      <td>hiphop</td>\n    </tr>\n    <tr>\n      <th>3935</th>\n      <td>1</td>\n      <td>0</td>\n      <td>0</td>\n      <td>0</td>\n      <td>0</td>\n      <td>0</td>\n      <td>0</td>\n      <td>0</td>\n      <td>0</td>\n      <td>1</td>\n      <td>...</td>\n      <td>0</td>\n      <td>0</td>\n      <td>0</td>\n      <td>0</td>\n      <td>0</td>\n      <td>0</td>\n      <td>0</td>\n      <td>0</td>\n      <td>0</td>\n      <td>rock</td>\n    </tr>\n  </tbody>\n</table>\n<p>3936 rows × 14759 columns</p>\n</div>"
     },
     "metadata": {},
     "execution_count": 123
    }
   ],
   "source": [
    "pd.read_pickle('train_test_encoded/onehot_train.zip')"
   ]
  },
  {
   "cell_type": "code",
   "execution_count": 116,
   "metadata": {},
   "outputs": [],
   "source": [
    "# Create Raw Count encoding for nonredundant data\n",
    "def encode_rawcount(lyrics):\n",
    "    bigram_counts = lyrics_to_bigrams(lyrics)\n",
    "    words = lyrics_to_vocab(lyrics)\n",
    "    lyrics_counts = {}\n",
    "    for word in words:\n",
    "        lyrics_counts[word] = lyrics_counts.get(word, 0) + 1\n",
    "    rawcount = [lyrics_counts.get(vocab_word, lyrics_counts.get('<UNK>', 0)) for vocab_word in vocab_counts_unk.keys()]\n",
    "    assert len(rawcount) == len(vocab_counts_unk)\n",
    "    encoding = rawcount + [count for count in bigram_counts.values()]\n",
    "    return encoding"
   ]
  },
  {
   "cell_type": "code",
   "execution_count": 117,
   "metadata": {},
   "outputs": [
    {
     "output_type": "stream",
     "name": "stdout",
     "text": "14:42:05 - Encoding training data\n14:42:24 - Done\n\n14:42:24 - Encoding testing data\n14:42:28 - Done\n\n"
    }
   ],
   "source": [
    "# Encoding Raw Count training and testing data\n",
    "log('Encoding training data')\n",
    "rawcountX_train = train_df['lyrics'].map(encode_rawcount)\n",
    "rawcountX_train.reset_index(inplace=True, drop=True)\n",
    "log('Done\\n')\n",
    "\n",
    "log('Encoding testing data')\n",
    "rawcountX_test = test_df['lyrics'].map(encode_rawcount)\n",
    "rawcountX_test.reset_index(inplace=True, drop=True)\n",
    "log('Done\\n')"
   ]
  },
  {
   "cell_type": "code",
   "execution_count": 118,
   "metadata": {},
   "outputs": [
    {
     "output_type": "stream",
     "name": "stdout",
     "text": "14:43:19 - Loading training and testing data into dataframes\n14:43:42 - Done\n\n14:43:42 - Saving rawcount encodings as pickles\n14:43:51 - Done\n\n"
    }
   ],
   "source": [
    "# Saving Raw Count training and testing data as a .zip pickle\n",
    "log('Loading training and testing data into dataframes')\n",
    "rawcount_train = pd.DataFrame(rawcountX_train.values.tolist(), index=rawcountX_train.index)\n",
    "rawcount_train['y'] = genres_train\n",
    "rawcount_test = pd.DataFrame(rawcountX_test.values.tolist(), index=rawcountX_test.index)\n",
    "rawcount_test['y'] = genres_train\n",
    "log('Done\\n')\n",
    "\n",
    "log('Saving rawcount encodings as pickles')\n",
    "rawcount_train.to_pickle('train_test_encoded/rawcount_train.zip')\n",
    "rawcount_test.to_pickle('train_test_encoded/rawcount_test.zip')\n",
    "log('Done\\n')"
   ]
  },
  {
   "cell_type": "code",
   "execution_count": 124,
   "metadata": {},
   "outputs": [
    {
     "output_type": "execute_result",
     "data": {
      "text/plain": "      0  1   2   3   4   5   6   7   8   9  ...  14749  14750  14751  14752  \\\n0     1  1   5   4  14   4   8  11   4   4  ...      0      0      0      0   \n1     1  1   1   1  19   1   1   1   4   4  ...      0      0      0      0   \n2     1  3   3   3  31   3  22  10   3   1  ...      0      0      0      0   \n3     1  1  36   1   8  36  36  10  36   2  ...      0      0      0      0   \n4     1  7   7   7   1   7   7   3   3   7  ...      0      0      0      0   \n...  .. ..  ..  ..  ..  ..  ..  ..  ..  ..  ...    ...    ...    ...    ...   \n3931  1  3   3   3   7   3   3   1   2   3  ...      0      0      0      0   \n3932  1  1  11  43  20  43   4  18   1  15  ...      0      0      0      0   \n3933  1  0   0   0  13   0   0   4   8   2  ...      0      0      0      0   \n3934  1  1   4   4   9   4   4   4   4   2  ...      0      0      0      0   \n3935  1  3   3   3   3   3   3   3   3   2  ...      0      0      0      0   \n\n      14753  14754  14755  14756  14757        y  \n0         0      0      0      0      0      pop  \n1         0      0      0      0      0   hiphop  \n2         0      0      0      0      0      pop  \n3         0      0      0      0      0   hiphop  \n4         0      0      0      0      0  country  \n...     ...    ...    ...    ...    ...      ...  \n3931      0      0      0      0      0     rock  \n3932      0      0      0      0      0      pop  \n3933      0      0      0      0      0  country  \n3934      0      0      0      0      0   hiphop  \n3935      0      0      0      0      0     rock  \n\n[3936 rows x 14759 columns]",
      "text/html": "<div>\n<style scoped>\n    .dataframe tbody tr th:only-of-type {\n        vertical-align: middle;\n    }\n\n    .dataframe tbody tr th {\n        vertical-align: top;\n    }\n\n    .dataframe thead th {\n        text-align: right;\n    }\n</style>\n<table border=\"1\" class=\"dataframe\">\n  <thead>\n    <tr style=\"text-align: right;\">\n      <th></th>\n      <th>0</th>\n      <th>1</th>\n      <th>2</th>\n      <th>3</th>\n      <th>4</th>\n      <th>5</th>\n      <th>6</th>\n      <th>7</th>\n      <th>8</th>\n      <th>9</th>\n      <th>...</th>\n      <th>14749</th>\n      <th>14750</th>\n      <th>14751</th>\n      <th>14752</th>\n      <th>14753</th>\n      <th>14754</th>\n      <th>14755</th>\n      <th>14756</th>\n      <th>14757</th>\n      <th>y</th>\n    </tr>\n  </thead>\n  <tbody>\n    <tr>\n      <th>0</th>\n      <td>1</td>\n      <td>1</td>\n      <td>5</td>\n      <td>4</td>\n      <td>14</td>\n      <td>4</td>\n      <td>8</td>\n      <td>11</td>\n      <td>4</td>\n      <td>4</td>\n      <td>...</td>\n      <td>0</td>\n      <td>0</td>\n      <td>0</td>\n      <td>0</td>\n      <td>0</td>\n      <td>0</td>\n      <td>0</td>\n      <td>0</td>\n      <td>0</td>\n      <td>pop</td>\n    </tr>\n    <tr>\n      <th>1</th>\n      <td>1</td>\n      <td>1</td>\n      <td>1</td>\n      <td>1</td>\n      <td>19</td>\n      <td>1</td>\n      <td>1</td>\n      <td>1</td>\n      <td>4</td>\n      <td>4</td>\n      <td>...</td>\n      <td>0</td>\n      <td>0</td>\n      <td>0</td>\n      <td>0</td>\n      <td>0</td>\n      <td>0</td>\n      <td>0</td>\n      <td>0</td>\n      <td>0</td>\n      <td>hiphop</td>\n    </tr>\n    <tr>\n      <th>2</th>\n      <td>1</td>\n      <td>3</td>\n      <td>3</td>\n      <td>3</td>\n      <td>31</td>\n      <td>3</td>\n      <td>22</td>\n      <td>10</td>\n      <td>3</td>\n      <td>1</td>\n      <td>...</td>\n      <td>0</td>\n      <td>0</td>\n      <td>0</td>\n      <td>0</td>\n      <td>0</td>\n      <td>0</td>\n      <td>0</td>\n      <td>0</td>\n      <td>0</td>\n      <td>pop</td>\n    </tr>\n    <tr>\n      <th>3</th>\n      <td>1</td>\n      <td>1</td>\n      <td>36</td>\n      <td>1</td>\n      <td>8</td>\n      <td>36</td>\n      <td>36</td>\n      <td>10</td>\n      <td>36</td>\n      <td>2</td>\n      <td>...</td>\n      <td>0</td>\n      <td>0</td>\n      <td>0</td>\n      <td>0</td>\n      <td>0</td>\n      <td>0</td>\n      <td>0</td>\n      <td>0</td>\n      <td>0</td>\n      <td>hiphop</td>\n    </tr>\n    <tr>\n      <th>4</th>\n      <td>1</td>\n      <td>7</td>\n      <td>7</td>\n      <td>7</td>\n      <td>1</td>\n      <td>7</td>\n      <td>7</td>\n      <td>3</td>\n      <td>3</td>\n      <td>7</td>\n      <td>...</td>\n      <td>0</td>\n      <td>0</td>\n      <td>0</td>\n      <td>0</td>\n      <td>0</td>\n      <td>0</td>\n      <td>0</td>\n      <td>0</td>\n      <td>0</td>\n      <td>country</td>\n    </tr>\n    <tr>\n      <th>...</th>\n      <td>...</td>\n      <td>...</td>\n      <td>...</td>\n      <td>...</td>\n      <td>...</td>\n      <td>...</td>\n      <td>...</td>\n      <td>...</td>\n      <td>...</td>\n      <td>...</td>\n      <td>...</td>\n      <td>...</td>\n      <td>...</td>\n      <td>...</td>\n      <td>...</td>\n      <td>...</td>\n      <td>...</td>\n      <td>...</td>\n      <td>...</td>\n      <td>...</td>\n      <td>...</td>\n    </tr>\n    <tr>\n      <th>3931</th>\n      <td>1</td>\n      <td>3</td>\n      <td>3</td>\n      <td>3</td>\n      <td>7</td>\n      <td>3</td>\n      <td>3</td>\n      <td>1</td>\n      <td>2</td>\n      <td>3</td>\n      <td>...</td>\n      <td>0</td>\n      <td>0</td>\n      <td>0</td>\n      <td>0</td>\n      <td>0</td>\n      <td>0</td>\n      <td>0</td>\n      <td>0</td>\n      <td>0</td>\n      <td>rock</td>\n    </tr>\n    <tr>\n      <th>3932</th>\n      <td>1</td>\n      <td>1</td>\n      <td>11</td>\n      <td>43</td>\n      <td>20</td>\n      <td>43</td>\n      <td>4</td>\n      <td>18</td>\n      <td>1</td>\n      <td>15</td>\n      <td>...</td>\n      <td>0</td>\n      <td>0</td>\n      <td>0</td>\n      <td>0</td>\n      <td>0</td>\n      <td>0</td>\n      <td>0</td>\n      <td>0</td>\n      <td>0</td>\n      <td>pop</td>\n    </tr>\n    <tr>\n      <th>3933</th>\n      <td>1</td>\n      <td>0</td>\n      <td>0</td>\n      <td>0</td>\n      <td>13</td>\n      <td>0</td>\n      <td>0</td>\n      <td>4</td>\n      <td>8</td>\n      <td>2</td>\n      <td>...</td>\n      <td>0</td>\n      <td>0</td>\n      <td>0</td>\n      <td>0</td>\n      <td>0</td>\n      <td>0</td>\n      <td>0</td>\n      <td>0</td>\n      <td>0</td>\n      <td>country</td>\n    </tr>\n    <tr>\n      <th>3934</th>\n      <td>1</td>\n      <td>1</td>\n      <td>4</td>\n      <td>4</td>\n      <td>9</td>\n      <td>4</td>\n      <td>4</td>\n      <td>4</td>\n      <td>4</td>\n      <td>2</td>\n      <td>...</td>\n      <td>0</td>\n      <td>0</td>\n      <td>0</td>\n      <td>0</td>\n      <td>0</td>\n      <td>0</td>\n      <td>0</td>\n      <td>0</td>\n      <td>0</td>\n      <td>hiphop</td>\n    </tr>\n    <tr>\n      <th>3935</th>\n      <td>1</td>\n      <td>3</td>\n      <td>3</td>\n      <td>3</td>\n      <td>3</td>\n      <td>3</td>\n      <td>3</td>\n      <td>3</td>\n      <td>3</td>\n      <td>2</td>\n      <td>...</td>\n      <td>0</td>\n      <td>0</td>\n      <td>0</td>\n      <td>0</td>\n      <td>0</td>\n      <td>0</td>\n      <td>0</td>\n      <td>0</td>\n      <td>0</td>\n      <td>rock</td>\n    </tr>\n  </tbody>\n</table>\n<p>3936 rows × 14759 columns</p>\n</div>"
     },
     "metadata": {},
     "execution_count": 124
    }
   ],
   "source": [
    "pd.read_pickle('train_test_encoded/rawcount_train.zip')"
   ]
  },
  {
   "cell_type": "code",
   "execution_count": 63,
   "metadata": {},
   "outputs": [
    {
     "output_type": "stream",
     "name": "stdout",
     "text": "13:54:50 - Generating vord2vec model\n13:58:32 - Done\n\n"
    }
   ],
   "source": [
    "import gensim.models as gm\n",
    "log(\"Generating vord2vec model\")\n",
    "google_kv = gm.KeyedVectors.load_word2vec_format('GoogleNews-vectors-negative300.bin.gz', binary=True)\n",
    "log(\"Done\\n\")"
   ]
  },
  {
   "cell_type": "code",
   "execution_count": 119,
   "metadata": {},
   "outputs": [],
   "source": [
    "# Create Word2Vec encoding for nonredundant data\n",
    "def encode_word2vec(lyrics):\n",
    "    def sent_vector(sentence):\n",
    "        vectors = []\n",
    "        for word in sentence:\n",
    "            try: vectors.append(google_kv.get_vector(word))\n",
    "            except KeyError: vectors.append([0] * 300)\n",
    "        vectors_ave = np.mean(vectors, axis=0)\n",
    "        return vectors_ave\n",
    "    \n",
    "    bigram_counts = lyrics_to_bigrams(lyrics)\n",
    "    word2vec = sent_vector(lyrics.lower().split())\n",
    "    assert len(word2vec) == 300\n",
    "    encoding = list(word2vec) + [count for count in bigram_counts.values()]\n",
    "    return encoding"
   ]
  },
  {
   "cell_type": "code",
   "execution_count": 120,
   "metadata": {
    "tags": [
     "outputPrepend",
     "outputPrepend",
     "outputPrepend",
     "outputPrepend",
     "outputPrepend",
     "outputPrepend",
     "outputPrepend",
     "outputPrepend",
     "outputPrepend",
     "outputPrepend",
     "outputPrepend",
     "outputPrepend",
     "outputPrepend",
     "outputPrepend",
     "outputPrepend",
     "outputPrepend"
    ]
   },
   "outputs": [
    {
     "output_type": "stream",
     "name": "stdout",
     "text": "14:43:55 - Encoding training data\n14:44:12 - Done\n\n14:44:12 - Encoding testing data\n14:44:16 - Done\n\n"
    }
   ],
   "source": [
    "# pickle the encodings in .zip files to save space\n",
    "log('Encoding training data')\n",
    "word2vecX_train = lyrics_train.map(encode_word2vec)\n",
    "word2vecX_train.reset_index(inplace=True, drop=True)\n",
    "log('Done\\n')\n",
    "\n",
    "log('Encoding testing data')\n",
    "word2vecX_test = lyrics_test.map(encode_word2vec)\n",
    "word2vecX_test.reset_index(inplace=True, drop=True)\n",
    "log('Done\\n')"
   ]
  },
  {
   "cell_type": "code",
   "execution_count": 121,
   "metadata": {},
   "outputs": [
    {
     "output_type": "stream",
     "name": "stdout",
     "text": "14:44:16 - Loading training and testing data into dataframes\n14:44:17 - Done\n\n14:44:17 - Saving onehot encodings as pickles\n14:44:18 - Done\n\n"
    }
   ],
   "source": [
    "log('Loading training and testing data into dataframes')\n",
    "word2vec_train = pd.DataFrame(word2vecX_train.values.tolist(), index=word2vecX_train.index)\n",
    "word2vec_train['y'] = genres_train\n",
    "word2vec_test = pd.DataFrame(word2vecX_test.values.tolist(), index=word2vecX_test.index)\n",
    "word2vec_test['y'] = genres_test\n",
    "log('Done\\n')\n",
    "\n",
    "log('Saving onehot encodings as pickles')\n",
    "word2vec_train.to_pickle('train_test_encoded/word2vec_train.zip')\n",
    "word2vec_test.to_pickle('train_test_encoded/word2vec_test.zip')\n",
    "log('Done\\n')"
   ]
  },
  {
   "cell_type": "code",
   "execution_count": 122,
   "metadata": {},
   "outputs": [
    {
     "output_type": "execute_result",
     "data": {
      "text/plain": "             0         1         2         3         4         5         6  \\\n0     0.043266  0.000405  0.039034  0.091339 -0.043811  0.006128  0.048711   \n1     0.063111  0.024554  0.043612  0.100200 -0.061247 -0.015591  0.042263   \n2     0.014981  0.002022  0.061864  0.132557 -0.050852  0.012515  0.042124   \n3     0.034050  0.017641  0.026798  0.096935 -0.052599 -0.015467  0.017258   \n4    -0.006355  0.017172  0.025928  0.084886 -0.019035 -0.032178  0.007823   \n...        ...       ...       ...       ...       ...       ...       ...   \n3931  0.032377  0.020014  0.041138  0.107918 -0.060333 -0.014298  0.028753   \n3932  0.051308  0.003736  0.029400  0.110860 -0.055710  0.000451  0.011525   \n3933  0.046522  0.009164  0.052938  0.113449 -0.039134 -0.010338  0.018407   \n3934  0.065731  0.029908  0.011826  0.119596 -0.014202 -0.027390  0.015258   \n3935  0.055578  0.043794  0.063503  0.054812 -0.050435 -0.029199  0.049527   \n\n             7         8         9  ...  691  692  693  694  695  696  697  \\\n0    -0.045578  0.028493  0.058403  ...    0    0    0    0    0    0    0   \n1    -0.079348  0.033227  0.063542  ...    0    0    0    0    0    0    0   \n2    -0.070243  0.032086  0.041842  ...    0    0    0    0    0    0    0   \n3    -0.054707  0.022486  0.067634  ...    0    0    0    0    0    0    0   \n4    -0.079723  0.036854  0.059281  ...    0    0    0    0    0    0    0   \n...        ...       ...       ...  ...  ...  ...  ...  ...  ...  ...  ...   \n3931 -0.065094  0.038230  0.062111  ...    0    0    0    0    0    0    0   \n3932 -0.055293  0.026736  0.061777  ...    0    0    0    0    0    0    0   \n3933 -0.070982  0.030533  0.079900  ...    0    0    0    0    0    0    0   \n3934 -0.086349  0.006270  0.094559  ...    0    0    0    0    0    0    0   \n3935 -0.090858  0.036385  0.083357  ...    0    0    0    0    0    0    0   \n\n      698  699        y  \n0       0    0      pop  \n1       0    0   hiphop  \n2       0    0      pop  \n3       0    0   hiphop  \n4       0    0  country  \n...   ...  ...      ...  \n3931    0    0     rock  \n3932    0    0      pop  \n3933    0    0  country  \n3934    0    0   hiphop  \n3935    0    0     rock  \n\n[3936 rows x 701 columns]",
      "text/html": "<div>\n<style scoped>\n    .dataframe tbody tr th:only-of-type {\n        vertical-align: middle;\n    }\n\n    .dataframe tbody tr th {\n        vertical-align: top;\n    }\n\n    .dataframe thead th {\n        text-align: right;\n    }\n</style>\n<table border=\"1\" class=\"dataframe\">\n  <thead>\n    <tr style=\"text-align: right;\">\n      <th></th>\n      <th>0</th>\n      <th>1</th>\n      <th>2</th>\n      <th>3</th>\n      <th>4</th>\n      <th>5</th>\n      <th>6</th>\n      <th>7</th>\n      <th>8</th>\n      <th>9</th>\n      <th>...</th>\n      <th>691</th>\n      <th>692</th>\n      <th>693</th>\n      <th>694</th>\n      <th>695</th>\n      <th>696</th>\n      <th>697</th>\n      <th>698</th>\n      <th>699</th>\n      <th>y</th>\n    </tr>\n  </thead>\n  <tbody>\n    <tr>\n      <th>0</th>\n      <td>0.043266</td>\n      <td>0.000405</td>\n      <td>0.039034</td>\n      <td>0.091339</td>\n      <td>-0.043811</td>\n      <td>0.006128</td>\n      <td>0.048711</td>\n      <td>-0.045578</td>\n      <td>0.028493</td>\n      <td>0.058403</td>\n      <td>...</td>\n      <td>0</td>\n      <td>0</td>\n      <td>0</td>\n      <td>0</td>\n      <td>0</td>\n      <td>0</td>\n      <td>0</td>\n      <td>0</td>\n      <td>0</td>\n      <td>pop</td>\n    </tr>\n    <tr>\n      <th>1</th>\n      <td>0.063111</td>\n      <td>0.024554</td>\n      <td>0.043612</td>\n      <td>0.100200</td>\n      <td>-0.061247</td>\n      <td>-0.015591</td>\n      <td>0.042263</td>\n      <td>-0.079348</td>\n      <td>0.033227</td>\n      <td>0.063542</td>\n      <td>...</td>\n      <td>0</td>\n      <td>0</td>\n      <td>0</td>\n      <td>0</td>\n      <td>0</td>\n      <td>0</td>\n      <td>0</td>\n      <td>0</td>\n      <td>0</td>\n      <td>hiphop</td>\n    </tr>\n    <tr>\n      <th>2</th>\n      <td>0.014981</td>\n      <td>0.002022</td>\n      <td>0.061864</td>\n      <td>0.132557</td>\n      <td>-0.050852</td>\n      <td>0.012515</td>\n      <td>0.042124</td>\n      <td>-0.070243</td>\n      <td>0.032086</td>\n      <td>0.041842</td>\n      <td>...</td>\n      <td>0</td>\n      <td>0</td>\n      <td>0</td>\n      <td>0</td>\n      <td>0</td>\n      <td>0</td>\n      <td>0</td>\n      <td>0</td>\n      <td>0</td>\n      <td>pop</td>\n    </tr>\n    <tr>\n      <th>3</th>\n      <td>0.034050</td>\n      <td>0.017641</td>\n      <td>0.026798</td>\n      <td>0.096935</td>\n      <td>-0.052599</td>\n      <td>-0.015467</td>\n      <td>0.017258</td>\n      <td>-0.054707</td>\n      <td>0.022486</td>\n      <td>0.067634</td>\n      <td>...</td>\n      <td>0</td>\n      <td>0</td>\n      <td>0</td>\n      <td>0</td>\n      <td>0</td>\n      <td>0</td>\n      <td>0</td>\n      <td>0</td>\n      <td>0</td>\n      <td>hiphop</td>\n    </tr>\n    <tr>\n      <th>4</th>\n      <td>-0.006355</td>\n      <td>0.017172</td>\n      <td>0.025928</td>\n      <td>0.084886</td>\n      <td>-0.019035</td>\n      <td>-0.032178</td>\n      <td>0.007823</td>\n      <td>-0.079723</td>\n      <td>0.036854</td>\n      <td>0.059281</td>\n      <td>...</td>\n      <td>0</td>\n      <td>0</td>\n      <td>0</td>\n      <td>0</td>\n      <td>0</td>\n      <td>0</td>\n      <td>0</td>\n      <td>0</td>\n      <td>0</td>\n      <td>country</td>\n    </tr>\n    <tr>\n      <th>...</th>\n      <td>...</td>\n      <td>...</td>\n      <td>...</td>\n      <td>...</td>\n      <td>...</td>\n      <td>...</td>\n      <td>...</td>\n      <td>...</td>\n      <td>...</td>\n      <td>...</td>\n      <td>...</td>\n      <td>...</td>\n      <td>...</td>\n      <td>...</td>\n      <td>...</td>\n      <td>...</td>\n      <td>...</td>\n      <td>...</td>\n      <td>...</td>\n      <td>...</td>\n      <td>...</td>\n    </tr>\n    <tr>\n      <th>3931</th>\n      <td>0.032377</td>\n      <td>0.020014</td>\n      <td>0.041138</td>\n      <td>0.107918</td>\n      <td>-0.060333</td>\n      <td>-0.014298</td>\n      <td>0.028753</td>\n      <td>-0.065094</td>\n      <td>0.038230</td>\n      <td>0.062111</td>\n      <td>...</td>\n      <td>0</td>\n      <td>0</td>\n      <td>0</td>\n      <td>0</td>\n      <td>0</td>\n      <td>0</td>\n      <td>0</td>\n      <td>0</td>\n      <td>0</td>\n      <td>rock</td>\n    </tr>\n    <tr>\n      <th>3932</th>\n      <td>0.051308</td>\n      <td>0.003736</td>\n      <td>0.029400</td>\n      <td>0.110860</td>\n      <td>-0.055710</td>\n      <td>0.000451</td>\n      <td>0.011525</td>\n      <td>-0.055293</td>\n      <td>0.026736</td>\n      <td>0.061777</td>\n      <td>...</td>\n      <td>0</td>\n      <td>0</td>\n      <td>0</td>\n      <td>0</td>\n      <td>0</td>\n      <td>0</td>\n      <td>0</td>\n      <td>0</td>\n      <td>0</td>\n      <td>pop</td>\n    </tr>\n    <tr>\n      <th>3933</th>\n      <td>0.046522</td>\n      <td>0.009164</td>\n      <td>0.052938</td>\n      <td>0.113449</td>\n      <td>-0.039134</td>\n      <td>-0.010338</td>\n      <td>0.018407</td>\n      <td>-0.070982</td>\n      <td>0.030533</td>\n      <td>0.079900</td>\n      <td>...</td>\n      <td>0</td>\n      <td>0</td>\n      <td>0</td>\n      <td>0</td>\n      <td>0</td>\n      <td>0</td>\n      <td>0</td>\n      <td>0</td>\n      <td>0</td>\n      <td>country</td>\n    </tr>\n    <tr>\n      <th>3934</th>\n      <td>0.065731</td>\n      <td>0.029908</td>\n      <td>0.011826</td>\n      <td>0.119596</td>\n      <td>-0.014202</td>\n      <td>-0.027390</td>\n      <td>0.015258</td>\n      <td>-0.086349</td>\n      <td>0.006270</td>\n      <td>0.094559</td>\n      <td>...</td>\n      <td>0</td>\n      <td>0</td>\n      <td>0</td>\n      <td>0</td>\n      <td>0</td>\n      <td>0</td>\n      <td>0</td>\n      <td>0</td>\n      <td>0</td>\n      <td>hiphop</td>\n    </tr>\n    <tr>\n      <th>3935</th>\n      <td>0.055578</td>\n      <td>0.043794</td>\n      <td>0.063503</td>\n      <td>0.054812</td>\n      <td>-0.050435</td>\n      <td>-0.029199</td>\n      <td>0.049527</td>\n      <td>-0.090858</td>\n      <td>0.036385</td>\n      <td>0.083357</td>\n      <td>...</td>\n      <td>0</td>\n      <td>0</td>\n      <td>0</td>\n      <td>0</td>\n      <td>0</td>\n      <td>0</td>\n      <td>0</td>\n      <td>0</td>\n      <td>0</td>\n      <td>rock</td>\n    </tr>\n  </tbody>\n</table>\n<p>3936 rows × 701 columns</p>\n</div>"
     },
     "metadata": {},
     "execution_count": 122
    }
   ],
   "source": [
    "pd.read_pickle('train_test_encoded/word2vec_train.zip')"
   ]
  },
  {
   "cell_type": "code",
   "execution_count": 152,
   "metadata": {},
   "outputs": [
    {
     "output_type": "stream",
     "name": "stdout",
     "text": "15:15:26 - Training TF-IDF Vectorizer on all 4921 lyrics\n15:15:29 - Fitting SVD on all lyrics\n15:15:37 - Done\n\n"
    }
   ],
   "source": [
    "from sklearn.feature_extraction.text import TfidfVectorizer\n",
    "from sklearn.decomposition import TruncatedSVD\n",
    "\n",
    "# Combine lyrics into one list to be input for tf-idf vectorizer\n",
    "full_lyrics = [lyrics.lower() for lyrics in full_df['lyrics']]\n",
    "log(f'Training TF-IDF Vectorizer on all {len(full_lyrics)} lyrics')\n",
    "tfidf_vectorizer = TfidfVectorizer().fit(full_lyrics)\n",
    "tfidf_data = tfidf_vectorizer.transform(full_lyrics)\n",
    "log('Fitting SVD on all lyrics')\n",
    "svd = TruncatedSVD(n_components=500).fit(tfidf_data)\n",
    "log('Done\\n')"
   ]
  },
  {
   "cell_type": "code",
   "execution_count": 158,
   "metadata": {},
   "outputs": [],
   "source": [
    "# Create TFIDF encoding for nonredundant data\n",
    "def encode_tfidf_svd(lyrics):\n",
    "    bigram_counts = lyrics_to_bigrams(lyrics)\n",
    "    tfidf_vector = tfidf_vectorizer.transform([lyrics])\n",
    "    svd_vector = svd.transform(tfidf_vector)[0]\n",
    "    assert len(svd_vector) == 500\n",
    "    encoding = list(svd_vector) + [count for count in bigram_counts.values()]\n",
    "    return encoding"
   ]
  },
  {
   "cell_type": "code",
   "execution_count": 160,
   "metadata": {
    "tags": [
     "outputPrepend",
     "outputPrepend",
     "outputPrepend",
     "outputPrepend",
     "outputPrepend",
     "outputPrepend",
     "outputPrepend",
     "outputPrepend",
     "outputPrepend",
     "outputPrepend",
     "outputPrepend",
     "outputPrepend",
     "outputPrepend",
     "outputPrepend",
     "outputPrepend",
     "outputPrepend",
     "outputPrepend",
     "outputPrepend",
     "outputPrepend"
    ]
   },
   "outputs": [
    {
     "output_type": "stream",
     "name": "stdout",
     "text": "15:20:11 - Encoding training data\n15:23:55 - Done\n\n15:23:55 - Encoding testing data\n15:24:53 - Done\n\n"
    }
   ],
   "source": [
    "# pickle the encodings in .zip files to save space\n",
    "log('Encoding training data')\n",
    "tfidfX_train = lyrics_train.map(encode_tfidf_svd)\n",
    "tfidfX_train.reset_index(inplace=True, drop=True)\n",
    "log('Done\\n')\n",
    "\n",
    "log('Encoding testing data')\n",
    "tfidfX_test = lyrics_test.map(encode_tfidf_svd)\n",
    "tfidfX_test.reset_index(inplace=True, drop=True)\n",
    "log('Done\\n')"
   ]
  },
  {
   "cell_type": "code",
   "execution_count": 161,
   "metadata": {},
   "outputs": [
    {
     "output_type": "stream",
     "name": "stdout",
     "text": "15:24:53 - Loading training and testing data into dataframes\n15:24:54 - Done\n\n15:24:54 - Saving onehot encodings as pickles\n15:24:55 - Done\n\n"
    }
   ],
   "source": [
    "log('Loading training and testing data into dataframes')\n",
    "tfidf_train = pd.DataFrame(tfidfX_train.values.tolist(), index=tfidfX_train.index)\n",
    "tfidf_train['y'] = genres_train\n",
    "tfidf_test = pd.DataFrame(tfidfX_test.values.tolist(), index=tfidfX_test.index)\n",
    "tfidf_test['y'] = genres_test\n",
    "log('Done\\n')\n",
    "\n",
    "log('Saving onehot encodings as pickles')\n",
    "tfidf_train.to_pickle('train_test_encoded/tfidf_train.zip')\n",
    "tfidf_test.to_pickle('train_test_encoded/tfidf_test.zip')\n",
    "log('Done\\n')"
   ]
  },
  {
   "cell_type": "code",
   "execution_count": 162,
   "metadata": {},
   "outputs": [
    {
     "output_type": "execute_result",
     "data": {
      "text/plain": "             0         1         2         3         4         5         6  \\\n0     0.383487 -0.000157  0.111061  0.036923  0.093074  0.024800  0.121577   \n1     0.458451  0.094264 -0.020039  0.032636  0.131480  0.256676  0.120940   \n2     0.305338  0.203174  0.172656 -0.039756 -0.036502 -0.019353 -0.037714   \n3     0.396890 -0.020145 -0.104981  0.007337  0.001328 -0.016435  0.010096   \n4     0.153078  0.003226 -0.081552  0.005649 -0.000248  0.050439 -0.015349   \n...        ...       ...       ...       ...       ...       ...       ...   \n3931  0.351787 -0.049385 -0.059190 -0.005184 -0.018368 -0.008119 -0.010358   \n3932  0.374776 -0.009993 -0.004814  0.011731 -0.002231  0.084878 -0.014148   \n3933  0.297178 -0.025890 -0.002132 -0.013385 -0.009894  0.033824 -0.029264   \n3934  0.165281  0.018196 -0.031456  0.014466  0.019947  0.048514  0.001224   \n3935  0.282325  0.025743 -0.268654 -0.010447 -0.020913 -0.006355 -0.023133   \n\n             7         8         9  ...  891  892  893  894  895  896  897  \\\n0     0.141905 -0.130408 -0.076053  ...    0    0    0    0    0    0    0   \n1     0.000969  0.295753  0.028793  ...    0    0    0    0    0    0    0   \n2    -0.006561  0.020564  0.022470  ...    0    0    0    0    0    0    0   \n3     0.040158 -0.006629 -0.082973  ...    0    0    0    0    0    0    0   \n4    -0.023108 -0.011885 -0.053865  ...    0    0    0    0    0    0    0   \n...        ...       ...       ...  ...  ...  ...  ...  ...  ...  ...  ...   \n3931 -0.026639 -0.025164 -0.095865  ...    0    0    0    0    0    0    0   \n3932  0.085929 -0.051916 -0.006933  ...    0    0    0    0    0    0    0   \n3933 -0.072205 -0.012764  0.017885  ...    0    0    0    0    0    0    0   \n3934  0.042415 -0.002664 -0.158949  ...    0    0    0    0    0    0    0   \n3935 -0.218863 -0.000642 -0.089526  ...    0    0    0    0    0    0    0   \n\n      898  899        y  \n0       0    0      pop  \n1       0    0   hiphop  \n2       0    0      pop  \n3       0    0   hiphop  \n4       0    0  country  \n...   ...  ...      ...  \n3931    0    0     rock  \n3932    0    0      pop  \n3933    0    0  country  \n3934    0    0   hiphop  \n3935    0    0     rock  \n\n[3936 rows x 901 columns]",
      "text/html": "<div>\n<style scoped>\n    .dataframe tbody tr th:only-of-type {\n        vertical-align: middle;\n    }\n\n    .dataframe tbody tr th {\n        vertical-align: top;\n    }\n\n    .dataframe thead th {\n        text-align: right;\n    }\n</style>\n<table border=\"1\" class=\"dataframe\">\n  <thead>\n    <tr style=\"text-align: right;\">\n      <th></th>\n      <th>0</th>\n      <th>1</th>\n      <th>2</th>\n      <th>3</th>\n      <th>4</th>\n      <th>5</th>\n      <th>6</th>\n      <th>7</th>\n      <th>8</th>\n      <th>9</th>\n      <th>...</th>\n      <th>891</th>\n      <th>892</th>\n      <th>893</th>\n      <th>894</th>\n      <th>895</th>\n      <th>896</th>\n      <th>897</th>\n      <th>898</th>\n      <th>899</th>\n      <th>y</th>\n    </tr>\n  </thead>\n  <tbody>\n    <tr>\n      <th>0</th>\n      <td>0.383487</td>\n      <td>-0.000157</td>\n      <td>0.111061</td>\n      <td>0.036923</td>\n      <td>0.093074</td>\n      <td>0.024800</td>\n      <td>0.121577</td>\n      <td>0.141905</td>\n      <td>-0.130408</td>\n      <td>-0.076053</td>\n      <td>...</td>\n      <td>0</td>\n      <td>0</td>\n      <td>0</td>\n      <td>0</td>\n      <td>0</td>\n      <td>0</td>\n      <td>0</td>\n      <td>0</td>\n      <td>0</td>\n      <td>pop</td>\n    </tr>\n    <tr>\n      <th>1</th>\n      <td>0.458451</td>\n      <td>0.094264</td>\n      <td>-0.020039</td>\n      <td>0.032636</td>\n      <td>0.131480</td>\n      <td>0.256676</td>\n      <td>0.120940</td>\n      <td>0.000969</td>\n      <td>0.295753</td>\n      <td>0.028793</td>\n      <td>...</td>\n      <td>0</td>\n      <td>0</td>\n      <td>0</td>\n      <td>0</td>\n      <td>0</td>\n      <td>0</td>\n      <td>0</td>\n      <td>0</td>\n      <td>0</td>\n      <td>hiphop</td>\n    </tr>\n    <tr>\n      <th>2</th>\n      <td>0.305338</td>\n      <td>0.203174</td>\n      <td>0.172656</td>\n      <td>-0.039756</td>\n      <td>-0.036502</td>\n      <td>-0.019353</td>\n      <td>-0.037714</td>\n      <td>-0.006561</td>\n      <td>0.020564</td>\n      <td>0.022470</td>\n      <td>...</td>\n      <td>0</td>\n      <td>0</td>\n      <td>0</td>\n      <td>0</td>\n      <td>0</td>\n      <td>0</td>\n      <td>0</td>\n      <td>0</td>\n      <td>0</td>\n      <td>pop</td>\n    </tr>\n    <tr>\n      <th>3</th>\n      <td>0.396890</td>\n      <td>-0.020145</td>\n      <td>-0.104981</td>\n      <td>0.007337</td>\n      <td>0.001328</td>\n      <td>-0.016435</td>\n      <td>0.010096</td>\n      <td>0.040158</td>\n      <td>-0.006629</td>\n      <td>-0.082973</td>\n      <td>...</td>\n      <td>0</td>\n      <td>0</td>\n      <td>0</td>\n      <td>0</td>\n      <td>0</td>\n      <td>0</td>\n      <td>0</td>\n      <td>0</td>\n      <td>0</td>\n      <td>hiphop</td>\n    </tr>\n    <tr>\n      <th>4</th>\n      <td>0.153078</td>\n      <td>0.003226</td>\n      <td>-0.081552</td>\n      <td>0.005649</td>\n      <td>-0.000248</td>\n      <td>0.050439</td>\n      <td>-0.015349</td>\n      <td>-0.023108</td>\n      <td>-0.011885</td>\n      <td>-0.053865</td>\n      <td>...</td>\n      <td>0</td>\n      <td>0</td>\n      <td>0</td>\n      <td>0</td>\n      <td>0</td>\n      <td>0</td>\n      <td>0</td>\n      <td>0</td>\n      <td>0</td>\n      <td>country</td>\n    </tr>\n    <tr>\n      <th>...</th>\n      <td>...</td>\n      <td>...</td>\n      <td>...</td>\n      <td>...</td>\n      <td>...</td>\n      <td>...</td>\n      <td>...</td>\n      <td>...</td>\n      <td>...</td>\n      <td>...</td>\n      <td>...</td>\n      <td>...</td>\n      <td>...</td>\n      <td>...</td>\n      <td>...</td>\n      <td>...</td>\n      <td>...</td>\n      <td>...</td>\n      <td>...</td>\n      <td>...</td>\n      <td>...</td>\n    </tr>\n    <tr>\n      <th>3931</th>\n      <td>0.351787</td>\n      <td>-0.049385</td>\n      <td>-0.059190</td>\n      <td>-0.005184</td>\n      <td>-0.018368</td>\n      <td>-0.008119</td>\n      <td>-0.010358</td>\n      <td>-0.026639</td>\n      <td>-0.025164</td>\n      <td>-0.095865</td>\n      <td>...</td>\n      <td>0</td>\n      <td>0</td>\n      <td>0</td>\n      <td>0</td>\n      <td>0</td>\n      <td>0</td>\n      <td>0</td>\n      <td>0</td>\n      <td>0</td>\n      <td>rock</td>\n    </tr>\n    <tr>\n      <th>3932</th>\n      <td>0.374776</td>\n      <td>-0.009993</td>\n      <td>-0.004814</td>\n      <td>0.011731</td>\n      <td>-0.002231</td>\n      <td>0.084878</td>\n      <td>-0.014148</td>\n      <td>0.085929</td>\n      <td>-0.051916</td>\n      <td>-0.006933</td>\n      <td>...</td>\n      <td>0</td>\n      <td>0</td>\n      <td>0</td>\n      <td>0</td>\n      <td>0</td>\n      <td>0</td>\n      <td>0</td>\n      <td>0</td>\n      <td>0</td>\n      <td>pop</td>\n    </tr>\n    <tr>\n      <th>3933</th>\n      <td>0.297178</td>\n      <td>-0.025890</td>\n      <td>-0.002132</td>\n      <td>-0.013385</td>\n      <td>-0.009894</td>\n      <td>0.033824</td>\n      <td>-0.029264</td>\n      <td>-0.072205</td>\n      <td>-0.012764</td>\n      <td>0.017885</td>\n      <td>...</td>\n      <td>0</td>\n      <td>0</td>\n      <td>0</td>\n      <td>0</td>\n      <td>0</td>\n      <td>0</td>\n      <td>0</td>\n      <td>0</td>\n      <td>0</td>\n      <td>country</td>\n    </tr>\n    <tr>\n      <th>3934</th>\n      <td>0.165281</td>\n      <td>0.018196</td>\n      <td>-0.031456</td>\n      <td>0.014466</td>\n      <td>0.019947</td>\n      <td>0.048514</td>\n      <td>0.001224</td>\n      <td>0.042415</td>\n      <td>-0.002664</td>\n      <td>-0.158949</td>\n      <td>...</td>\n      <td>0</td>\n      <td>0</td>\n      <td>0</td>\n      <td>0</td>\n      <td>0</td>\n      <td>0</td>\n      <td>0</td>\n      <td>0</td>\n      <td>0</td>\n      <td>hiphop</td>\n    </tr>\n    <tr>\n      <th>3935</th>\n      <td>0.282325</td>\n      <td>0.025743</td>\n      <td>-0.268654</td>\n      <td>-0.010447</td>\n      <td>-0.020913</td>\n      <td>-0.006355</td>\n      <td>-0.023133</td>\n      <td>-0.218863</td>\n      <td>-0.000642</td>\n      <td>-0.089526</td>\n      <td>...</td>\n      <td>0</td>\n      <td>0</td>\n      <td>0</td>\n      <td>0</td>\n      <td>0</td>\n      <td>0</td>\n      <td>0</td>\n      <td>0</td>\n      <td>0</td>\n      <td>rock</td>\n    </tr>\n  </tbody>\n</table>\n<p>3936 rows × 901 columns</p>\n</div>"
     },
     "metadata": {},
     "execution_count": 162
    }
   ],
   "source": [
    "pd.read_pickle('train_test_encoded/tfidf_train.zip')"
   ]
  },
  {
   "cell_type": "code",
   "execution_count": 102,
   "metadata": {},
   "outputs": [
    {
     "output_type": "stream",
     "name": "stdout",
     "text": "14:40:25 - Training TF-IDF Vectorizer on all 4921 lyrics\n14:40:47 - Fitting SVD on all lyrics\n14:43:19 - Done\n\n"
    }
   ],
   "source": [
    "from sklearn.feature_extraction.text import TfidfVectorizer\n",
    "from sklearn.decomposition import TruncatedSVD\n",
    "\n",
    "# Combine lyrics into one list to be input for tf-idf vectorizer WITH UNIGRAMS UP TO TRIGRAMS\n",
    "full_lyrics = [lyrics.lower() for lyrics in full_df['lyrics']]\n",
    "log(f'Training TF-IDF Vectorizer on all {len(full_lyrics)} lyrics')\n",
    "tfidf_ngram_vectorizer = TfidfVectorizer(min_df=2, ngram_range=(1,3)).fit(full_lyrics)\n",
    "tfidf_ngram_features = tfidf_ngram_vectorizer.get_feature_names()\n",
    "tfidf_ngram_data = tfidf_ngram_vectorizer.transform(full_lyrics)\n",
    "log('Fitting SVD on all lyrics')\n",
    "svd_ngram = TruncatedSVD(n_components=500).fit(tfidf_ngram_data)\n",
    "log('Done\\n')"
   ]
  },
  {
   "cell_type": "code",
   "execution_count": 103,
   "metadata": {},
   "outputs": [],
   "source": [
    "# Create TFIDF up to trigram encoding for nonredundant data\n",
    "def encode_tfidf_ngram_svd(df):\n",
    "    def section_header_bigram(lyrics):\n",
    "        bigram_counts = lyrics_to_bigrams(lyrics)\n",
    "        return [count for count in bigram_counts.values()]\n",
    "    \n",
    "    tfidf_ngram_vec = tfidf_ngram_vectorizer.transform(df['lyrics'].values)\n",
    "    svd_ngram_vec = svd_ngram.transform(tfidf_ngram_vec)\n",
    "    tfidf_ngram_df = pd.DataFrame(svd_ngram_vec)\n",
    "    header_bigram_vec = [section_header_bigram(lyrics) for lyrics in df['lyrics'].values]\n",
    "    header_bigram_df = pd.DataFrame(header_bigram_vec, columns=header_bigrams)\n",
    "    encoding = pd.concat([tfidf_ngram_df, header_bigram_df], axis=1)\n",
    "    return encoding"
   ]
  },
  {
   "cell_type": "code",
   "execution_count": 106,
   "metadata": {},
   "outputs": [
    {
     "output_type": "stream",
     "name": "stdout",
     "text": "15:35:59 - Encoding training data\n15:36:05 - Done\n\n15:36:05 - Encoding testing data\n15:36:08 - Done\n\n"
    }
   ],
   "source": [
    "# pickle the encodings in .zip files to save space\n",
    "log('Encoding training data')\n",
    "tfidf_ngram_train = encode_tfidf_ngram_svd(train_df)\n",
    "log('Done\\n')\n",
    "\n",
    "log('Encoding testing data')\n",
    "tfidf_ngram_test = encode_tfidf_ngram_svd(test_df)\n",
    "log('Done\\n')"
   ]
  },
  {
   "cell_type": "code",
   "execution_count": 107,
   "metadata": {},
   "outputs": [
    {
     "output_type": "stream",
     "name": "stdout",
     "text": "15:36:09 - Loading training and testing data into dataframes\n15:36:09 - Done\n\n15:36:09 - Saving onehot encodings as pickles\n15:36:10 - Done\n\n"
    }
   ],
   "source": [
    "log('Loading training and testing data into dataframes')\n",
    "tfidf_ngram_train['y'] = genres_train\n",
    "tfidf_ngram_test['y'] = genres_test\n",
    "log('Done\\n')\n",
    "\n",
    "log('Saving onehot encodings as pickles')\n",
    "tfidf_ngram_train.to_pickle('train_test_encoded/tfidf_ngram_train.zip')\n",
    "tfidf_ngram_test.to_pickle('train_test_encoded/tfidf_ngram_test.zip')\n",
    "log('Done\\n')"
   ]
  },
  {
   "cell_type": "code",
   "execution_count": 108,
   "metadata": {},
   "outputs": [
    {
     "output_type": "execute_result",
     "data": {
      "text/plain": "             0         1         2         3         4         5         6  \\\n0     0.184129 -0.018197 -0.005099 -0.005399  0.037754  0.045131 -0.001461   \n1     0.193870  0.018573 -0.009362 -0.005969  0.090915 -0.045035 -0.025991   \n2     0.127733  0.044721 -0.006019 -0.005293 -0.005966  0.055150 -0.003077   \n3     0.164444 -0.035732 -0.010279 -0.003538 -0.014275 -0.030779  0.004200   \n4     0.130536 -0.029946 -0.010128 -0.002602 -0.015442 -0.067553 -0.005651   \n...        ...       ...       ...       ...       ...       ...       ...   \n3931  0.128744 -0.031099 -0.007913 -0.005776 -0.012949 -0.006316 -0.004541   \n3932  0.228627 -0.043051 -0.012646 -0.009522 -0.015776  0.000420  0.006476   \n3933  0.134692 -0.028000 -0.010212 -0.005202 -0.007446  0.012089 -0.006490   \n3934  0.096240 -0.005852 -0.004261 -0.000245 -0.000341 -0.021529 -0.012501   \n3935  0.114988 -0.025466 -0.010431 -0.002037 -0.021289 -0.112456  0.000439   \n\n             7         8         9  ...  Outro|Interlude  Outro|Skit  \\\n0     0.028579  0.005085  0.032772  ...                0           0   \n1     0.047837 -0.055979 -0.081396  ...                0           0   \n2    -0.002170  0.000687  0.001120  ...                0           0   \n3    -0.004996  0.007137  0.018081  ...                0           0   \n4     0.025295 -0.022155 -0.022960  ...                0           0   \n...        ...       ...       ...  ...              ...         ...   \n3931 -0.013524 -0.001318 -0.006042  ...                0           0   \n3932  0.049308 -0.019672 -0.010922  ...                0           0   \n3933 -0.008085 -0.006383 -0.025853  ...                0           0   \n3934  0.249173 -0.031426  0.296219  ...                0           0   \n3935 -0.043306  0.000665 -0.033759  ...                0           0   \n\n      Outro|Collision  Outro|Instrumental  Outro|Solo  Outro|Ad-lib  \\\n0                   0                   0           0             0   \n1                   0                   0           0             0   \n2                   0                   0           0             0   \n3                   0                   0           0             0   \n4                   0                   0           0             0   \n...               ...                 ...         ...           ...   \n3931                0                   0           0             0   \n3932                0                   0           0             0   \n3933                0                   0           0             0   \n3934                0                   0           0             0   \n3935                0                   0           0             0   \n\n      Outro|Segue  Outro|Outro  Outro|END        y  \n0               0            0          0      pop  \n1               0            0          0   hiphop  \n2               0            0          0      pop  \n3               0            0          0   hiphop  \n4               0            0          0  country  \n...           ...          ...        ...      ...  \n3931            0            0          0     rock  \n3932            0            0          0      pop  \n3933            0            0          0  country  \n3934            0            0          0   hiphop  \n3935            0            0          0     rock  \n\n[3936 rows x 901 columns]",
      "text/html": "<div>\n<style scoped>\n    .dataframe tbody tr th:only-of-type {\n        vertical-align: middle;\n    }\n\n    .dataframe tbody tr th {\n        vertical-align: top;\n    }\n\n    .dataframe thead th {\n        text-align: right;\n    }\n</style>\n<table border=\"1\" class=\"dataframe\">\n  <thead>\n    <tr style=\"text-align: right;\">\n      <th></th>\n      <th>0</th>\n      <th>1</th>\n      <th>2</th>\n      <th>3</th>\n      <th>4</th>\n      <th>5</th>\n      <th>6</th>\n      <th>7</th>\n      <th>8</th>\n      <th>9</th>\n      <th>...</th>\n      <th>Outro|Interlude</th>\n      <th>Outro|Skit</th>\n      <th>Outro|Collision</th>\n      <th>Outro|Instrumental</th>\n      <th>Outro|Solo</th>\n      <th>Outro|Ad-lib</th>\n      <th>Outro|Segue</th>\n      <th>Outro|Outro</th>\n      <th>Outro|END</th>\n      <th>y</th>\n    </tr>\n  </thead>\n  <tbody>\n    <tr>\n      <th>0</th>\n      <td>0.184129</td>\n      <td>-0.018197</td>\n      <td>-0.005099</td>\n      <td>-0.005399</td>\n      <td>0.037754</td>\n      <td>0.045131</td>\n      <td>-0.001461</td>\n      <td>0.028579</td>\n      <td>0.005085</td>\n      <td>0.032772</td>\n      <td>...</td>\n      <td>0</td>\n      <td>0</td>\n      <td>0</td>\n      <td>0</td>\n      <td>0</td>\n      <td>0</td>\n      <td>0</td>\n      <td>0</td>\n      <td>0</td>\n      <td>pop</td>\n    </tr>\n    <tr>\n      <th>1</th>\n      <td>0.193870</td>\n      <td>0.018573</td>\n      <td>-0.009362</td>\n      <td>-0.005969</td>\n      <td>0.090915</td>\n      <td>-0.045035</td>\n      <td>-0.025991</td>\n      <td>0.047837</td>\n      <td>-0.055979</td>\n      <td>-0.081396</td>\n      <td>...</td>\n      <td>0</td>\n      <td>0</td>\n      <td>0</td>\n      <td>0</td>\n      <td>0</td>\n      <td>0</td>\n      <td>0</td>\n      <td>0</td>\n      <td>0</td>\n      <td>hiphop</td>\n    </tr>\n    <tr>\n      <th>2</th>\n      <td>0.127733</td>\n      <td>0.044721</td>\n      <td>-0.006019</td>\n      <td>-0.005293</td>\n      <td>-0.005966</td>\n      <td>0.055150</td>\n      <td>-0.003077</td>\n      <td>-0.002170</td>\n      <td>0.000687</td>\n      <td>0.001120</td>\n      <td>...</td>\n      <td>0</td>\n      <td>0</td>\n      <td>0</td>\n      <td>0</td>\n      <td>0</td>\n      <td>0</td>\n      <td>0</td>\n      <td>0</td>\n      <td>0</td>\n      <td>pop</td>\n    </tr>\n    <tr>\n      <th>3</th>\n      <td>0.164444</td>\n      <td>-0.035732</td>\n      <td>-0.010279</td>\n      <td>-0.003538</td>\n      <td>-0.014275</td>\n      <td>-0.030779</td>\n      <td>0.004200</td>\n      <td>-0.004996</td>\n      <td>0.007137</td>\n      <td>0.018081</td>\n      <td>...</td>\n      <td>0</td>\n      <td>0</td>\n      <td>0</td>\n      <td>0</td>\n      <td>0</td>\n      <td>0</td>\n      <td>0</td>\n      <td>0</td>\n      <td>0</td>\n      <td>hiphop</td>\n    </tr>\n    <tr>\n      <th>4</th>\n      <td>0.130536</td>\n      <td>-0.029946</td>\n      <td>-0.010128</td>\n      <td>-0.002602</td>\n      <td>-0.015442</td>\n      <td>-0.067553</td>\n      <td>-0.005651</td>\n      <td>0.025295</td>\n      <td>-0.022155</td>\n      <td>-0.022960</td>\n      <td>...</td>\n      <td>0</td>\n      <td>0</td>\n      <td>0</td>\n      <td>0</td>\n      <td>0</td>\n      <td>0</td>\n      <td>0</td>\n      <td>0</td>\n      <td>0</td>\n      <td>country</td>\n    </tr>\n    <tr>\n      <th>...</th>\n      <td>...</td>\n      <td>...</td>\n      <td>...</td>\n      <td>...</td>\n      <td>...</td>\n      <td>...</td>\n      <td>...</td>\n      <td>...</td>\n      <td>...</td>\n      <td>...</td>\n      <td>...</td>\n      <td>...</td>\n      <td>...</td>\n      <td>...</td>\n      <td>...</td>\n      <td>...</td>\n      <td>...</td>\n      <td>...</td>\n      <td>...</td>\n      <td>...</td>\n      <td>...</td>\n    </tr>\n    <tr>\n      <th>3931</th>\n      <td>0.128744</td>\n      <td>-0.031099</td>\n      <td>-0.007913</td>\n      <td>-0.005776</td>\n      <td>-0.012949</td>\n      <td>-0.006316</td>\n      <td>-0.004541</td>\n      <td>-0.013524</td>\n      <td>-0.001318</td>\n      <td>-0.006042</td>\n      <td>...</td>\n      <td>0</td>\n      <td>0</td>\n      <td>0</td>\n      <td>0</td>\n      <td>0</td>\n      <td>0</td>\n      <td>0</td>\n      <td>0</td>\n      <td>0</td>\n      <td>rock</td>\n    </tr>\n    <tr>\n      <th>3932</th>\n      <td>0.228627</td>\n      <td>-0.043051</td>\n      <td>-0.012646</td>\n      <td>-0.009522</td>\n      <td>-0.015776</td>\n      <td>0.000420</td>\n      <td>0.006476</td>\n      <td>0.049308</td>\n      <td>-0.019672</td>\n      <td>-0.010922</td>\n      <td>...</td>\n      <td>0</td>\n      <td>0</td>\n      <td>0</td>\n      <td>0</td>\n      <td>0</td>\n      <td>0</td>\n      <td>0</td>\n      <td>0</td>\n      <td>0</td>\n      <td>pop</td>\n    </tr>\n    <tr>\n      <th>3933</th>\n      <td>0.134692</td>\n      <td>-0.028000</td>\n      <td>-0.010212</td>\n      <td>-0.005202</td>\n      <td>-0.007446</td>\n      <td>0.012089</td>\n      <td>-0.006490</td>\n      <td>-0.008085</td>\n      <td>-0.006383</td>\n      <td>-0.025853</td>\n      <td>...</td>\n      <td>0</td>\n      <td>0</td>\n      <td>0</td>\n      <td>0</td>\n      <td>0</td>\n      <td>0</td>\n      <td>0</td>\n      <td>0</td>\n      <td>0</td>\n      <td>country</td>\n    </tr>\n    <tr>\n      <th>3934</th>\n      <td>0.096240</td>\n      <td>-0.005852</td>\n      <td>-0.004261</td>\n      <td>-0.000245</td>\n      <td>-0.000341</td>\n      <td>-0.021529</td>\n      <td>-0.012501</td>\n      <td>0.249173</td>\n      <td>-0.031426</td>\n      <td>0.296219</td>\n      <td>...</td>\n      <td>0</td>\n      <td>0</td>\n      <td>0</td>\n      <td>0</td>\n      <td>0</td>\n      <td>0</td>\n      <td>0</td>\n      <td>0</td>\n      <td>0</td>\n      <td>hiphop</td>\n    </tr>\n    <tr>\n      <th>3935</th>\n      <td>0.114988</td>\n      <td>-0.025466</td>\n      <td>-0.010431</td>\n      <td>-0.002037</td>\n      <td>-0.021289</td>\n      <td>-0.112456</td>\n      <td>0.000439</td>\n      <td>-0.043306</td>\n      <td>0.000665</td>\n      <td>-0.033759</td>\n      <td>...</td>\n      <td>0</td>\n      <td>0</td>\n      <td>0</td>\n      <td>0</td>\n      <td>0</td>\n      <td>0</td>\n      <td>0</td>\n      <td>0</td>\n      <td>0</td>\n      <td>rock</td>\n    </tr>\n  </tbody>\n</table>\n<p>3936 rows × 901 columns</p>\n</div>"
     },
     "metadata": {},
     "execution_count": 108
    }
   ],
   "source": [
    "pd.read_pickle('train_test_encoded/tfidf_ngram_train.zip')"
   ]
  },
  {
   "cell_type": "code",
   "execution_count": null,
   "metadata": {},
   "outputs": [],
   "source": []
  }
 ],
 "metadata": {
  "kernelspec": {
   "display_name": "Python 3",
   "language": "python",
   "name": "python3"
  },
  "language_info": {
   "codemirror_mode": {
    "name": "ipython",
    "version": 3
   },
   "file_extension": ".py",
   "mimetype": "text/x-python",
   "name": "python",
   "nbconvert_exporter": "python",
   "pygments_lexer": "ipython3",
   "version": "3.7.4-final"
  }
 },
 "nbformat": 4,
 "nbformat_minor": 4
}