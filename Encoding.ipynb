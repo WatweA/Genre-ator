{
 "cells": [
  {
   "cell_type": "code",
   "execution_count": 1,
   "metadata": {},
   "outputs": [],
   "source": [
    "import pandas as pd\n"
   ]
  },
  {
   "cell_type": "code",
   "execution_count": 2,
   "metadata": {},
   "outputs": [],
   "source": [
    "from datetime import datetime\n",
    "\n",
    "def printnow():\n",
    "    \n",
    "    now = datetime.now()\n",
    "\n",
    "    current_time = now.strftime(\"%H:%M:%S\")\n",
    "    print(\"Current Time =\", current_time)"
   ]
  },
  {
   "cell_type": "code",
   "execution_count": 3,
   "metadata": {},
   "outputs": [
    {
     "data": {
      "text/plain": [
       "\"[Verse]\\nYou say you'll be down in five\\nThe smell of your perfume is floating down the stairs\\nYou're fixing up your hair like you do\\nI know that I'll be a mess\\nThe second that I see you\\nYou won't be surprised\\nIt happens every time\\nIt's nothin' new\\n\\n[Pre-Chorus]\\nIt's always on a night like tonight\\nI thank God you can read my mind\\n'Cause when you look at me with those eyes\\n\\n[Chorus]\\nI'm speechless\\nStarin' at you standin' there in that dress\\nWhat it's doin' to me ain't a secret\\n'Cause watching you is all that I can do\\nAnd I'm speechless\\nYou already know that you're my weakness\\nAfter all this time I'm just as nervous\\nEvery time you walk into the room\\nI'm speechless\\n\\n[Verse]\\nIt started when you said hello\\nJust did something to me\\nAnd I've been in a daze\\nEver since the day that we met\\nYou take the breath out of my lungs\\nCan't even fight it\\nAnd all of the words, out of my mouth without even tryin'\\n\\n[Chorus]\\nAnd I'm speechless\\nStarin' at you standin' there in that dress\\nWhat it's doin' to me ain't a secret\\n'Cause watching you is all that I can do\\nAnd I'm speechless\\nYou already know that you're my weakness\\nAfter all this time I'm just as nervous\\nEvery time you walk into the room\\nI'm speechless\\n\\n[Bridge]\\nYeah, baby, mmm\\nIt's always on a night like tonight\\nI thank God you can read my mind\\n'Cause when you look at me with those eyes\\n\\n[Chorus]\\nI'm speechless\\nYou standin' there in that dress\\nGirl, it ain't a secret\\n'Cause watchin' you is all that I can do\\nOh, I'm speechless\\nYou already know that you're my weakness\\nAfter all this time I'm just as nervous\\nEvery time you walk into the room\\nI'm speechless\\n\\n[Outro]\\nOh, you know it, baby\\nMmm\""
      ]
     },
     "execution_count": 3,
     "metadata": {},
     "output_type": "execute_result"
    }
   ],
   "source": [
    "# LOAD DATA\n",
    "country_data = pd.read_csv('cleaned_section_headers/country_lyrics_cleaned.csv')['Lyrics']\n",
    "hiphop_data = pd.read_csv('cleaned_section_headers/hiphop_lyrics_cleaned.csv')['Lyrics']\n",
    "pop_data = pd.read_csv('cleaned_section_headers/pop_lyrics_cleaned.csv')['Lyrics']\n",
    "rock_data = pd.read_csv('cleaned_section_headers/rock_lyrics_cleaned.csv')['Lyrics']\n",
    "\n",
    "\n",
    "frames = [country_data, hiphop_data, pop_data, rock_data]\n",
    "# frames = [frame['Lyrics'] for frame in frames]\n",
    "# # frames[1]\n",
    "# unencoded = pd.concat(frames)\n",
    "# # unencoded.head()[0]\n",
    "# frames\n",
    "country_data.head()[0]"
   ]
  },
  {
   "cell_type": "code",
   "execution_count": 4,
   "metadata": {},
   "outputs": [
    {
     "name": "stdout",
     "output_type": "stream",
     "text": [
      "Current Time = 08:08:37\n",
      "Current Time = 08:08:41\n",
      "Current Time = 08:09:54\n",
      "Current Time = 08:10:40\n"
     ]
    }
   ],
   "source": [
    "# BREAKING DOWN SONGS and CREATE VOCAB\n",
    "country_x, hiphop_x, pop_x, rock_x = [], [], [], []\n",
    "xs = [country_x, hiphop_x, pop_x, rock_x]\n",
    "\n",
    "vocab = []\n",
    "\n",
    "for x, data in zip(xs, frames):\n",
    "    printnow()\n",
    "    for song in data:\n",
    "        unflattened = [_.split() for _ in song.split('\\n')]\n",
    "        flat_list = [item for sublist in unflattened for item in sublist]\n",
    "#         print(flat_list)\n",
    "        for word in flat_list:\n",
    "            if word not in vocab:\n",
    "                vocab.append(word)\n",
    "        x.append(flat_list)\n",
    "\n"
   ]
  },
  {
   "cell_type": "code",
   "execution_count": 5,
   "metadata": {},
   "outputs": [
    {
     "name": "stdout",
     "output_type": "stream",
     "text": [
      "Current Time = 08:11:31\n",
      "Current Time = 08:13:20\n",
      "Current Time = 08:18:09\n",
      "Current Time = 08:21:16\n",
      "Current Time = 08:24:00\n"
     ]
    }
   ],
   "source": [
    "# ENCODE SONGS\n",
    "def create_has_seen(song):\n",
    "    return [1 if word in song else 0 for word in vocab]\n",
    "\n",
    "# encoded versions of songs for each genre\n",
    "country_enc, hiphop_enc, pop_enc, rock_enc = [], [], [], []\n",
    "encs = [country_enc, hiphop_enc, pop_enc, rock_enc]\n",
    "\n",
    "for genre, enc in zip(xs, encs):\n",
    "    printnow()\n",
    "    for song in genre:\n",
    "        enc.append(create_has_seen(song))\n",
    "printnow()"
   ]
  },
  {
   "cell_type": "code",
   "execution_count": 7,
   "metadata": {},
   "outputs": [],
   "source": [
    "# country_enc\n",
    "country_encdf = pd.DataFrame.from_records(country_enc)\n",
    "hiphop_encdf = pd.DataFrame.from_records(hiphop_enc)\n",
    "pop_encdf = pd.DataFrame.from_records(pop_enc)\n",
    "rock_encdf = pd.DataFrame.from_records(rock_enc)\n",
    "\n",
    "enc_dfs = [country_encdf, hiphop_encdf, pop_encdf, rock_encdf]\n",
    "X = pd.concat(enc_dfs)"
   ]
  },
  {
   "cell_type": "code",
   "execution_count": 8,
   "metadata": {},
   "outputs": [
    {
     "data": {
      "text/plain": [
       "(937, 59396)"
      ]
     },
     "execution_count": 8,
     "metadata": {},
     "output_type": "execute_result"
    }
   ],
   "source": [
    "country_encdf.shape"
   ]
  },
  {
   "cell_type": "code",
   "execution_count": 9,
   "metadata": {},
   "outputs": [],
   "source": [
    "# MAKE Ys\n",
    "country_y = [\"country\" for _ in frames[0]]\n",
    "hiphop_y = [\"hiphop\" for _ in frames[1]]\n",
    "pop_y = [\"pop\" for _ in frames[2]]\n",
    "rock_y = [\"rock\" for _ in frames[3]]\n",
    "\n",
    "# ys = pd.concat([country_y, hiphop_y, pop_y, rock_y])\n",
    "# frames[1]\n",
    "# country_y\n",
    "Y = country_y + hiphop_y + pop_y + rock_y"
   ]
  },
  {
   "cell_type": "code",
   "execution_count": 13,
   "metadata": {},
   "outputs": [],
   "source": [
    "X.to_csv('onehot_x.csv', index=False)"
   ]
  },
  {
   "cell_type": "code",
   "execution_count": 15,
   "metadata": {},
   "outputs": [],
   "source": [
    "Y = pd.DataFrame(Y)"
   ]
  },
  {
   "cell_type": "code",
   "execution_count": 16,
   "metadata": {},
   "outputs": [],
   "source": [
    "Y.to_csv('onehot_y.csv', index=False)"
   ]
  },
  {
   "cell_type": "code",
   "execution_count": null,
   "metadata": {},
   "outputs": [],
   "source": []
  }
 ],
 "metadata": {
  "kernelspec": {
   "display_name": "Python 3",
   "language": "python",
   "name": "python3"
  },
  "language_info": {
   "codemirror_mode": {
    "name": "ipython",
    "version": 3
   },
   "file_extension": ".py",
   "mimetype": "text/x-python",
   "name": "python",
   "nbconvert_exporter": "python",
   "pygments_lexer": "ipython3",
   "version": "3.7.5"
  }
 },
 "nbformat": 4,
 "nbformat_minor": 4
}
