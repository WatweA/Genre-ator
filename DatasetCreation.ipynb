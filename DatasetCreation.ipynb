{
 "cells": [
  {
   "cell_type": "code",
   "execution_count": 1,
   "metadata": {},
   "outputs": [],
   "source": [
    "import billboard\n",
    "import pandas as pd\n",
    "import lyricsgenius as lg"
   ]
  },
  {
   "cell_type": "markdown",
   "metadata": {},
   "source": [
    "### Billboard Chart Functions"
   ]
  },
  {
   "cell_type": "code",
   "execution_count": 2,
   "metadata": {},
   "outputs": [],
   "source": [
    "#create a list of dates given number of years. Will return dates in January, April, August, December\n",
    "#Format: YYYY-MM-DD\n",
    "def create_date_list(curr_year, num_years):\n",
    "    #make sure charts exist\n",
    "    start_year = curr_year - 1\n",
    "    end_year = start_year - num_years \n",
    "    months = [\"01-01\",\"02-01\",\"03-01\",\"04-01\",\"05-01\",\"06-01\",\"07-01\",\"08-01\",\"09-01\",\"10-01\",\"11-01\",\"12-01\"]\n",
    "    total_dates = []\n",
    "    #moving backwards through years\n",
    "    for i in range(start_year, end_year, -1):\n",
    "        for month in months:\n",
    "            total_dates.append(str(i)+ \"-\" + month)\n",
    "    return total_dates\n",
    "\n",
    "def split_entry(entry):\n",
    "    arr = entry.split(\"by\")\n",
    "    return [arr[0].strip().strip('\\''), arr[1].strip()]\n",
    "\n",
    "\n",
    "#parse a chart to enter into a dataframe\n",
    "def parse_chart(chart):\n",
    "    chart_dict = {}\n",
    "    for index in range(len(chart)):\n",
    "        curr_song = split_entry(str(chart[index]))\n",
    "        song_dict = {}\n",
    "        song_dict[\"Title\"] = curr_song[0]\n",
    "        song_dict[\"Artist\"] = curr_song[1]\n",
    "        chart_dict[index]= song_dict\n",
    "    return chart_dict\n",
    "\n",
    "#will return a dataframe containing all song's title and artist from the start year and backwards num_years at 4 times\n",
    "#througout the year\n",
    "def chart_main(chart_name, start_year, num_years):\n",
    "    #initialize complete DataFrame\n",
    "    data = pd.DataFrame(columns = [\"Title\", \"Artist\"])\n",
    "    #get list of dates to get charts from\n",
    "    dates_list = create_date_list(start_year, num_years)\n",
    "    #get all charts at dates in date_list and parse into dataframe\n",
    "    for date in dates_list:\n",
    "        try:\n",
    "            chart = billboard.ChartData(chart_name, date)\n",
    "        except:\n",
    "            continue\n",
    "        entry = parse_chart(chart)\n",
    "        for i in range(len(entry)):\n",
    "            data = data.append(entry[i], ignore_index=True)\n",
    "    return data\n"
   ]
  },
  {
   "cell_type": "markdown",
   "metadata": {},
   "source": [
    "### Obtaining Songs"
   ]
  },
  {
   "cell_type": "code",
   "execution_count": 5,
   "metadata": {},
   "outputs": [],
   "source": [
    "genre_arr = []\n",
    "chart_names = [\"r-b-hip-hop-songs\",\"pop-songs\",\"rock-songs\",\"country-songs\"]\n",
    "hip_hop = chart_main(chart_names[0], 2020, 10)"
   ]
  },
  {
   "cell_type": "code",
   "execution_count": null,
   "metadata": {},
   "outputs": [],
   "source": [
    "pop = chart_main(chart_names[1], 2020, 10)"
   ]
  },
  {
   "cell_type": "code",
   "execution_count": null,
   "metadata": {},
   "outputs": [],
   "source": [
    "rock = chart_main(chart_names[2], 2020, 10)"
   ]
  },
  {
   "cell_type": "code",
   "execution_count": null,
   "metadata": {},
   "outputs": [],
   "source": [
    "country = chart_main(chart_names[3], 2020, 10)"
   ]
  },
  {
   "cell_type": "code",
   "execution_count": 16,
   "metadata": {},
   "outputs": [
    {
     "name": "stdout",
     "output_type": "stream",
     "text": [
      "1657\n",
      "1065\n"
     ]
    }
   ],
   "source": [
    "hip_hop.to_csv(\"Hip_Hop_songs.csv\")\n",
    "#pop.to_csv(\"Pop_songs.csv\")\n",
    "#rock.to_csv(\"Rock_songs.csv\")\n",
    "#country.to_csv(\"Country_songs.csv\")\n",
    "print(len(hip_hop.Title.unique()))\n",
    "print(len(hip_hop.Artist.unique()))"
   ]
  },
  {
   "cell_type": "code",
   "execution_count": null,
   "metadata": {},
   "outputs": [],
   "source": [
    "genre_arr.append(hip_hop)\n",
    "genre_arr.append(pop)\n",
    "genre_arr.append(rock)\n",
    "genre_arr.append(country)"
   ]
  },
  {
   "cell_type": "markdown",
   "metadata": {},
   "source": [
    "### Obtaining lyrics"
   ]
  },
  {
   "cell_type": "code",
   "execution_count": 6,
   "metadata": {},
   "outputs": [
    {
     "name": "stdout",
     "output_type": "stream",
     "text": [
      "Searching for songs by Andy Shauf...\n",
      "\n",
      "Song 1: \"Alexander All Alone\"\n",
      "Song 2: \"All the Same\"\n",
      "Song 3: \"Angela\"\n",
      "\n",
      "Reached user-specified song limit (3).\n",
      "Done. Found 3 songs.\n",
      "[('Alexander All Alone', 'Andy Shauf'), ('All the Same', 'Andy Shauf'), ('Angela', 'Andy Shauf')]\n",
      "[Verse 1: Andy Shauf]\n",
      "Alexander all alone\n",
      "Smoking a cigarette\n",
      "The last pack he’d ever buy\n",
      "At least that’s what he said\n",
      "He stood up to stretch his back\n",
      "And fell down to the ground\n",
      "\n",
      "[Verse 2: Andy Shauf]\n",
      "Alexander all alone\n",
      "'Till the neighbour caught a glimpse\n",
      "Cried out for his wife\n",
      "To call the ambulance\n",
      "Alexander all alone\n",
      "Felt them check his pulse\n",
      "He heard them pronounce him dead\n",
      "\n",
      "[Chorus]\n",
      "Hell is found inside of me\n",
      "And nothing else will set me free\n",
      "If hell is found inside of me\n",
      "Then open me up and spill me out\n",
      "\n",
      "[Verse 3: Andy Shauf]\n",
      "Alexander wondered why\n",
      "No life flashed before his eyes\n",
      "Why his soul did not depart\n",
      "Why he found no peace of mind\n",
      "Would it take a little while?\n",
      "Was it the same for everyone?\n",
      "Alexander realized\n",
      "\n",
      "[Chorus 2]\n",
      "That hell is found inside of me\n",
      "And nothing else will set me free\n",
      "If hell is found inside of me\n",
      "Then open me up and spill me out\n",
      "The greenest grass you'll ever see\n",
      "Lies silent on the earth\n",
      "Where I could never be\n",
      "And the brightest sun that's ever shined\n",
      "As you walk away\n",
      "It dances there behind, or so I find\n",
      "But it's all the same anyway\n",
      "\n",
      "I'll hold you in the setting sun\n",
      "Would that be boring\n",
      "Would it be any fun for you\n",
      "Maybe I could fix your pain\n",
      "But what is life if it's always sunny\n",
      "If there's never any rain\n",
      "If it's all the same anyway, then it's all the same anyway\n",
      "\n",
      "You are the mittens to my coldest hands\n",
      "The purest rain to the driest lands\n",
      "A brand new friend on a lonely day\n",
      "Most beautiful girl I'd have to say\n",
      "Please be mine on this very night\n",
      "Hands are shaking, knees not quite\n",
      "It's all the same anyway, well maybe it was but not today\n",
      "\n",
      "Stay with me this little while because all I know is you make me smile\n",
      "[Verse 1]\n",
      "Angela, you need to write home\n",
      "Send your mother a letter\n",
      "Tell her that you're okay\n",
      "'Cos i don't need the company\n",
      "She's calling me like every single day\n",
      "\n",
      "[Verse 2]\n",
      "Angela, when you come home\n",
      "Could you bring me back a carton of cigarettes?\n",
      "When are you back anyway?\n",
      "Everyone misses seeing your face\n",
      "\n",
      "[Verse 3]\n",
      "Angela, thanks for the postcard\n",
      "Sounds like France is everything you dreamed\n",
      "I know that we're not serious\n",
      "But i wish that it could be the two of us\n",
      "\n",
      "[Verse 4]\n",
      "Angela, Jen let it out\n",
      "That you had met some guy in Paris\n",
      "Well let me know, 'cos that's okay\n",
      "Really you don;t need to say a thing\n",
      "\n",
      "[Outro]\n",
      "Angela, please come home\n",
      "And tell us all your stories from far away\n",
      "Angela, please come home\n",
      "And tell us all your stories from far away\n",
      "I bet that you would love to know\n",
      "Everything that's happened here\n"
     ]
    }
   ],
   "source": [
    "genius = lyricsgenius.Genius(\"1nVXMraHD3ieBaMJteYrKT4eqenseJ0WP78V85wRZ3sa1W9FSVUL-9Fg6WlpVon-\")\n",
    "\n",
    "lyrics = {}\n",
    "for df in genre_arr:\n",
    "    for index, row in df.iterrows():\n",
    "        try:\n",
    "            lyrics[df[\"Title\"]] = genius.search_song(df, artist.name)\n",
    "        except:\n",
    "            continue"
   ]
  },
  {
   "cell_type": "code",
   "execution_count": 6,
   "metadata": {},
   "outputs": [
    {
     "name": "stdout",
     "output_type": "stream",
     "text": [
      "Searching for songs by amine...\n",
      "\n",
      "Changing artist name to 'Aminé'\n",
      "Song 1: \"Caroline\"\n",
      "Song 2: \"Spice Girl\"\n",
      "Song 3: \"REEL IT IN\"\n",
      "Song 4: \"Heebiejeebies\"\n",
      "Song 5: \"REDMERCEDES\"\n",
      "\n",
      "Reached user-specified song limit (5).\n",
      "Done. Found 5 songs.\n"
     ]
    }
   ],
   "source": [
    "amine = genius.search_artist(\"amine\", max_songs=5)\n"
   ]
  },
  {
   "cell_type": "code",
   "execution_count": null,
   "metadata": {},
   "outputs": [],
   "source": []
  }
 ],
 "metadata": {
  "kernelspec": {
   "display_name": "Python 3",
   "language": "python",
   "name": "python3"
  },
  "language_info": {
   "codemirror_mode": {
    "name": "ipython",
    "version": 3
   },
   "file_extension": ".py",
   "mimetype": "text/x-python",
   "name": "python",
   "nbconvert_exporter": "python",
   "pygments_lexer": "ipython3",
   "version": "3.7.1"
  }
 },
 "nbformat": 4,
 "nbformat_minor": 2
}
