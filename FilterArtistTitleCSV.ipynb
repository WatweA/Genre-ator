{
 "cells": [
  {
   "cell_type": "code",
   "execution_count": 1,
   "metadata": {},
   "outputs": [],
   "source": [
    "import pandas as pd"
   ]
  },
  {
   "cell_type": "code",
   "execution_count": 2,
   "metadata": {},
   "outputs": [],
   "source": [
    "def clean_artist(artist):\n",
    "    cleaned = artist.split(' X ')[0].split(' & ')[0].split(' Featuring ')[0]\n",
    "    if cleaned == 'Lil Ba':\n",
    "        cleaned = 'Lil Baby'\n",
    "    elif cleaned == 'DaBa':\n",
    "        cleaned = 'DaBaby'\n",
    "    return cleaned"
   ]
  },
  {
   "cell_type": "code",
   "execution_count": 3,
   "metadata": {},
   "outputs": [],
   "source": [
    "country_songs = pd.read_csv(r'raw_data/country_songs.csv')\n",
    "country_songs['Artist'] = country_songs['Artist'].map(clean_artist)\n",
    "country_songs.to_csv(r'cleaned_songs/country_songs_cleaned.csv')\n",
    "\n",
    "hiphop_songs = pd.read_csv(r'raw_data/hiphop_songs.csv')\n",
    "hiphop_songs['Artist'] = hiphop_songs['Artist'].map(clean_artist)\n",
    "hiphop_songs.to_csv(r'cleaned_songs/hiphop_songs_cleaned.csv')\n",
    "\n",
    "pop_songs = pd.read_csv(r'raw_data/pop_songs.csv')\n",
    "pop_songs['Artist'] = pop_songs['Artist'].map(clean_artist)\n",
    "pop_songs.to_csv(r'cleaned_songs/pop_songs_cleaned.csv')\n",
    "\n",
    "rock_songs = pd.read_csv(r'raw_data/rock_songs.csv')\n",
    "rock_songs['Artist'] = rock_songs['Artist'].map(clean_artist)\n",
    "rock_songs.to_csv(r'cleaned_songs/rock_songs_cleaned.csv')"
   ]
  },
  {
   "cell_type": "code",
   "execution_count": 4,
   "metadata": {},
   "outputs": [
    {
     "output_type": "execute_result",
     "data": {
      "text/plain": "                                         Title  \\\n0                                   Speechless   \n1                                      Tequila   \n2                                  Meant To Be   \n3                       She Got The Best Of Me   \n4                                      Lose It   \n...                                        ...   \n4445  Still A Little Chicken Left On That Bone   \n4446                            Ready For Love   \n4447                    That's Beautiful To Me   \n4448                          Soldiers & Jesus   \n4449                              Keep In Mind   \n\n                               Artist  \n0                          Dan + Shay  \n1                          Dan + Shay  \n2                          Bebe Rexha  \n3                          Luke Combs  \n4                          Kane Brown  \n...                               ...  \n4445                     Craig Morgan  \n4446                       Adam Brand  \n4447  Jaron And The Long Road To Love  \n4448                       James Otto  \n4449                   LoCash Cowboys  \n\n[4450 rows x 2 columns]",
      "text/html": "<div>\n<style scoped>\n    .dataframe tbody tr th:only-of-type {\n        vertical-align: middle;\n    }\n\n    .dataframe tbody tr th {\n        vertical-align: top;\n    }\n\n    .dataframe thead th {\n        text-align: right;\n    }\n</style>\n<table border=\"1\" class=\"dataframe\">\n  <thead>\n    <tr style=\"text-align: right;\">\n      <th></th>\n      <th>Title</th>\n      <th>Artist</th>\n    </tr>\n  </thead>\n  <tbody>\n    <tr>\n      <td>0</td>\n      <td>Speechless</td>\n      <td>Dan + Shay</td>\n    </tr>\n    <tr>\n      <td>1</td>\n      <td>Tequila</td>\n      <td>Dan + Shay</td>\n    </tr>\n    <tr>\n      <td>2</td>\n      <td>Meant To Be</td>\n      <td>Bebe Rexha</td>\n    </tr>\n    <tr>\n      <td>3</td>\n      <td>She Got The Best Of Me</td>\n      <td>Luke Combs</td>\n    </tr>\n    <tr>\n      <td>4</td>\n      <td>Lose It</td>\n      <td>Kane Brown</td>\n    </tr>\n    <tr>\n      <td>...</td>\n      <td>...</td>\n      <td>...</td>\n    </tr>\n    <tr>\n      <td>4445</td>\n      <td>Still A Little Chicken Left On That Bone</td>\n      <td>Craig Morgan</td>\n    </tr>\n    <tr>\n      <td>4446</td>\n      <td>Ready For Love</td>\n      <td>Adam Brand</td>\n    </tr>\n    <tr>\n      <td>4447</td>\n      <td>That's Beautiful To Me</td>\n      <td>Jaron And The Long Road To Love</td>\n    </tr>\n    <tr>\n      <td>4448</td>\n      <td>Soldiers &amp; Jesus</td>\n      <td>James Otto</td>\n    </tr>\n    <tr>\n      <td>4449</td>\n      <td>Keep In Mind</td>\n      <td>LoCash Cowboys</td>\n    </tr>\n  </tbody>\n</table>\n<p>4450 rows × 2 columns</p>\n</div>"
     },
     "metadata": {},
     "execution_count": 4
    }
   ],
   "source": [
    "country_songs"
   ]
  },
  {
   "cell_type": "code",
   "execution_count": null,
   "metadata": {},
   "outputs": [],
   "source": [
    "cou"
   ]
  }
 ],
 "metadata": {
  "kernelspec": {
   "display_name": "Python 3",
   "language": "python",
   "name": "python3"
  },
  "language_info": {
   "codemirror_mode": {
    "name": "ipython",
    "version": 3
   },
   "file_extension": ".py",
   "mimetype": "text/x-python",
   "name": "python",
   "nbconvert_exporter": "python",
   "pygments_lexer": "ipython3",
   "version": "3.7.4-final"
  }
 },
 "nbformat": 4,
 "nbformat_minor": 2
}