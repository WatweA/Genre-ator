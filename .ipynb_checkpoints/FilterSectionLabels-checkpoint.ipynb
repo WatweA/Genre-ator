{
 "cells": [
  {
   "cell_type": "code",
   "execution_count": 1,
   "metadata": {},
   "outputs": [],
   "source": [
    "import pandas as pd"
   ]
  },
  {
   "cell_type": "code",
   "execution_count": 2,
   "metadata": {},
   "outputs": [],
   "source": [
    "# Load the lyrics into dataframes\n",
    "country_lyrics = pd.read_csv(r'cleaned_lyrics/country_lyrics_cleaned.csv')\n",
    "country_lyrics.rename(columns={'Unnamed: 0' : 'Title-Artist', '0' : 'Lyrics'}, inplace=True)\n",
    "\n",
    "hiphop_lyrics = pd.read_csv(r'cleaned_lyrics/hiphop_lyrics_cleaned.csv')\n",
    "hiphop_lyrics.rename(columns={'Unnamed: 0' : 'Title-Artist', '0' : 'Lyrics'}, inplace=True)\n",
    "\n",
    "pop_lyrics = pd.read_csv(r'cleaned_lyrics/pop_lyrics_cleaned.csv')\n",
    "pop_lyrics.rename(columns={'Unnamed: 0' : 'Title-Artist', '0' : 'Lyrics'}, inplace=True)\n",
    "\n",
    "rock_lyrics = pd.read_csv(r'cleaned_lyrics/rock_lyrics_cleaned.csv')\n",
    "rock_lyrics.rename(columns={'Unnamed: 0' : 'Title-Artist', '0' : 'Lyrics'}, inplace=True)"
   ]
  },
  {
   "cell_type": "code",
   "execution_count": 56,
   "metadata": {},
   "outputs": [],
   "source": [
    "def clean_section_headers(lyrics):\n",
    "    line_arr = lyrics.splitlines()\n",
    "    final = \"\"\n",
    "    for line in line_arr:\n",
    "        line.strip()\n",
    "        if (len(line) == 0):\n",
    "            continue\n",
    "        if (line[0] == '['):\n",
    "            main_header = line.split(':')[0]\n",
    "            if (main_header[len(main_header)-1] != ']'):\n",
    "                final+= main_header + ']\\n'\n",
    "            else:\n",
    "                final+= main_header + '\\n' \n",
    "        else:\n",
    "            final += line + '\\n'\n",
    "    return final"
   ]
  },
  {
   "cell_type": "code",
   "execution_count": 57,
   "metadata": {},
   "outputs": [],
   "source": [
    "pop_lyrics[\"Lyrics\"]  = pop_lyrics[\"Lyrics\"].map(clean_section_headers)\n",
    "hiphop_lyrics[\"Lyrics\"]  = hiphop_lyrics[\"Lyrics\"].map(clean_section_headers)\n",
    "rock_lyrics[\"Lyrics\"]  = rock_lyrics[\"Lyrics\"].map(clean_section_headers)\n",
    "country_lyrics[\"Lyrics\"]  = country_lyrics[\"Lyrics\"].map(clean_section_headers)"
   ]
  }
 ],
 "metadata": {
  "kernelspec": {
   "display_name": "Python 3",
   "language": "python",
   "name": "python3"
  },
  "language_info": {
   "codemirror_mode": {
    "name": "ipython",
    "version": 3
   },
   "file_extension": ".py",
   "mimetype": "text/x-python",
   "name": "python",
   "nbconvert_exporter": "python",
   "pygments_lexer": "ipython3",
   "version": "3.7.1"
  }
 },
 "nbformat": 4,
 "nbformat_minor": 4
}
