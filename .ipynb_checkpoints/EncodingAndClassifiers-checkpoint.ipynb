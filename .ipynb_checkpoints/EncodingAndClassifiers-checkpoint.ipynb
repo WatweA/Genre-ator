{
 "cells": [
  {
   "cell_type": "markdown",
   "metadata": {},
   "source": [
    "### Dan Krasnonosenkikh, Cameron Scoons, Aaditya Watwe"
   ]
  },
  {
   "cell_type": "code",
   "execution_count": 2,
   "metadata": {},
   "outputs": [],
   "source": [
    "from datetime import datetime\n",
    "\n",
    "def printnow():\n",
    "    \n",
    "    now = datetime.now()\n",
    "\n",
    "    current_time = now.strftime(\"%H:%M:%S\")\n",
    "    print(\"Current Time =\", current_time)"
   ]
  },
  {
   "cell_type": "code",
   "execution_count": 3,
   "metadata": {},
   "outputs": [],
   "source": [
    "import pandas as pd\n",
    "from sklearn.model_selection import train_test_split\n",
    "# from sklearn.preprocessing import StandardScaler\n",
    "# from sklearn.datasets import make_moons, make_circles, make_classification\n",
    "from sklearn.neural_network import MLPClassifier\n",
    "from sklearn.neighbors import KNeighborsClassifier\n",
    "from sklearn.svm import SVC\n",
    "from sklearn.gaussian_process import GaussianProcessClassifier\n",
    "from sklearn.gaussian_process.kernels import RBF\n",
    "from sklearn.tree import DecisionTreeClassifier\n",
    "from sklearn.ensemble import RandomForestClassifier, AdaBoostClassifier\n",
    "from sklearn.naive_bayes import GaussianNB\n",
    "from sklearn.discriminant_analysis import QuadraticDiscriminantAnalysis"
   ]
  },
  {
   "cell_type": "code",
   "execution_count": 4,
   "metadata": {},
   "outputs": [],
   "source": [
    "names = [\"Gaussian Process (OvR)\", \"Decision Tree (OvR)\", \"Random Forest (OvR)\", \"Neural Net (OvR)\",\n",
    "         \"AdaBoost (OvR)\", \"Naive Bayes (OvR)\", \"QDA (OvR)\", \"Nearest Neighbors (OvR)\",\n",
    "         \"Linear SVM (OvR)\", \"RBF SVM (OvR)\",\n",
    "         \"Gaussian Process (OvO)\", \"Decision Tree (OvO)\", \"Random Forest (OvO)\", \"Neural Net (OvO)\",\n",
    "         \"AdaBoost (OvO)\", \"Naive Bayes (OvO)\", \"QDA (OvO)\", \"Nearest Neighbors (OvO)\",\n",
    "         \"Linear SVM (OvO)\", \"RBF SVM (OvO)\"]\n",
    "classifiers = [\n",
    "    OneVsRestClassifier(KNeighborsClassifier(3)), \n",
    "    OneVsRestClassifier(SVC(kernel=\"linear\", C=0.025)),\n",
    "    OneVsRestClassifier(SVC(gamma=2, C=1)),\n",
    "    OneVsRestClassifier(GaussianProcessClassifier(1.0 * RBF(1.0))), \n",
    "    OneVsRestClassifier(DecisionTreeClassifier(max_depth=5)),\n",
    "    OneVsRestClassifier(RandomForestClassifier(max_depth=5, n_estimators=10, max_features=1)),\n",
    "    OneVsRestClassifier(MLPClassifier(alpha=1, max_iter=1000)),\n",
    "    OneVsRestClassifier(AdaBoostClassifier()), \n",
    "    OneVsRestClassifier(GaussianNB()),\n",
    "    OneVsRestClassifier(QuadraticDiscriminantAnalysis()),\n",
    "    OneVsOneClassifier(KNeighborsClassifier(3)), \n",
    "    OneVsOneClassifier(SVC(kernel=\"linear\", C=0.025)),\n",
    "    OneVsOneClassifier(SVC(gamma=2, C=1)),\n",
    "    OneVsOneClassifier(GaussianProcessClassifier(1.0 * RBF(1.0))), \n",
    "    OneVsOneClassifier(DecisionTreeClassifier(max_depth=5)),\n",
    "    OneVsOneClassifier(RandomForestClassifier(max_depth=5, n_estimators=10, max_features=1)),\n",
    "    OneVsOneClassifier(MLPClassifier(alpha=1, max_iter=1000)),\n",
    "    OneVsOneClassifier(AdaBoostClassifier()), \n",
    "    OneVsOneClassifier(GaussianNB()),\n",
    "    OneVsOneClassifier(QuadraticDiscriminantAnalysis())\n",
    "    ]"
   ]
  },
  {
   "cell_type": "code",
   "execution_count": 5,
   "metadata": {},
   "outputs": [
    {
     "data": {
      "text/plain": [
       "0    [Verse]\\nYou say you'll be down in five\\nThe s...\n",
       "1    [Verse]\\nI can still shut down a party\\nI can ...\n",
       "2    [Verse]\\nBaby, lay on back and relax\\nKick you...\n",
       "3    [Verse]\\nSeventeen, you don't think that much ...\n",
       "4    [Intro]\\nYeah\\n\\n[Verse]\\nThat lit up, ringing...\n",
       "Name: Lyrics, dtype: object"
      ]
     },
     "execution_count": 5,
     "metadata": {},
     "output_type": "execute_result"
    }
   ],
   "source": [
    "# LOAD DATA\n",
    "country_data = pd.read_csv('cleaned_section_headers/country_lyrics_cleaned.csv')['Lyrics']\n",
    "hiphop_data = pd.read_csv('cleaned_section_headers/hiphop_lyrics_cleaned.csv')['Lyrics']\n",
    "pop_data = pd.read_csv('cleaned_section_headers/pop_lyrics_cleaned.csv')['Lyrics']\n",
    "rock_data = pd.read_csv('cleaned_section_headers/rock_lyrics_cleaned.csv')['Lyrics']\n",
    "\n",
    "\n",
    "frames = [country_data, hiphop_data, pop_data, rock_data]\n",
    "# frames = [frame['Lyrics'] for frame in frames]\n",
    "# # frames[1]\n",
    "# unencoded = pd.concat(frames)\n",
    "# # unencoded.head()[0]\n",
    "# frames\n",
    "country_data.head()[0]"
   ]
  },
  {
   "cell_type": "code",
   "execution_count": 15,
   "metadata": {},
   "outputs": [],
   "source": [
    "def rid_of_newlines(song):\n",
    "    song = song.strip()\n",
    "    print(song)\n",
    "    return song"
   ]
  },
  {
   "cell_type": "code",
   "execution_count": 18,
   "metadata": {},
   "outputs": [],
   "source": [
    "# MAKE Xs (via encodings)"
   ]
  },
  {
   "cell_type": "markdown",
   "metadata": {},
   "source": [
    "Encoding #1: one hot encoding"
   ]
  },
  {
   "cell_type": "code",
   "execution_count": 19,
   "metadata": {},
   "outputs": [
    {
     "name": "stdout",
     "output_type": "stream",
     "text": [
      "Current Time = 12:24:27\n",
      "Current Time = 12:24:33\n",
      "Current Time = 12:26:14\n",
      "Current Time = 12:27:16\n"
     ]
    }
   ],
   "source": [
    "# BREAKING DOWN SONGS and CREATE VOCAB\n",
    "country_x, hiphop_x, pop_x, rock_x = [], [], [], []\n",
    "xs = [country_x, hiphop_x, pop_x, rock_x]\n",
    "\n",
    "vocab = []\n",
    "\n",
    "for x, data in zip(xs, frames):\n",
    "    printnow()\n",
    "    for song in data:\n",
    "        unflattened = [_.split() for _ in song.split('\\n')]\n",
    "        flat_list = [item for sublist in unflattened for item in sublist]\n",
    "#         print(flat_list)\n",
    "        for word in flat_list:\n",
    "            if word not in vocab:\n",
    "                vocab.append(word)\n",
    "        x.append(flat_list)\n",
    "\n"
   ]
  },
  {
   "cell_type": "code",
   "execution_count": null,
   "metadata": {},
   "outputs": [
    {
     "name": "stdout",
     "output_type": "stream",
     "text": [
      "Current Time = 12:28:49\n",
      "Current Time = 12:32:34\n"
     ]
    }
   ],
   "source": [
    "# ENCODE SONGS\n",
    "def create_has_seen(song):\n",
    "    return [1 if word in song else 0 for word in vocab]\n",
    "\n",
    "# encoded versions of songs for each genre\n",
    "country_enc, hiphop_enc, pop_enc, rock_enc = [], [], [], []\n",
    "encs = [country_enc, hiphop_enc, pop_enc, rock_enc]\n",
    "\n",
    "for genre, enc in zip(xs, encs):\n",
    "    printnow()\n",
    "    for song in genre:\n",
    "        enc.append(create_has_seen(song))\n",
    "        "
   ]
  },
  {
   "cell_type": "code",
   "execution_count": 10,
   "metadata": {},
   "outputs": [],
   "source": [
    "# country_enc\n",
    "country_onehot_df = pd.DataFrame.from_records(country_enc)\n",
    "hiphop_onehot_df = pd.DataFrame.from_records(hiphop_enc)\n",
    "pop_onehot_df = pd.DataFrame.from_records(pop_enc)\n",
    "rock_onehot_df = pd.DataFrame.from_records(rock_enc)\n",
    "\n",
    "onehot_dfs = [country_encdf, hiphop_encdf, pop_encdf, rock_encdf]\n",
    "X = pd.concat(enc_dfs)"
   ]
  },
  {
   "cell_type": "code",
   "execution_count": 11,
   "metadata": {},
   "outputs": [
    {
     "data": {
      "text/html": [
       "<div>\n",
       "<style scoped>\n",
       "    .dataframe tbody tr th:only-of-type {\n",
       "        vertical-align: middle;\n",
       "    }\n",
       "\n",
       "    .dataframe tbody tr th {\n",
       "        vertical-align: top;\n",
       "    }\n",
       "\n",
       "    .dataframe thead th {\n",
       "        text-align: right;\n",
       "    }\n",
       "</style>\n",
       "<table border=\"1\" class=\"dataframe\">\n",
       "  <thead>\n",
       "    <tr style=\"text-align: right;\">\n",
       "      <th></th>\n",
       "      <th>0</th>\n",
       "      <th>1</th>\n",
       "      <th>2</th>\n",
       "      <th>3</th>\n",
       "      <th>4</th>\n",
       "      <th>5</th>\n",
       "      <th>6</th>\n",
       "      <th>7</th>\n",
       "      <th>8</th>\n",
       "      <th>9</th>\n",
       "      <th>...</th>\n",
       "      <th>59386</th>\n",
       "      <th>59387</th>\n",
       "      <th>59388</th>\n",
       "      <th>59389</th>\n",
       "      <th>59390</th>\n",
       "      <th>59391</th>\n",
       "      <th>59392</th>\n",
       "      <th>59393</th>\n",
       "      <th>59394</th>\n",
       "      <th>59395</th>\n",
       "    </tr>\n",
       "  </thead>\n",
       "  <tbody>\n",
       "    <tr>\n",
       "      <th>0</th>\n",
       "      <td>1</td>\n",
       "      <td>1</td>\n",
       "      <td>1</td>\n",
       "      <td>1</td>\n",
       "      <td>1</td>\n",
       "      <td>1</td>\n",
       "      <td>1</td>\n",
       "      <td>1</td>\n",
       "      <td>1</td>\n",
       "      <td>1</td>\n",
       "      <td>...</td>\n",
       "      <td>0</td>\n",
       "      <td>0</td>\n",
       "      <td>0</td>\n",
       "      <td>0</td>\n",
       "      <td>0</td>\n",
       "      <td>0</td>\n",
       "      <td>0</td>\n",
       "      <td>0</td>\n",
       "      <td>0</td>\n",
       "      <td>0</td>\n",
       "    </tr>\n",
       "    <tr>\n",
       "      <th>1</th>\n",
       "      <td>1</td>\n",
       "      <td>0</td>\n",
       "      <td>0</td>\n",
       "      <td>0</td>\n",
       "      <td>0</td>\n",
       "      <td>1</td>\n",
       "      <td>1</td>\n",
       "      <td>0</td>\n",
       "      <td>1</td>\n",
       "      <td>0</td>\n",
       "      <td>...</td>\n",
       "      <td>0</td>\n",
       "      <td>0</td>\n",
       "      <td>0</td>\n",
       "      <td>0</td>\n",
       "      <td>0</td>\n",
       "      <td>0</td>\n",
       "      <td>0</td>\n",
       "      <td>0</td>\n",
       "      <td>0</td>\n",
       "      <td>0</td>\n",
       "    </tr>\n",
       "    <tr>\n",
       "      <th>2</th>\n",
       "      <td>1</td>\n",
       "      <td>0</td>\n",
       "      <td>0</td>\n",
       "      <td>0</td>\n",
       "      <td>1</td>\n",
       "      <td>0</td>\n",
       "      <td>0</td>\n",
       "      <td>0</td>\n",
       "      <td>0</td>\n",
       "      <td>0</td>\n",
       "      <td>...</td>\n",
       "      <td>0</td>\n",
       "      <td>0</td>\n",
       "      <td>0</td>\n",
       "      <td>0</td>\n",
       "      <td>0</td>\n",
       "      <td>0</td>\n",
       "      <td>0</td>\n",
       "      <td>0</td>\n",
       "      <td>0</td>\n",
       "      <td>0</td>\n",
       "    </tr>\n",
       "    <tr>\n",
       "      <th>3</th>\n",
       "      <td>1</td>\n",
       "      <td>1</td>\n",
       "      <td>0</td>\n",
       "      <td>0</td>\n",
       "      <td>0</td>\n",
       "      <td>0</td>\n",
       "      <td>1</td>\n",
       "      <td>0</td>\n",
       "      <td>0</td>\n",
       "      <td>0</td>\n",
       "      <td>...</td>\n",
       "      <td>0</td>\n",
       "      <td>0</td>\n",
       "      <td>0</td>\n",
       "      <td>0</td>\n",
       "      <td>0</td>\n",
       "      <td>0</td>\n",
       "      <td>0</td>\n",
       "      <td>0</td>\n",
       "      <td>0</td>\n",
       "      <td>0</td>\n",
       "    </tr>\n",
       "    <tr>\n",
       "      <th>4</th>\n",
       "      <td>1</td>\n",
       "      <td>1</td>\n",
       "      <td>0</td>\n",
       "      <td>0</td>\n",
       "      <td>0</td>\n",
       "      <td>0</td>\n",
       "      <td>1</td>\n",
       "      <td>0</td>\n",
       "      <td>1</td>\n",
       "      <td>0</td>\n",
       "      <td>...</td>\n",
       "      <td>0</td>\n",
       "      <td>0</td>\n",
       "      <td>0</td>\n",
       "      <td>0</td>\n",
       "      <td>0</td>\n",
       "      <td>0</td>\n",
       "      <td>0</td>\n",
       "      <td>0</td>\n",
       "      <td>0</td>\n",
       "      <td>0</td>\n",
       "    </tr>\n",
       "  </tbody>\n",
       "</table>\n",
       "<p>5 rows × 59396 columns</p>\n",
       "</div>"
      ],
      "text/plain": [
       "   0      1      2      3      4      5      6      7      8      9      \\\n",
       "0      1      1      1      1      1      1      1      1      1      1   \n",
       "1      1      0      0      0      0      1      1      0      1      0   \n",
       "2      1      0      0      0      1      0      0      0      0      0   \n",
       "3      1      1      0      0      0      0      1      0      0      0   \n",
       "4      1      1      0      0      0      0      1      0      1      0   \n",
       "\n",
       "   ...    59386  59387  59388  59389  59390  59391  59392  59393  59394  59395  \n",
       "0  ...        0      0      0      0      0      0      0      0      0      0  \n",
       "1  ...        0      0      0      0      0      0      0      0      0      0  \n",
       "2  ...        0      0      0      0      0      0      0      0      0      0  \n",
       "3  ...        0      0      0      0      0      0      0      0      0      0  \n",
       "4  ...        0      0      0      0      0      0      0      0      0      0  \n",
       "\n",
       "[5 rows x 59396 columns]"
      ]
     },
     "execution_count": 11,
     "metadata": {},
     "output_type": "execute_result"
    }
   ],
   "source": [
    "country_encdf.head()"
   ]
  },
  {
   "cell_type": "code",
   "execution_count": 12,
   "metadata": {},
   "outputs": [],
   "source": [
    "# MAKE Ys\n",
    "country_y = [\"country\" for _ in frames[0]]\n",
    "hiphop_y = [\"hiphop\" for _ in frames[1]]\n",
    "pop_y = [\"pop\" for _ in frames[2]]\n",
    "rock_y = [\"rock\" for _ in frames[3]]\n",
    "\n",
    "# ys = pd.concat([country_y, hiphop_y, pop_y, rock_y])\n",
    "# frames[1]\n",
    "# country_y"
   ]
  },
  {
   "cell_type": "code",
   "execution_count": null,
   "metadata": {},
   "outputs": [],
   "source": [
    "# def make_ys(label):\n",
    "#     country_y2 = country_y\n",
    "#     hiphop_y2 = hiphop_y\n",
    "#     pop_y2 = pop_y\n",
    "#     rock_y2 = rock_y\n",
    "    \n",
    "#     if label == 'country':\n",
    "#         country_y2 = [1 for _ in frames[0]]     \n",
    "#     elif label == 'country':\n",
    "#         hiphop_y2 = [1 for _ in frames[1]]\n",
    "#     elif label == 'country':\n",
    "#         pop_y2 = [1 for _ in frames[2]]\n",
    "#     elif label == 'country':\n",
    "#         rock_y2 = [1 for _ in frames[3]]\n",
    "        \n",
    "#     result = country_y2 + hiphop_y2 + pop_y2 + rock_y2\n",
    "#     return result\n",
    "\n",
    "    "
   ]
  },
  {
   "cell_type": "code",
   "execution_count": null,
   "metadata": {},
   "outputs": [
    {
     "name": "stdout",
     "output_type": "stream",
     "text": [
      "Current Time = 15:17:33\n",
      "countrycountrycountrycountrycountrycountrycountrycountrycountrycountry\n",
      "Current Time = 15:17:33\n"
     ]
    }
   ],
   "source": [
    "# ASSESS EACH CLASSIFIER, PRINT SCORES (all other parts must be completed first)\n",
    "printnow()\n",
    "labels = ['country','hiphop', 'pop', 'rock']\n",
    "\n",
    "for label in labels:\n",
    "    print(label * 10)\n",
    "    Y = make_ys(label)\n",
    "\n",
    "    for name, clf in zip(names, classifiers):\n",
    "        printnow()\n",
    "        \n",
    "        for i in range(0,3):\n",
    "            \n",
    "\n",
    "            X_train, X_test, Y_train, Y_test = train_test_split(X, Y, test_size=0.1, random_state=i)\n",
    "            \n",
    "            \n",
    "            clf.fit(X_train, Y_train)\n",
    "\n",
    "            y_pred = clf.predict(X_test)\n",
    "            accuracy = accuracy_score(Y_test, y_pred) # not normalized, gives float (percentage)\n",
    "            recall = recall_score(Y_test, y_pred, average='macro') # unweighted average taken\n",
    "            precision = precision_score(Y_test, y_pred, average='macro') # unweighted average taken\n",
    "            \n",
    "            def fancy(x):\n",
    "                print(('%.2f' % x).lstrip('0'))   \n",
    "            \n",
    "            # some print function (or print to file)\n",
    "            print(name, \": \",\n",
    "                  \"\\tscore: \", fancy(accuracy),\n",
    "                  \"\\trecall: \", fancy(recall),\n",
    "                  \"\\tprecision: \", fancy(precision),\n",
    "                  \"\\t\", str(i), \"th iteration\")\n",
    "printnow()                    "
   ]
  },
  {
   "cell_type": "code",
   "execution_count": null,
   "metadata": {},
   "outputs": [],
   "source": []
  }
 ],
 "metadata": {
  "kernelspec": {
   "display_name": "Python 3",
   "language": "python",
   "name": "python3"
  },
  "language_info": {
   "codemirror_mode": {
    "name": "ipython",
    "version": 3
   },
   "file_extension": ".py",
   "mimetype": "text/x-python",
   "name": "python",
   "nbconvert_exporter": "python",
   "pygments_lexer": "ipython3",
   "version": "3.7.1"
  }
 },
 "nbformat": 4,
 "nbformat_minor": 2
}
