{
 "cells": [
  {
   "cell_type": "code",
   "execution_count": 1,
   "metadata": {},
   "outputs": [],
   "source": [
    "import billboard\n",
    "import pandas as pd"
   ]
  },
  {
   "cell_type": "code",
   "execution_count": 2,
   "metadata": {},
   "outputs": [],
   "source": [
    "#create a list of dates given number of years. Will return dates in January, April, August, December\n",
    "#Format: YYYY-MM-DD\n",
    "def create_date_list(curr_year, num_years):\n",
    "    #make sure charts exist\n",
    "    start_year = curr_year - 1\n",
    "    end_year = start_year - num_years \n",
    "    months = [\"01-01\", \"04-01\", \"08-01\",\"12-01\"]\n",
    "    total_dates = []\n",
    "    #moving backwards through years\n",
    "    for i in range(start_year, end_year, -1):\n",
    "        for month in months:\n",
    "            total_dates.append(str(i)+ \"-\" + month)\n",
    "    return total_dates\n",
    "\n",
    "def split_entry(entry):\n",
    "    arr = entry.split(\"by\")\n",
    "    return [arr[0].strip().strip('\\''), arr[1].strip()]\n",
    "\n",
    "\n",
    "#parse a chart to enter into a dataframe\n",
    "def parse_chart(chart):\n",
    "    chart_dict = {}\n",
    "    for index in range(len(chart)):\n",
    "        curr_song = split_entry(str(chart[index]))\n",
    "        song_dict = {}\n",
    "        song_dict[\"Title\"] = curr_song[0]\n",
    "        song_dict[\"Artist\"] = curr_song[1]\n",
    "        chart_dict[index]= song_dict\n",
    "    return chart_dict"
   ]
  },
  {
   "cell_type": "code",
   "execution_count": 3,
   "metadata": {},
   "outputs": [],
   "source": [
    "#will return a dataframe containing all song's title and artist from the start year and backwards num_years at 4 times\n",
    "#througout the year\n",
    "def chart_main(chart_name, start_year, num_years):\n",
    "    #initialize complete DataFrame\n",
    "    data = pd.DataFrame(columns = [\"Title\", \"Artist\"])\n",
    "    #get list of dates to get charts from\n",
    "    dates_list = create_date_list(start_year, num_years)\n",
    "    #get all charts at dates in date_list and parse into dataframe\n",
    "    for date in dates_list:\n",
    "        try:\n",
    "            chart = billboard.ChartData(chart_name, date)\n",
    "        except:\n",
    "            continue\n",
    "        entry = parse_chart(chart)\n",
    "        for i in range(len(entry)):\n",
    "            data = data.append(entry[i], ignore_index=True)\n",
    "    return data"
   ]
  }
 ],
 "metadata": {
  "kernelspec": {
   "display_name": "Python 3",
   "language": "python",
   "name": "python3"
  },
  "language_info": {
   "codemirror_mode": {
    "name": "ipython",
    "version": 3
   },
   "file_extension": ".py",
   "mimetype": "text/x-python",
   "name": "python",
   "nbconvert_exporter": "python",
   "pygments_lexer": "ipython3",
   "version": "3.7.1"
  }
 },
 "nbformat": 4,
 "nbformat_minor": 4
}
